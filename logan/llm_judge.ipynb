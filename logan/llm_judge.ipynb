{
 "cells": [
  {
   "cell_type": "code",
   "execution_count": 6,
   "metadata": {},
   "outputs": [],
   "source": [
    "from groq import Groq\n",
    "import os\n",
    "import sys\n",
    "import anthropic\n",
    "import ollama\n",
    "import random\n",
    "import pandas as pd\n",
    "from tqdm import tqdm\n",
    "from google.generativeai.types import RequestOptions\n",
    "from google.api_core import retry\n",
    "from typing import List, Tuple\n",
    "import json\n",
    "from openai import OpenAI\n",
    "import datetime\n",
    "import openai\n",
    "import time\n",
    "import re\n",
    "from tqdm import tqdm\n",
    "from together import Together"
   ]
  },
  {
   "cell_type": "code",
   "execution_count": 7,
   "metadata": {},
   "outputs": [],
   "source": [
    "def query_llama_70b(prompt):\n",
    "    client = openai.OpenAI(\n",
    "        api_key=os.environ.get(\"SAMBANOVA_API_KEY\"),\n",
    "        base_url=\"https://api.sambanova.ai/v1\",\n",
    "    )\n",
    "\n",
    "    response = client.chat.completions.create(\n",
    "        model='Meta-Llama-3.1-70B-Instruct',\n",
    "            messages=[\n",
    "                {\n",
    "                    \"role\": \"user\",\n",
    "                    \"content\": prompt,\n",
    "                }\n",
    "            ],\n",
    "        temperature=0.1, \n",
    "        top_p = 0.9 # Meta default\n",
    "    )\n",
    "    time.sleep(8)  # Pause execution for 2 seconds\n",
    "    return response.choices[0].message.content\n",
    "\n",
    "def query_llama_405b(prompt):\n",
    "    client = openai.OpenAI(\n",
    "        api_key=os.environ.get(\"SAMBANOVA_API_KEY\"),\n",
    "        base_url=\"https://api.sambanova.ai/v1\",\n",
    "    )\n",
    "\n",
    "    response = client.chat.completions.create(\n",
    "        model='Meta-Llama-3.1-405B-Instruct',\n",
    "            messages=[\n",
    "                {\n",
    "                    \"role\": \"user\",\n",
    "                    \"content\": prompt,\n",
    "                }\n",
    "            ],\n",
    "        temperature=0.1, \n",
    "        top_p = 0.9 # Meta default\n",
    "    )\n",
    "    time.sleep(15)  # Pause execution for 2 seconds\n",
    "    return response.choices[0].message.content\n",
    "\n",
    "def query_llama_8b(prompt):\n",
    "    client = openai.OpenAI(\n",
    "        api_key=os.environ.get(\"SAMBANOVA_API_KEY\"),\n",
    "        base_url=\"https://api.sambanova.ai/v1\",\n",
    "    )\n",
    "\n",
    "    response = client.chat.completions.create(\n",
    "        model='Meta-Llama-3.1-8B-Instruct',\n",
    "            messages=[\n",
    "                {\n",
    "                    \"role\": \"user\",\n",
    "                    \"content\": prompt,\n",
    "                }\n",
    "            ],\n",
    "        temperature=0.1, \n",
    "        top_p = 0.9 # Meta default\n",
    "    )\n",
    "    time.sleep(4)  # Pause execution for 2 seconds\n",
    "    return response.choices[0].message.content\n",
    "def query_together(prompt):\n",
    "    client = Together()\n",
    "\n",
    "    response = client.chat.completions.create(\n",
    "        model=\"meta-llama/Llama-3.3-70B-Instruct-Turbo\",\n",
    "        messages=[{\"role\": \"user\", \"content\": prompt}]\n",
    "    )\n",
    "    # print(prompt)\n",
    "    return response.choices[0].message.content"
   ]
  },
  {
   "cell_type": "code",
   "execution_count": 8,
   "metadata": {},
   "outputs": [],
   "source": [
    "judge_prompt = \"\"\"\n",
    "You are an expert mathematical evaluator tasked with determining the correctness of solutions to mathematical problems. Your role is to compare a proposed solution to the expected solution (referred to as \"Ground Truth\") and decide whether the Answer is CORRECT or INCORRECT.\n",
    "\n",
    "An answer is considered correct if the final result is equivalent to the Ground Truth. If the final result is not simplified, but mathematically equivalent to the Ground Truth, it should still be considered correct. For example, 2/4 is mathematically equivalent to 1/2. Output only the words \"{CORRECT}\" or \"{INCORRECT}\" in your response. Do not attempt to solve the problem.\n",
    "\n",
    "## Example 1\n",
    "Formatted Question: If $<fact1>2^8</fact1>=<fact2>4^x</fact2>$, what is the value of $<fact3>x</fact3>$?\n",
    "\n",
    "Answer: We can rewrite $<fact2>4^x</fact2>$ as $(<fact4>2^2</fact4>)^x=<fact5>2^{2x}</fact5>$. Thus, we have $<fact1>2^8</fact1>=<fact5>2^{2x}</fact5>$. Since the bases are the same, the exponents must be equal, so $<fact6>8=2x</fact6>$. Solving for $<fact3>x</fact3>$, we find $<fact3>x</fact3>=<fact6>8/2</fact6>=<fact7>4</fact7>$\n",
    "\n",
    "Ground Truth: 4\n",
    "\n",
    "Judge Answer: {CORRECT}\n",
    "\n",
    "Example 2:\n",
    "\n",
    "What is the sum of all values of $y$ for which the expression $\\\\frac{y+6}{y^2-5y+4}$ is undefined?\n",
    "Answer: The given expression is undefined when the denominator is zero. Thus, we want to find the sum of the zeros $y$ to the quadratic $y^2-5y+4$. Since for a quadratic with the equation $ax^2+bx+c=0$, the sum of the solutions is $-b/a$, the sum of the zeros of the quadratic $y^2-5y+4$ is $5/1=\\\\boxed{5}$.\n",
    "\n",
    "Ground Truth: 5\n",
    "\n",
    "Judge Answer: {CORRECT}\n",
    "\n",
    "## Example 3\n",
    "\n",
    "Answer: More generally, suppose $(a_i),$ $(b_i),$ $(c_i)$ represent the entries in rows $n - 1,$ $n,$ $n + 1$ of Pascal's triangle.  Then\\n\\\\[a_i = \\\\binom{n - 1}{i}, \\\\ b_i = \\\\binom{n}{i}, \\\\ c_i = \\\\binom{n + 1}{i},\\\\]so\\n\\\\begin{align*}\\n\\\\frac{a_i}{b_i} &= \\\\frac{\\\\binom{n - 1}{i}}{\\\\binom{n}{i}} \\\\\\\\\\n&= \\\\frac{\\\\frac{(n - 1)!}{i! (n - i - 1)!}}{\\\\frac{n!}{i! (n - i)!}} \\\\\\\\\\n&= \\\\frac{(n - 1)! (n - i)!}{n! (n - i - 1)!} \\\\\\\\\\n&= \\\\frac{n - i}{n} \\\\\\\\\\n&= 1 - \\\\frac{i}{n}.\\n\\\\end{align*}Hence,\\n\\\\begin{align*}\\n\\\\sum_{i = 0}^{n - 1} \\\\frac{a_i}{b_i} &= \\\\sum_{i = 0}^{n - 1} \\\\left( 1 - \\\\frac{i}{n} \\\\right) \\\\\\\\\\n&= n - \\\\frac{(n - 1)n/2}{n} \\\\\\\\\\n&= n - \\\\frac{n - 1}{2} = \\\\frac{n + 1}{2}.\\n\\\\end{align*}Likewise,\\n\\\\[\\\\frac{b_i}{c_i} = 1 - \\\\frac{i}{n + 1},\\\\]and\\n\\\\[\\\\sum_{i = 0}^n \\\\frac{b_i}{c_i} = \\\\frac{n + 2}{2}.\\\\]Hence,\\n\\\\[\\\\sum_{i = 0}^n \\\\frac{b_i}{c_i} - \\\\sum_{i = 0}^{n - 1} \\\\frac{a_i}{b_i} = \\\\frac{n + 2}{2} - \\\\frac{n + 1}{2} = \\\\boxed{\\\\frac{1}{2}}.\\\\]\n",
    "\n",
    "Ground Truth: \\\\frac{1}{3}\n",
    "\n",
    "Judge Answer: {INCORRECT}\n",
    "\n",
    "--------------------------------\n",
    "\n",
    "Judge if the following solution is correct or incorrect:\n",
    "\"\"\""
   ]
  },
  {
   "cell_type": "code",
   "execution_count": 9,
   "metadata": {},
   "outputs": [],
   "source": [
    "def save_results(save_path: str, ids: List[str], questions: List[str], responses: List[str], gts, answers, append: bool = False):\n",
    "    df = pd.DataFrame({'id': ids, 'question': questions, 'response': responses, 'gt': gts, 'answer': answers})\n",
    "    if append and os.path.exists(save_path):\n",
    "        df.to_csv(save_path, mode='a', index=False, header=False)\n",
    "    else:\n",
    "        df.to_csv(save_path, index=False)"
   ]
  },
  {
   "cell_type": "code",
   "execution_count": null,
   "metadata": {},
   "outputs": [
    {
     "name": "stderr",
     "output_type": "stream",
     "text": [
      "Processing answers:   0%|          | 0/200 [00:00<?, ?it/s]"
     ]
    },
    {
     "name": "stderr",
     "output_type": "stream",
     "text": [
      "Processing answers:   0%|          | 0/200 [00:03<?, ?it/s]\n"
     ]
    },
    {
     "ename": "RateLimitError",
     "evalue": "Error code: 429 - {'error': {'code': None, 'message': 'Rate limit exceeded', 'param': None, 'type': 'rate_limit_exceeded'}}",
     "output_type": "error",
     "traceback": [
      "\u001b[0;31m---------------------------------------------------------------------------\u001b[0m",
      "\u001b[0;31mRateLimitError\u001b[0m                            Traceback (most recent call last)",
      "Cell \u001b[0;32mIn[13], line 20\u001b[0m\n\u001b[1;32m     17\u001b[0m prompt \u001b[38;5;241m=\u001b[39m \u001b[38;5;124mf\u001b[39m\u001b[38;5;124m\"\u001b[39m\u001b[38;5;132;01m{\u001b[39;00mjudge_prompt\u001b[38;5;132;01m}\u001b[39;00m\u001b[38;5;130;01m\\n\u001b[39;00m\u001b[38;5;132;01m{\u001b[39;00manswer\u001b[38;5;132;01m}\u001b[39;00m\u001b[38;5;130;01m\\n\u001b[39;00m\u001b[38;5;130;01m\\n\u001b[39;00m\u001b[38;5;132;01m{\u001b[39;00mgt\u001b[38;5;132;01m}\u001b[39;00m\u001b[38;5;124m\"\u001b[39m\n\u001b[1;32m     18\u001b[0m \u001b[38;5;66;03m# print(prompt)\u001b[39;00m\n\u001b[1;32m     19\u001b[0m \u001b[38;5;66;03m# print(\"------------------------------------------------------------------\")\u001b[39;00m\n\u001b[0;32m---> 20\u001b[0m response \u001b[38;5;241m=\u001b[39m query_llama_70b(prompt)\n\u001b[1;32m     22\u001b[0m ids\u001b[38;5;241m.\u001b[39mappend(row[\u001b[38;5;124m'\u001b[39m\u001b[38;5;124mid\u001b[39m\u001b[38;5;124m'\u001b[39m])\n\u001b[1;32m     23\u001b[0m questions\u001b[38;5;241m.\u001b[39mappend(question)\n",
      "Cell \u001b[0;32mIn[7], line 7\u001b[0m, in \u001b[0;36mquery_llama_70b\u001b[0;34m(prompt)\u001b[0m\n\u001b[1;32m      1\u001b[0m \u001b[38;5;28;01mdef\u001b[39;00m \u001b[38;5;21mquery_llama_70b\u001b[39m(prompt):\n\u001b[1;32m      2\u001b[0m     client \u001b[38;5;241m=\u001b[39m openai\u001b[38;5;241m.\u001b[39mOpenAI(\n\u001b[1;32m      3\u001b[0m         api_key\u001b[38;5;241m=\u001b[39mos\u001b[38;5;241m.\u001b[39menviron\u001b[38;5;241m.\u001b[39mget(\u001b[38;5;124m\"\u001b[39m\u001b[38;5;124mSAMBANOVA_API_KEY\u001b[39m\u001b[38;5;124m\"\u001b[39m),\n\u001b[1;32m      4\u001b[0m         base_url\u001b[38;5;241m=\u001b[39m\u001b[38;5;124m\"\u001b[39m\u001b[38;5;124mhttps://api.sambanova.ai/v1\u001b[39m\u001b[38;5;124m\"\u001b[39m,\n\u001b[1;32m      5\u001b[0m     )\n\u001b[0;32m----> 7\u001b[0m     response \u001b[38;5;241m=\u001b[39m client\u001b[38;5;241m.\u001b[39mchat\u001b[38;5;241m.\u001b[39mcompletions\u001b[38;5;241m.\u001b[39mcreate(\n\u001b[1;32m      8\u001b[0m         model\u001b[38;5;241m=\u001b[39m\u001b[38;5;124m'\u001b[39m\u001b[38;5;124mMeta-Llama-3.1-70B-Instruct\u001b[39m\u001b[38;5;124m'\u001b[39m,\n\u001b[1;32m      9\u001b[0m             messages\u001b[38;5;241m=\u001b[39m[\n\u001b[1;32m     10\u001b[0m                 {\n\u001b[1;32m     11\u001b[0m                     \u001b[38;5;124m\"\u001b[39m\u001b[38;5;124mrole\u001b[39m\u001b[38;5;124m\"\u001b[39m: \u001b[38;5;124m\"\u001b[39m\u001b[38;5;124muser\u001b[39m\u001b[38;5;124m\"\u001b[39m,\n\u001b[1;32m     12\u001b[0m                     \u001b[38;5;124m\"\u001b[39m\u001b[38;5;124mcontent\u001b[39m\u001b[38;5;124m\"\u001b[39m: prompt,\n\u001b[1;32m     13\u001b[0m                 }\n\u001b[1;32m     14\u001b[0m             ],\n\u001b[1;32m     15\u001b[0m         temperature\u001b[38;5;241m=\u001b[39m\u001b[38;5;241m0.1\u001b[39m, \n\u001b[1;32m     16\u001b[0m         top_p \u001b[38;5;241m=\u001b[39m \u001b[38;5;241m0.9\u001b[39m \u001b[38;5;66;03m# Meta default\u001b[39;00m\n\u001b[1;32m     17\u001b[0m     )\n\u001b[1;32m     18\u001b[0m     time\u001b[38;5;241m.\u001b[39msleep(\u001b[38;5;241m8\u001b[39m)  \u001b[38;5;66;03m# Pause execution for 2 seconds\u001b[39;00m\n\u001b[1;32m     19\u001b[0m     \u001b[38;5;28;01mreturn\u001b[39;00m response\u001b[38;5;241m.\u001b[39mchoices[\u001b[38;5;241m0\u001b[39m]\u001b[38;5;241m.\u001b[39mmessage\u001b[38;5;241m.\u001b[39mcontent\n",
      "File \u001b[0;32m/opt/anaconda3/lib/python3.12/site-packages/openai/_utils/_utils.py:277\u001b[0m, in \u001b[0;36mrequired_args.<locals>.inner.<locals>.wrapper\u001b[0;34m(*args, **kwargs)\u001b[0m\n\u001b[1;32m    275\u001b[0m             msg \u001b[38;5;241m=\u001b[39m \u001b[38;5;124mf\u001b[39m\u001b[38;5;124m\"\u001b[39m\u001b[38;5;124mMissing required argument: \u001b[39m\u001b[38;5;132;01m{\u001b[39;00mquote(missing[\u001b[38;5;241m0\u001b[39m])\u001b[38;5;132;01m}\u001b[39;00m\u001b[38;5;124m\"\u001b[39m\n\u001b[1;32m    276\u001b[0m     \u001b[38;5;28;01mraise\u001b[39;00m \u001b[38;5;167;01mTypeError\u001b[39;00m(msg)\n\u001b[0;32m--> 277\u001b[0m \u001b[38;5;28;01mreturn\u001b[39;00m func(\u001b[38;5;241m*\u001b[39margs, \u001b[38;5;241m*\u001b[39m\u001b[38;5;241m*\u001b[39mkwargs)\n",
      "File \u001b[0;32m/opt/anaconda3/lib/python3.12/site-packages/openai/resources/chat/completions.py:646\u001b[0m, in \u001b[0;36mCompletions.create\u001b[0;34m(self, messages, model, frequency_penalty, function_call, functions, logit_bias, logprobs, max_tokens, n, parallel_tool_calls, presence_penalty, response_format, seed, service_tier, stop, stream, stream_options, temperature, tool_choice, tools, top_logprobs, top_p, user, extra_headers, extra_query, extra_body, timeout)\u001b[0m\n\u001b[1;32m    612\u001b[0m \u001b[38;5;129m@required_args\u001b[39m([\u001b[38;5;124m\"\u001b[39m\u001b[38;5;124mmessages\u001b[39m\u001b[38;5;124m\"\u001b[39m, \u001b[38;5;124m\"\u001b[39m\u001b[38;5;124mmodel\u001b[39m\u001b[38;5;124m\"\u001b[39m], [\u001b[38;5;124m\"\u001b[39m\u001b[38;5;124mmessages\u001b[39m\u001b[38;5;124m\"\u001b[39m, \u001b[38;5;124m\"\u001b[39m\u001b[38;5;124mmodel\u001b[39m\u001b[38;5;124m\"\u001b[39m, \u001b[38;5;124m\"\u001b[39m\u001b[38;5;124mstream\u001b[39m\u001b[38;5;124m\"\u001b[39m])\n\u001b[1;32m    613\u001b[0m \u001b[38;5;28;01mdef\u001b[39;00m \u001b[38;5;21mcreate\u001b[39m(\n\u001b[1;32m    614\u001b[0m     \u001b[38;5;28mself\u001b[39m,\n\u001b[0;32m   (...)\u001b[0m\n\u001b[1;32m    644\u001b[0m     timeout: \u001b[38;5;28mfloat\u001b[39m \u001b[38;5;241m|\u001b[39m httpx\u001b[38;5;241m.\u001b[39mTimeout \u001b[38;5;241m|\u001b[39m \u001b[38;5;28;01mNone\u001b[39;00m \u001b[38;5;241m|\u001b[39m NotGiven \u001b[38;5;241m=\u001b[39m NOT_GIVEN,\n\u001b[1;32m    645\u001b[0m ) \u001b[38;5;241m-\u001b[39m\u001b[38;5;241m>\u001b[39m ChatCompletion \u001b[38;5;241m|\u001b[39m Stream[ChatCompletionChunk]:\n\u001b[0;32m--> 646\u001b[0m     \u001b[38;5;28;01mreturn\u001b[39;00m \u001b[38;5;28mself\u001b[39m\u001b[38;5;241m.\u001b[39m_post(\n\u001b[1;32m    647\u001b[0m         \u001b[38;5;124m\"\u001b[39m\u001b[38;5;124m/chat/completions\u001b[39m\u001b[38;5;124m\"\u001b[39m,\n\u001b[1;32m    648\u001b[0m         body\u001b[38;5;241m=\u001b[39mmaybe_transform(\n\u001b[1;32m    649\u001b[0m             {\n\u001b[1;32m    650\u001b[0m                 \u001b[38;5;124m\"\u001b[39m\u001b[38;5;124mmessages\u001b[39m\u001b[38;5;124m\"\u001b[39m: messages,\n\u001b[1;32m    651\u001b[0m                 \u001b[38;5;124m\"\u001b[39m\u001b[38;5;124mmodel\u001b[39m\u001b[38;5;124m\"\u001b[39m: model,\n\u001b[1;32m    652\u001b[0m                 \u001b[38;5;124m\"\u001b[39m\u001b[38;5;124mfrequency_penalty\u001b[39m\u001b[38;5;124m\"\u001b[39m: frequency_penalty,\n\u001b[1;32m    653\u001b[0m                 \u001b[38;5;124m\"\u001b[39m\u001b[38;5;124mfunction_call\u001b[39m\u001b[38;5;124m\"\u001b[39m: function_call,\n\u001b[1;32m    654\u001b[0m                 \u001b[38;5;124m\"\u001b[39m\u001b[38;5;124mfunctions\u001b[39m\u001b[38;5;124m\"\u001b[39m: functions,\n\u001b[1;32m    655\u001b[0m                 \u001b[38;5;124m\"\u001b[39m\u001b[38;5;124mlogit_bias\u001b[39m\u001b[38;5;124m\"\u001b[39m: logit_bias,\n\u001b[1;32m    656\u001b[0m                 \u001b[38;5;124m\"\u001b[39m\u001b[38;5;124mlogprobs\u001b[39m\u001b[38;5;124m\"\u001b[39m: logprobs,\n\u001b[1;32m    657\u001b[0m                 \u001b[38;5;124m\"\u001b[39m\u001b[38;5;124mmax_tokens\u001b[39m\u001b[38;5;124m\"\u001b[39m: max_tokens,\n\u001b[1;32m    658\u001b[0m                 \u001b[38;5;124m\"\u001b[39m\u001b[38;5;124mn\u001b[39m\u001b[38;5;124m\"\u001b[39m: n,\n\u001b[1;32m    659\u001b[0m                 \u001b[38;5;124m\"\u001b[39m\u001b[38;5;124mparallel_tool_calls\u001b[39m\u001b[38;5;124m\"\u001b[39m: parallel_tool_calls,\n\u001b[1;32m    660\u001b[0m                 \u001b[38;5;124m\"\u001b[39m\u001b[38;5;124mpresence_penalty\u001b[39m\u001b[38;5;124m\"\u001b[39m: presence_penalty,\n\u001b[1;32m    661\u001b[0m                 \u001b[38;5;124m\"\u001b[39m\u001b[38;5;124mresponse_format\u001b[39m\u001b[38;5;124m\"\u001b[39m: response_format,\n\u001b[1;32m    662\u001b[0m                 \u001b[38;5;124m\"\u001b[39m\u001b[38;5;124mseed\u001b[39m\u001b[38;5;124m\"\u001b[39m: seed,\n\u001b[1;32m    663\u001b[0m                 \u001b[38;5;124m\"\u001b[39m\u001b[38;5;124mservice_tier\u001b[39m\u001b[38;5;124m\"\u001b[39m: service_tier,\n\u001b[1;32m    664\u001b[0m                 \u001b[38;5;124m\"\u001b[39m\u001b[38;5;124mstop\u001b[39m\u001b[38;5;124m\"\u001b[39m: stop,\n\u001b[1;32m    665\u001b[0m                 \u001b[38;5;124m\"\u001b[39m\u001b[38;5;124mstream\u001b[39m\u001b[38;5;124m\"\u001b[39m: stream,\n\u001b[1;32m    666\u001b[0m                 \u001b[38;5;124m\"\u001b[39m\u001b[38;5;124mstream_options\u001b[39m\u001b[38;5;124m\"\u001b[39m: stream_options,\n\u001b[1;32m    667\u001b[0m                 \u001b[38;5;124m\"\u001b[39m\u001b[38;5;124mtemperature\u001b[39m\u001b[38;5;124m\"\u001b[39m: temperature,\n\u001b[1;32m    668\u001b[0m                 \u001b[38;5;124m\"\u001b[39m\u001b[38;5;124mtool_choice\u001b[39m\u001b[38;5;124m\"\u001b[39m: tool_choice,\n\u001b[1;32m    669\u001b[0m                 \u001b[38;5;124m\"\u001b[39m\u001b[38;5;124mtools\u001b[39m\u001b[38;5;124m\"\u001b[39m: tools,\n\u001b[1;32m    670\u001b[0m                 \u001b[38;5;124m\"\u001b[39m\u001b[38;5;124mtop_logprobs\u001b[39m\u001b[38;5;124m\"\u001b[39m: top_logprobs,\n\u001b[1;32m    671\u001b[0m                 \u001b[38;5;124m\"\u001b[39m\u001b[38;5;124mtop_p\u001b[39m\u001b[38;5;124m\"\u001b[39m: top_p,\n\u001b[1;32m    672\u001b[0m                 \u001b[38;5;124m\"\u001b[39m\u001b[38;5;124muser\u001b[39m\u001b[38;5;124m\"\u001b[39m: user,\n\u001b[1;32m    673\u001b[0m             },\n\u001b[1;32m    674\u001b[0m             completion_create_params\u001b[38;5;241m.\u001b[39mCompletionCreateParams,\n\u001b[1;32m    675\u001b[0m         ),\n\u001b[1;32m    676\u001b[0m         options\u001b[38;5;241m=\u001b[39mmake_request_options(\n\u001b[1;32m    677\u001b[0m             extra_headers\u001b[38;5;241m=\u001b[39mextra_headers, extra_query\u001b[38;5;241m=\u001b[39mextra_query, extra_body\u001b[38;5;241m=\u001b[39mextra_body, timeout\u001b[38;5;241m=\u001b[39mtimeout\n\u001b[1;32m    678\u001b[0m         ),\n\u001b[1;32m    679\u001b[0m         cast_to\u001b[38;5;241m=\u001b[39mChatCompletion,\n\u001b[1;32m    680\u001b[0m         stream\u001b[38;5;241m=\u001b[39mstream \u001b[38;5;129;01mor\u001b[39;00m \u001b[38;5;28;01mFalse\u001b[39;00m,\n\u001b[1;32m    681\u001b[0m         stream_cls\u001b[38;5;241m=\u001b[39mStream[ChatCompletionChunk],\n\u001b[1;32m    682\u001b[0m     )\n",
      "File \u001b[0;32m/opt/anaconda3/lib/python3.12/site-packages/openai/_base_client.py:1271\u001b[0m, in \u001b[0;36mSyncAPIClient.post\u001b[0;34m(self, path, cast_to, body, options, files, stream, stream_cls)\u001b[0m\n\u001b[1;32m   1257\u001b[0m \u001b[38;5;28;01mdef\u001b[39;00m \u001b[38;5;21mpost\u001b[39m(\n\u001b[1;32m   1258\u001b[0m     \u001b[38;5;28mself\u001b[39m,\n\u001b[1;32m   1259\u001b[0m     path: \u001b[38;5;28mstr\u001b[39m,\n\u001b[0;32m   (...)\u001b[0m\n\u001b[1;32m   1266\u001b[0m     stream_cls: \u001b[38;5;28mtype\u001b[39m[_StreamT] \u001b[38;5;241m|\u001b[39m \u001b[38;5;28;01mNone\u001b[39;00m \u001b[38;5;241m=\u001b[39m \u001b[38;5;28;01mNone\u001b[39;00m,\n\u001b[1;32m   1267\u001b[0m ) \u001b[38;5;241m-\u001b[39m\u001b[38;5;241m>\u001b[39m ResponseT \u001b[38;5;241m|\u001b[39m _StreamT:\n\u001b[1;32m   1268\u001b[0m     opts \u001b[38;5;241m=\u001b[39m FinalRequestOptions\u001b[38;5;241m.\u001b[39mconstruct(\n\u001b[1;32m   1269\u001b[0m         method\u001b[38;5;241m=\u001b[39m\u001b[38;5;124m\"\u001b[39m\u001b[38;5;124mpost\u001b[39m\u001b[38;5;124m\"\u001b[39m, url\u001b[38;5;241m=\u001b[39mpath, json_data\u001b[38;5;241m=\u001b[39mbody, files\u001b[38;5;241m=\u001b[39mto_httpx_files(files), \u001b[38;5;241m*\u001b[39m\u001b[38;5;241m*\u001b[39moptions\n\u001b[1;32m   1270\u001b[0m     )\n\u001b[0;32m-> 1271\u001b[0m     \u001b[38;5;28;01mreturn\u001b[39;00m cast(ResponseT, \u001b[38;5;28mself\u001b[39m\u001b[38;5;241m.\u001b[39mrequest(cast_to, opts, stream\u001b[38;5;241m=\u001b[39mstream, stream_cls\u001b[38;5;241m=\u001b[39mstream_cls))\n",
      "File \u001b[0;32m/opt/anaconda3/lib/python3.12/site-packages/openai/_base_client.py:942\u001b[0m, in \u001b[0;36mSyncAPIClient.request\u001b[0;34m(self, cast_to, options, remaining_retries, stream, stream_cls)\u001b[0m\n\u001b[1;32m    933\u001b[0m \u001b[38;5;28;01mdef\u001b[39;00m \u001b[38;5;21mrequest\u001b[39m(\n\u001b[1;32m    934\u001b[0m     \u001b[38;5;28mself\u001b[39m,\n\u001b[1;32m    935\u001b[0m     cast_to: Type[ResponseT],\n\u001b[0;32m   (...)\u001b[0m\n\u001b[1;32m    940\u001b[0m     stream_cls: \u001b[38;5;28mtype\u001b[39m[_StreamT] \u001b[38;5;241m|\u001b[39m \u001b[38;5;28;01mNone\u001b[39;00m \u001b[38;5;241m=\u001b[39m \u001b[38;5;28;01mNone\u001b[39;00m,\n\u001b[1;32m    941\u001b[0m ) \u001b[38;5;241m-\u001b[39m\u001b[38;5;241m>\u001b[39m ResponseT \u001b[38;5;241m|\u001b[39m _StreamT:\n\u001b[0;32m--> 942\u001b[0m     \u001b[38;5;28;01mreturn\u001b[39;00m \u001b[38;5;28mself\u001b[39m\u001b[38;5;241m.\u001b[39m_request(\n\u001b[1;32m    943\u001b[0m         cast_to\u001b[38;5;241m=\u001b[39mcast_to,\n\u001b[1;32m    944\u001b[0m         options\u001b[38;5;241m=\u001b[39moptions,\n\u001b[1;32m    945\u001b[0m         stream\u001b[38;5;241m=\u001b[39mstream,\n\u001b[1;32m    946\u001b[0m         stream_cls\u001b[38;5;241m=\u001b[39mstream_cls,\n\u001b[1;32m    947\u001b[0m         remaining_retries\u001b[38;5;241m=\u001b[39mremaining_retries,\n\u001b[1;32m    948\u001b[0m     )\n",
      "File \u001b[0;32m/opt/anaconda3/lib/python3.12/site-packages/openai/_base_client.py:1031\u001b[0m, in \u001b[0;36mSyncAPIClient._request\u001b[0;34m(self, cast_to, options, remaining_retries, stream, stream_cls)\u001b[0m\n\u001b[1;32m   1029\u001b[0m \u001b[38;5;28;01mif\u001b[39;00m retries \u001b[38;5;241m>\u001b[39m \u001b[38;5;241m0\u001b[39m \u001b[38;5;129;01mand\u001b[39;00m \u001b[38;5;28mself\u001b[39m\u001b[38;5;241m.\u001b[39m_should_retry(err\u001b[38;5;241m.\u001b[39mresponse):\n\u001b[1;32m   1030\u001b[0m     err\u001b[38;5;241m.\u001b[39mresponse\u001b[38;5;241m.\u001b[39mclose()\n\u001b[0;32m-> 1031\u001b[0m     \u001b[38;5;28;01mreturn\u001b[39;00m \u001b[38;5;28mself\u001b[39m\u001b[38;5;241m.\u001b[39m_retry_request(\n\u001b[1;32m   1032\u001b[0m         input_options,\n\u001b[1;32m   1033\u001b[0m         cast_to,\n\u001b[1;32m   1034\u001b[0m         retries,\n\u001b[1;32m   1035\u001b[0m         err\u001b[38;5;241m.\u001b[39mresponse\u001b[38;5;241m.\u001b[39mheaders,\n\u001b[1;32m   1036\u001b[0m         stream\u001b[38;5;241m=\u001b[39mstream,\n\u001b[1;32m   1037\u001b[0m         stream_cls\u001b[38;5;241m=\u001b[39mstream_cls,\n\u001b[1;32m   1038\u001b[0m     )\n\u001b[1;32m   1040\u001b[0m \u001b[38;5;66;03m# If the response is streamed then we need to explicitly read the response\u001b[39;00m\n\u001b[1;32m   1041\u001b[0m \u001b[38;5;66;03m# to completion before attempting to access the response text.\u001b[39;00m\n\u001b[1;32m   1042\u001b[0m \u001b[38;5;28;01mif\u001b[39;00m \u001b[38;5;129;01mnot\u001b[39;00m err\u001b[38;5;241m.\u001b[39mresponse\u001b[38;5;241m.\u001b[39mis_closed:\n",
      "File \u001b[0;32m/opt/anaconda3/lib/python3.12/site-packages/openai/_base_client.py:1080\u001b[0m, in \u001b[0;36mSyncAPIClient._retry_request\u001b[0;34m(self, options, cast_to, remaining_retries, response_headers, stream, stream_cls)\u001b[0m\n\u001b[1;32m   1076\u001b[0m \u001b[38;5;66;03m# In a synchronous context we are blocking the entire thread. Up to the library user to run the client in a\u001b[39;00m\n\u001b[1;32m   1077\u001b[0m \u001b[38;5;66;03m# different thread if necessary.\u001b[39;00m\n\u001b[1;32m   1078\u001b[0m time\u001b[38;5;241m.\u001b[39msleep(timeout)\n\u001b[0;32m-> 1080\u001b[0m \u001b[38;5;28;01mreturn\u001b[39;00m \u001b[38;5;28mself\u001b[39m\u001b[38;5;241m.\u001b[39m_request(\n\u001b[1;32m   1081\u001b[0m     options\u001b[38;5;241m=\u001b[39moptions,\n\u001b[1;32m   1082\u001b[0m     cast_to\u001b[38;5;241m=\u001b[39mcast_to,\n\u001b[1;32m   1083\u001b[0m     remaining_retries\u001b[38;5;241m=\u001b[39mremaining,\n\u001b[1;32m   1084\u001b[0m     stream\u001b[38;5;241m=\u001b[39mstream,\n\u001b[1;32m   1085\u001b[0m     stream_cls\u001b[38;5;241m=\u001b[39mstream_cls,\n\u001b[1;32m   1086\u001b[0m )\n",
      "File \u001b[0;32m/opt/anaconda3/lib/python3.12/site-packages/openai/_base_client.py:1031\u001b[0m, in \u001b[0;36mSyncAPIClient._request\u001b[0;34m(self, cast_to, options, remaining_retries, stream, stream_cls)\u001b[0m\n\u001b[1;32m   1029\u001b[0m \u001b[38;5;28;01mif\u001b[39;00m retries \u001b[38;5;241m>\u001b[39m \u001b[38;5;241m0\u001b[39m \u001b[38;5;129;01mand\u001b[39;00m \u001b[38;5;28mself\u001b[39m\u001b[38;5;241m.\u001b[39m_should_retry(err\u001b[38;5;241m.\u001b[39mresponse):\n\u001b[1;32m   1030\u001b[0m     err\u001b[38;5;241m.\u001b[39mresponse\u001b[38;5;241m.\u001b[39mclose()\n\u001b[0;32m-> 1031\u001b[0m     \u001b[38;5;28;01mreturn\u001b[39;00m \u001b[38;5;28mself\u001b[39m\u001b[38;5;241m.\u001b[39m_retry_request(\n\u001b[1;32m   1032\u001b[0m         input_options,\n\u001b[1;32m   1033\u001b[0m         cast_to,\n\u001b[1;32m   1034\u001b[0m         retries,\n\u001b[1;32m   1035\u001b[0m         err\u001b[38;5;241m.\u001b[39mresponse\u001b[38;5;241m.\u001b[39mheaders,\n\u001b[1;32m   1036\u001b[0m         stream\u001b[38;5;241m=\u001b[39mstream,\n\u001b[1;32m   1037\u001b[0m         stream_cls\u001b[38;5;241m=\u001b[39mstream_cls,\n\u001b[1;32m   1038\u001b[0m     )\n\u001b[1;32m   1040\u001b[0m \u001b[38;5;66;03m# If the response is streamed then we need to explicitly read the response\u001b[39;00m\n\u001b[1;32m   1041\u001b[0m \u001b[38;5;66;03m# to completion before attempting to access the response text.\u001b[39;00m\n\u001b[1;32m   1042\u001b[0m \u001b[38;5;28;01mif\u001b[39;00m \u001b[38;5;129;01mnot\u001b[39;00m err\u001b[38;5;241m.\u001b[39mresponse\u001b[38;5;241m.\u001b[39mis_closed:\n",
      "File \u001b[0;32m/opt/anaconda3/lib/python3.12/site-packages/openai/_base_client.py:1080\u001b[0m, in \u001b[0;36mSyncAPIClient._retry_request\u001b[0;34m(self, options, cast_to, remaining_retries, response_headers, stream, stream_cls)\u001b[0m\n\u001b[1;32m   1076\u001b[0m \u001b[38;5;66;03m# In a synchronous context we are blocking the entire thread. Up to the library user to run the client in a\u001b[39;00m\n\u001b[1;32m   1077\u001b[0m \u001b[38;5;66;03m# different thread if necessary.\u001b[39;00m\n\u001b[1;32m   1078\u001b[0m time\u001b[38;5;241m.\u001b[39msleep(timeout)\n\u001b[0;32m-> 1080\u001b[0m \u001b[38;5;28;01mreturn\u001b[39;00m \u001b[38;5;28mself\u001b[39m\u001b[38;5;241m.\u001b[39m_request(\n\u001b[1;32m   1081\u001b[0m     options\u001b[38;5;241m=\u001b[39moptions,\n\u001b[1;32m   1082\u001b[0m     cast_to\u001b[38;5;241m=\u001b[39mcast_to,\n\u001b[1;32m   1083\u001b[0m     remaining_retries\u001b[38;5;241m=\u001b[39mremaining,\n\u001b[1;32m   1084\u001b[0m     stream\u001b[38;5;241m=\u001b[39mstream,\n\u001b[1;32m   1085\u001b[0m     stream_cls\u001b[38;5;241m=\u001b[39mstream_cls,\n\u001b[1;32m   1086\u001b[0m )\n",
      "File \u001b[0;32m/opt/anaconda3/lib/python3.12/site-packages/openai/_base_client.py:1046\u001b[0m, in \u001b[0;36mSyncAPIClient._request\u001b[0;34m(self, cast_to, options, remaining_retries, stream, stream_cls)\u001b[0m\n\u001b[1;32m   1043\u001b[0m         err\u001b[38;5;241m.\u001b[39mresponse\u001b[38;5;241m.\u001b[39mread()\n\u001b[1;32m   1045\u001b[0m     log\u001b[38;5;241m.\u001b[39mdebug(\u001b[38;5;124m\"\u001b[39m\u001b[38;5;124mRe-raising status error\u001b[39m\u001b[38;5;124m\"\u001b[39m)\n\u001b[0;32m-> 1046\u001b[0m     \u001b[38;5;28;01mraise\u001b[39;00m \u001b[38;5;28mself\u001b[39m\u001b[38;5;241m.\u001b[39m_make_status_error_from_response(err\u001b[38;5;241m.\u001b[39mresponse) \u001b[38;5;28;01mfrom\u001b[39;00m \u001b[38;5;28;01mNone\u001b[39;00m\n\u001b[1;32m   1048\u001b[0m \u001b[38;5;28;01mreturn\u001b[39;00m \u001b[38;5;28mself\u001b[39m\u001b[38;5;241m.\u001b[39m_process_response(\n\u001b[1;32m   1049\u001b[0m     cast_to\u001b[38;5;241m=\u001b[39mcast_to,\n\u001b[1;32m   1050\u001b[0m     options\u001b[38;5;241m=\u001b[39moptions,\n\u001b[0;32m   (...)\u001b[0m\n\u001b[1;32m   1054\u001b[0m     retries_taken\u001b[38;5;241m=\u001b[39moptions\u001b[38;5;241m.\u001b[39mget_max_retries(\u001b[38;5;28mself\u001b[39m\u001b[38;5;241m.\u001b[39mmax_retries) \u001b[38;5;241m-\u001b[39m retries,\n\u001b[1;32m   1055\u001b[0m )\n",
      "\u001b[0;31mRateLimitError\u001b[0m: Error code: 429 - {'error': {'code': None, 'message': 'Rate limit exceeded', 'param': None, 'type': 'rate_limit_exceeded'}}"
     ]
    }
   ],
   "source": [
    "gt_path = '/Users/log/Github/textual_grounding/data/MATH/test.jsonl'\n",
    "with open(gt_path, 'r') as f:\n",
    "    gts = [json.loads(line) for line in f]\n",
    "# models = ['70', '405']\n",
    "models = ['70']\n",
    "\n",
    "for model in models:\n",
    "    # answers = pd.read_csv(f'/Users/log/Github/textual_grounding/logan/results/final/GCoT/MATH/llama3.1{model}b/gcot_random_gcot_examples.txt_MATH_llama3.1{model}b.csv')\n",
    "    answers = pd.read_csv(f'/Users/log/Github/textual_grounding/logan/results/MATH/together/hot_70b_comment___MATH_together.csv')\n",
    "    ids, questions, responses = [], [], []\n",
    "    output_path = f'/Users/log/Github/textual_grounding/logan/results/MATH/together/JUDGE/hot_70b_comment___MATH_together.csv'\n",
    "    seen_ids = pd.read_csv(output_path)['id'].tolist()\n",
    "    for _, row in tqdm(answers.iterrows(), total=answers.shape[0], desc=\"Processing answers\"):\n",
    "        if row['id'] in seen_ids:\n",
    "            print(\"skip: {}\".format(row['id']), end=' ')\n",
    "            continue\n",
    "        answer = row['answer']\n",
    "        question = row['question']\n",
    "        gt_row = [gt for gt in gts if gt['id'] == row['id']][0]\n",
    "        gt = \"Ground Truth: \" + gt_row[\"answer\"]\n",
    "        prompt = f\"{judge_prompt}\\n{answer}\\n\\n{gt}\"\n",
    "        # print(prompt)\n",
    "        # print(\"------------------------------------------------------------------\")\n",
    "        response = query_llama_70b(prompt)\n",
    "        \n",
    "        ids.append(row['id'])\n",
    "        questions.append(question)\n",
    "        responses.append(response)\n",
    "\n",
    "        # Save results in chunks or every iteration (optional)\n",
    "        save_results(output_path, [row['id']], [question], [response], [gt], [answer], append=True)\n",
    "        # print(response)\n"
   ]
  },
  {
   "cell_type": "code",
   "execution_count": 68,
   "metadata": {},
   "outputs": [
    {
     "name": "stdout",
     "output_type": "stream",
     "text": [
      "Correct:  114\n",
      "Incorrect:  86\n",
      "Total:  200\n",
      "Accuracy:  57.0\n"
     ]
    }
   ],
   "source": [
    "csv_path = '/Users/log/Github/textual_grounding/logan/results/final/GCoT/MATH/llama3.170b/405bjudge_gcot_random_gcot_examples.txt_MATH_llama3.170b.csv'\n",
    "df = pd.read_csv(csv_path)\n",
    "correct_count = 0\n",
    "incorrect_count = 0\n",
    "\n",
    "for _, row in df.iterrows():\n",
    "    if \"INCORRECT\" in row['response']:\n",
    "        incorrect_count += 1\n",
    "    elif \"CORRECT\" in row['response']:\n",
    "        correct_count += 1\n",
    "    else:\n",
    "        print(\"ERROR: \", row['response'])\n",
    "print(\"Correct: \", correct_count)\n",
    "print(\"Incorrect: \", incorrect_count)\n",
    "print(\"Total: \", df.shape[0])\n",
    "print(\"Accuracy: \", round((correct_count / df.shape[0]) * 100, 2))"
   ]
  },
  {
   "cell_type": "code",
   "execution_count": null,
   "metadata": {},
   "outputs": [
    {
     "name": "stdout",
     "output_type": "stream",
     "text": [
      "['test/algebra/1004.json', 'test/algebra/101.json', 'test/algebra/1072.json', 'test/algebra/1082.json', 'test/algebra/1098.json', 'test/algebra/1199.json', 'test/algebra/1214.json', 'test/algebra/1303.json', 'test/algebra/1332.json', 'test/algebra/1338.json', 'test/algebra/1349.json', 'test/algebra/1547.json', 'test/algebra/1553.json', 'test/algebra/1578.json', 'test/algebra/1787.json', 'test/algebra/187.json', 'test/algebra/1934.json', 'test/algebra/2023.json', 'test/algebra/2046.json', 'test/algebra/2058.json', 'test/algebra/2102.json', 'test/algebra/2176.json', 'test/algebra/2214.json', 'test/algebra/2257.json', 'test/algebra/2264.json', 'test/algebra/2277.json', 'test/algebra/2427.json', 'test/algebra/246.json', 'test/algebra/2486.json', 'test/algebra/2592.json', 'test/algebra/2593.json', 'test/algebra/2626.json', 'test/algebra/2680.json', 'test/algebra/2700.json', 'test/algebra/2743.json', 'test/algebra/2779.json', 'test/algebra/291.json', 'test/algebra/297.json', 'test/algebra/305.json', 'test/algebra/351.json', 'test/algebra/425.json', 'test/algebra/524.json', 'test/algebra/668.json', 'test/algebra/686.json', 'test/algebra/694.json', 'test/algebra/722.json', 'test/algebra/733.json', 'test/algebra/776.json', 'test/algebra/841.json', 'test/algebra/864.json', 'test/algebra/988.json', 'test/counting_and_probability/10.json', 'test/counting_and_probability/1003.json', 'test/counting_and_probability/1009.json', 'test/counting_and_probability/1060.json', 'test/counting_and_probability/1114.json', 'test/counting_and_probability/116.json', 'test/counting_and_probability/134.json', 'test/counting_and_probability/181.json', 'test/counting_and_probability/190.json', 'test/counting_and_probability/230.json', 'test/counting_and_probability/23957.json', 'test/counting_and_probability/339.json', 'test/counting_and_probability/389.json', 'test/counting_and_probability/430.json', 'test/counting_and_probability/508.json', 'test/counting_and_probability/51.json', 'test/counting_and_probability/731.json', 'test/counting_and_probability/737.json', 'test/counting_and_probability/761.json', 'test/counting_and_probability/913.json', 'test/geometry/106.json', 'test/geometry/1097.json', 'test/geometry/221.json', 'test/geometry/226.json', 'test/geometry/353.json', 'test/geometry/434.json', 'test/geometry/473.json', 'test/geometry/477.json', 'test/geometry/538.json', 'test/geometry/561.json', 'test/geometry/686.json', 'test/geometry/711.json', 'test/geometry/73.json', 'test/geometry/795.json', 'test/geometry/802.json', 'test/geometry/826.json', 'test/geometry/843.json', 'test/geometry/880.json', 'test/geometry/947.json', 'test/intermediate_algebra/1000.json', 'test/intermediate_algebra/1014.json', 'test/intermediate_algebra/102.json', 'test/intermediate_algebra/117.json', 'test/intermediate_algebra/1210.json', 'test/intermediate_algebra/1300.json', 'test/intermediate_algebra/1407.json', 'test/intermediate_algebra/1410.json', 'test/intermediate_algebra/1422.json', 'test/intermediate_algebra/1454.json', 'test/intermediate_algebra/1462.json', 'test/intermediate_algebra/1467.json', 'test/intermediate_algebra/1508.json', 'test/intermediate_algebra/1544.json', 'test/intermediate_algebra/1555.json', 'test/intermediate_algebra/1714.json', 'test/intermediate_algebra/1779.json', 'test/intermediate_algebra/183.json', 'test/intermediate_algebra/1837.json', 'test/intermediate_algebra/1981.json', 'test/intermediate_algebra/2046.json', 'test/intermediate_algebra/2146.json', 'test/intermediate_algebra/2152.json', 'test/intermediate_algebra/2196.json', 'test/intermediate_algebra/279.json', 'test/intermediate_algebra/345.json', 'test/intermediate_algebra/428.json', 'test/intermediate_algebra/515.json', 'test/intermediate_algebra/558.json', 'test/intermediate_algebra/582.json', 'test/intermediate_algebra/591.json', 'test/intermediate_algebra/607.json', 'test/intermediate_algebra/623.json', 'test/intermediate_algebra/776.json', 'test/intermediate_algebra/834.json', 'test/intermediate_algebra/860.json', 'test/intermediate_algebra/956.json', 'test/intermediate_algebra/964.json', 'test/intermediate_algebra/991.json', 'test/number_theory/1032.json', 'test/number_theory/1055.json', 'test/number_theory/1065.json', 'test/number_theory/1090.json', 'test/number_theory/1287.json', 'test/number_theory/13.json', 'test/number_theory/149.json', 'test/number_theory/22.json', 'test/number_theory/239.json', 'test/number_theory/255.json', 'test/number_theory/342.json', 'test/number_theory/45.json', 'test/number_theory/459.json', 'test/number_theory/46.json', 'test/number_theory/466.json', 'test/number_theory/631.json', 'test/number_theory/634.json', 'test/number_theory/679.json', 'test/number_theory/769.json', 'test/number_theory/820.json', 'test/number_theory/838.json', 'test/number_theory/928.json', 'test/prealgebra/1247.json', 'test/prealgebra/1251.json', 'test/prealgebra/1252.json', 'test/prealgebra/1272.json', 'test/prealgebra/1302.json', 'test/prealgebra/1356.json', 'test/prealgebra/1436.json', 'test/prealgebra/1458.json', 'test/prealgebra/1512.json', 'test/prealgebra/153.json', 'test/prealgebra/1558.json', 'test/prealgebra/1572.json', 'test/prealgebra/1655.json', 'test/prealgebra/1733.json', 'test/prealgebra/1742.json', 'test/prealgebra/1743.json', 'test/prealgebra/1784.json', 'test/prealgebra/1804.json', 'test/prealgebra/1807.json', 'test/prealgebra/1834.json', 'test/prealgebra/192.json', 'test/prealgebra/1924.json', 'test/prealgebra/1961.json', 'test/prealgebra/2019.json', 'test/prealgebra/2057.json', 'test/prealgebra/2066.json', 'test/prealgebra/65.json', 'test/prealgebra/874.json', 'test/prealgebra/914.json', 'test/prealgebra/977.json', 'test/precalculus/1082.json', 'test/precalculus/1105.json', 'test/precalculus/1172.json', 'test/precalculus/1199.json', 'test/precalculus/1202.json', 'test/precalculus/1303.json', 'test/precalculus/24313.json', 'test/precalculus/285.json', 'test/precalculus/398.json', 'test/precalculus/452.json', 'test/precalculus/541.json', 'test/precalculus/681.json', 'test/precalculus/695.json', 'test/precalculus/697.json', 'test/precalculus/742.json', 'test/precalculus/768.json', 'test/precalculus/826.json', 'test/precalculus/881.json', 'test/precalculus/927.json']\n",
      "['test/algebra/1078.json', 'test/algebra/1098.json', 'test/algebra/114.json', 'test/algebra/1184.json', 'test/algebra/1255.json', 'test/algebra/1332.json', 'test/algebra/1338.json', 'test/algebra/1339.json', 'test/algebra/1349.json', 'test/algebra/1519.json', 'test/algebra/1529.json', 'test/algebra/1553.json', 'test/algebra/1787.json', 'test/algebra/1837.json', 'test/algebra/1842.json', 'test/algebra/1934.json', 'test/algebra/1937.json', 'test/algebra/1960.json', 'test/algebra/2036.json', 'test/algebra/2043.json', 'test/algebra/2046.json', 'test/algebra/2058.json', 'test/algebra/2064.json', 'test/algebra/2102.json', 'test/algebra/2159.json', 'test/algebra/2176.json', 'test/algebra/2264.json', 'test/algebra/2427.json', 'test/algebra/2470.json', 'test/algebra/2486.json', 'test/algebra/251.json', 'test/algebra/2517.json', 'test/algebra/2593.json', 'test/algebra/2680.json', 'test/algebra/2779.json', 'test/algebra/2780.json', 'test/algebra/2789.json', 'test/algebra/509.json', 'test/algebra/518.json', 'test/algebra/621.json', 'test/algebra/661.json', 'test/algebra/686.json', 'test/algebra/733.json', 'test/algebra/776.json', 'test/algebra/824.json', 'test/algebra/841.json', 'test/algebra/864.json', 'test/algebra/892.json', 'test/algebra/907.json', 'test/algebra/988.json', 'test/counting_and_probability/1114.json', 'test/counting_and_probability/116.json', 'test/counting_and_probability/134.json', 'test/counting_and_probability/14.json', 'test/counting_and_probability/159.json', 'test/counting_and_probability/282.json', 'test/counting_and_probability/339.json', 'test/counting_and_probability/377.json', 'test/counting_and_probability/508.json', 'test/counting_and_probability/525.json', 'test/counting_and_probability/666.json', 'test/counting_and_probability/71.json', 'test/counting_and_probability/761.json', 'test/counting_and_probability/870.json', 'test/counting_and_probability/894.json', 'test/geometry/106.json', 'test/geometry/172.json', 'test/geometry/183.json', 'test/geometry/226.json', 'test/geometry/254.json', 'test/geometry/283.json', 'test/geometry/456.json', 'test/geometry/465.json', 'test/geometry/483.json', 'test/geometry/538.json', 'test/geometry/547.json', 'test/geometry/627.json', 'test/geometry/65.json', 'test/geometry/686.json', 'test/geometry/802.json', 'test/geometry/826.json', 'test/geometry/880.json', 'test/geometry/967.json', 'test/intermediate_algebra/1111.json', 'test/intermediate_algebra/1151.json', 'test/intermediate_algebra/1350.json', 'test/intermediate_algebra/1354.json', 'test/intermediate_algebra/1365.json', 'test/intermediate_algebra/1388.json', 'test/intermediate_algebra/1408.json', 'test/intermediate_algebra/1411.json', 'test/intermediate_algebra/1454.json', 'test/intermediate_algebra/1467.json', 'test/intermediate_algebra/1508.json', 'test/intermediate_algebra/1555.json', 'test/intermediate_algebra/1572.json', 'test/intermediate_algebra/1714.json', 'test/intermediate_algebra/1779.json', 'test/intermediate_algebra/1791.json', 'test/intermediate_algebra/1837.json', 'test/intermediate_algebra/190.json', 'test/intermediate_algebra/1981.json', 'test/intermediate_algebra/199.json', 'test/intermediate_algebra/1992.json', 'test/intermediate_algebra/1994.json', 'test/intermediate_algebra/2022.json', 'test/intermediate_algebra/2046.json', 'test/intermediate_algebra/232.json', 'test/intermediate_algebra/345.json', 'test/intermediate_algebra/362.json', 'test/intermediate_algebra/47.json', 'test/intermediate_algebra/515.json', 'test/intermediate_algebra/558.json', 'test/intermediate_algebra/607.json', 'test/intermediate_algebra/662.json', 'test/intermediate_algebra/956.json', 'test/intermediate_algebra/960.json', 'test/intermediate_algebra/966.json', 'test/number_theory/1002.json', 'test/number_theory/1055.json', 'test/number_theory/109.json', 'test/number_theory/1090.json', 'test/number_theory/1172.json', 'test/number_theory/1287.json', 'test/number_theory/149.json', 'test/number_theory/203.json', 'test/number_theory/22.json', 'test/number_theory/410.json', 'test/number_theory/45.json', 'test/number_theory/459.json', 'test/number_theory/466.json', 'test/number_theory/483.json', 'test/number_theory/516.json', 'test/number_theory/572.json', 'test/number_theory/598.json', 'test/number_theory/679.json', 'test/number_theory/753.json', 'test/number_theory/769.json', 'test/number_theory/847.json', 'test/number_theory/911.json', 'test/number_theory/914.json', 'test/number_theory/978.json', 'test/prealgebra/1003.json', 'test/prealgebra/105.json', 'test/prealgebra/1113.json', 'test/prealgebra/1114.json', 'test/prealgebra/1128.json', 'test/prealgebra/1252.json', 'test/prealgebra/1298.json', 'test/prealgebra/1317.json', 'test/prealgebra/1356.json', 'test/prealgebra/1423.json', 'test/prealgebra/1458.json', 'test/prealgebra/153.json', 'test/prealgebra/1555.json', 'test/prealgebra/1558.json', 'test/prealgebra/1733.json', 'test/prealgebra/1747.json', 'test/prealgebra/1807.json', 'test/prealgebra/1834.json', 'test/prealgebra/1840.json', 'test/prealgebra/1865.json', 'test/prealgebra/1907.json', 'test/prealgebra/1908.json', 'test/prealgebra/1924.json', 'test/prealgebra/1961.json', 'test/prealgebra/2019.json', 'test/prealgebra/2037.json', 'test/prealgebra/2057.json', 'test/prealgebra/2066.json', 'test/prealgebra/307.json', 'test/prealgebra/378.json', 'test/prealgebra/572.json', 'test/prealgebra/631.json', 'test/prealgebra/805.json', 'test/prealgebra/846.json', 'test/prealgebra/951.json', 'test/prealgebra/977.json', 'test/precalculus/1105.json', 'test/precalculus/117.json', 'test/precalculus/1199.json', 'test/precalculus/1281.json', 'test/precalculus/1303.json', 'test/precalculus/190.json', 'test/precalculus/34.json', 'test/precalculus/356.json', 'test/precalculus/398.json', 'test/precalculus/44.json', 'test/precalculus/441.json', 'test/precalculus/625.json', 'test/precalculus/659.json', 'test/precalculus/681.json', 'test/precalculus/703.json', 'test/precalculus/742.json', 'test/precalculus/801.json', 'test/precalculus/819.json', 'test/precalculus/826.json', 'test/precalculus/96.json', 'test/precalculus/986.json', 'test/precalculus/989.json']\n"
     ]
    }
   ],
   "source": [
    "csv_path = '/Users/log/Github/textual_grounding/logan/results/final/fewshot_CoT/MATH/llama3.170b/cot_random_cot_examples.txt_MATH_llama3.170b.csv'\n",
    "df1 = pd.read_csv(csv_path)\n",
    "ids1 = df1['id'].tolist()\n",
    "\n",
    "csv_path = '/Users/log/Github/textual_grounding/logan/results/final/fewshot_CoT/MATH/llama3.18b/cot_random_cot_examples.txt_MATH_llama3.18b.csv'\n",
    "df2 = pd.read_csv(csv_path)\n",
    "ids2 = df2['id'].tolist()\n",
    "\n",
    "print(sorted(ids1))\n",
    "print(sorted(ids2))"
   ]
  },
  {
   "cell_type": "markdown",
   "metadata": {},
   "source": []
  },
  {
   "cell_type": "code",
   "execution_count": null,
   "metadata": {},
   "outputs": [],
   "source": []
  }
 ],
 "metadata": {
  "kernelspec": {
   "display_name": "base",
   "language": "python",
   "name": "python3"
  },
  "language_info": {
   "codemirror_mode": {
    "name": "ipython",
    "version": 3
   },
   "file_extension": ".py",
   "mimetype": "text/x-python",
   "name": "python",
   "nbconvert_exporter": "python",
   "pygments_lexer": "ipython3",
   "version": "3.12.4"
  }
 },
 "nbformat": 4,
 "nbformat_minor": 2
}
