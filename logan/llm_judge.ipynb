{
 "cells": [
  {
   "cell_type": "code",
   "execution_count": 49,
   "metadata": {},
   "outputs": [],
   "source": [
    "from groq import Groq\n",
    "import os\n",
    "import sys\n",
    "import anthropic\n",
    "import ollama\n",
    "import random\n",
    "import pandas as pd\n",
    "from tqdm import tqdm\n",
    "from google.generativeai.types import RequestOptions\n",
    "from google.api_core import retry\n",
    "from typing import List, Tuple\n",
    "import json\n",
    "from openai import OpenAI\n",
    "import datetime\n",
    "import openai\n",
    "import time\n",
    "import re\n",
    "from tqdm import tqdm"
   ]
  },
  {
   "cell_type": "code",
   "execution_count": 50,
   "metadata": {},
   "outputs": [],
   "source": [
    "def query_llama_70b(prompt):\n",
    "    client = openai.OpenAI(\n",
    "        api_key=os.environ.get(\"SAMBANOVA_API_KEY\"),\n",
    "        base_url=\"https://api.sambanova.ai/v1\",\n",
    "    )\n",
    "\n",
    "    response = client.chat.completions.create(\n",
    "        model='Meta-Llama-3.1-70B-Instruct',\n",
    "            messages=[\n",
    "                {\n",
    "                    \"role\": \"user\",\n",
    "                    \"content\": prompt,\n",
    "                }\n",
    "            ],\n",
    "        temperature=0.1, \n",
    "        top_p = 0.9 # Meta default\n",
    "    )\n",
    "    time.sleep(8)  # Pause execution for 2 seconds\n",
    "    return response.choices[0].message.content\n",
    "\n",
    "def query_llama_405b(prompt):\n",
    "    client = openai.OpenAI(\n",
    "        api_key=os.environ.get(\"SAMBANOVA_API_KEY\"),\n",
    "        base_url=\"https://api.sambanova.ai/v1\",\n",
    "    )\n",
    "\n",
    "    response = client.chat.completions.create(\n",
    "        model='Meta-Llama-3.1-405B-Instruct',\n",
    "            messages=[\n",
    "                {\n",
    "                    \"role\": \"user\",\n",
    "                    \"content\": prompt,\n",
    "                }\n",
    "            ],\n",
    "        temperature=0.1, \n",
    "        top_p = 0.9 # Meta default\n",
    "    )\n",
    "    time.sleep(15)  # Pause execution for 2 seconds\n",
    "    return response.choices[0].message.content\n",
    "\n",
    "def query_llama_8b(prompt):\n",
    "    client = openai.OpenAI(\n",
    "        api_key=os.environ.get(\"SAMBANOVA_API_KEY\"),\n",
    "        base_url=\"https://api.sambanova.ai/v1\",\n",
    "    )\n",
    "\n",
    "    response = client.chat.completions.create(\n",
    "        model='Meta-Llama-3.1-8B-Instruct',\n",
    "            messages=[\n",
    "                {\n",
    "                    \"role\": \"user\",\n",
    "                    \"content\": prompt,\n",
    "                }\n",
    "            ],\n",
    "        temperature=0.1, \n",
    "        top_p = 0.9 # Meta default\n",
    "    )\n",
    "    time.sleep(4)  # Pause execution for 2 seconds\n",
    "    return response.choices[0].message.content"
   ]
  },
  {
   "cell_type": "code",
   "execution_count": 51,
   "metadata": {},
   "outputs": [],
   "source": [
    "judge_prompt = \"\"\"\n",
    "You are an expert mathematical evaluator tasked with determining the correctness of solutions to mathematical problems. Your role is to compare a proposed solution to the expected solution (referred to as \"Ground Truth\") and decide whether the Answer is CORRECT or INCORRECT.\n",
    "\n",
    "An answer is considered correct if the final result is equivalent to the Ground Truth. If the final result is not simplified, but mathematically equivalent to the Ground Truth, it should still be considered correct. For example, 2/4 is mathematically equivalent to 1/2. Output only the words \"{CORRECT}\" or \"{INCORRECT}\" in your response. Do not attempt to solve the problem.\n",
    "\n",
    "## Example 1\n",
    "Formatted Question: If $<fact1>2^8</fact1>=<fact2>4^x</fact2>$, what is the value of $<fact3>x</fact3>$?\n",
    "\n",
    "Answer: We can rewrite $<fact2>4^x</fact2>$ as $(<fact4>2^2</fact4>)^x=<fact5>2^{2x}</fact5>$. Thus, we have $<fact1>2^8</fact1>=<fact5>2^{2x}</fact5>$. Since the bases are the same, the exponents must be equal, so $<fact6>8=2x</fact6>$. Solving for $<fact3>x</fact3>$, we find $<fact3>x</fact3>=<fact6>8/2</fact6>=<fact7>4</fact7>$\n",
    "\n",
    "Ground Truth: 4\n",
    "\n",
    "Judge Answer: {CORRECT}\n",
    "\n",
    "Example 2:\n",
    "\n",
    "What is the sum of all values of $y$ for which the expression $\\\\frac{y+6}{y^2-5y+4}$ is undefined?\n",
    "Answer: The given expression is undefined when the denominator is zero. Thus, we want to find the sum of the zeros $y$ to the quadratic $y^2-5y+4$. Since for a quadratic with the equation $ax^2+bx+c=0$, the sum of the solutions is $-b/a$, the sum of the zeros of the quadratic $y^2-5y+4$ is $5/1=\\\\boxed{5}$.\n",
    "\n",
    "Ground Truth: 5\n",
    "\n",
    "Judge Answer: {CORRECT}\n",
    "\n",
    "## Example 3\n",
    "\n",
    "Answer: More generally, suppose $(a_i),$ $(b_i),$ $(c_i)$ represent the entries in rows $n - 1,$ $n,$ $n + 1$ of Pascal's triangle.  Then\\n\\\\[a_i = \\\\binom{n - 1}{i}, \\\\ b_i = \\\\binom{n}{i}, \\\\ c_i = \\\\binom{n + 1}{i},\\\\]so\\n\\\\begin{align*}\\n\\\\frac{a_i}{b_i} &= \\\\frac{\\\\binom{n - 1}{i}}{\\\\binom{n}{i}} \\\\\\\\\\n&= \\\\frac{\\\\frac{(n - 1)!}{i! (n - i - 1)!}}{\\\\frac{n!}{i! (n - i)!}} \\\\\\\\\\n&= \\\\frac{(n - 1)! (n - i)!}{n! (n - i - 1)!} \\\\\\\\\\n&= \\\\frac{n - i}{n} \\\\\\\\\\n&= 1 - \\\\frac{i}{n}.\\n\\\\end{align*}Hence,\\n\\\\begin{align*}\\n\\\\sum_{i = 0}^{n - 1} \\\\frac{a_i}{b_i} &= \\\\sum_{i = 0}^{n - 1} \\\\left( 1 - \\\\frac{i}{n} \\\\right) \\\\\\\\\\n&= n - \\\\frac{(n - 1)n/2}{n} \\\\\\\\\\n&= n - \\\\frac{n - 1}{2} = \\\\frac{n + 1}{2}.\\n\\\\end{align*}Likewise,\\n\\\\[\\\\frac{b_i}{c_i} = 1 - \\\\frac{i}{n + 1},\\\\]and\\n\\\\[\\\\sum_{i = 0}^n \\\\frac{b_i}{c_i} = \\\\frac{n + 2}{2}.\\\\]Hence,\\n\\\\[\\\\sum_{i = 0}^n \\\\frac{b_i}{c_i} - \\\\sum_{i = 0}^{n - 1} \\\\frac{a_i}{b_i} = \\\\frac{n + 2}{2} - \\\\frac{n + 1}{2} = \\\\boxed{\\\\frac{1}{2}}.\\\\]\n",
    "\n",
    "Ground Truth: \\\\frac{1}{3}\n",
    "\n",
    "Judge Answer: {INCORRECT}\n",
    "\n",
    "--------------------------------\n",
    "\n",
    "Judge if the following solution is correct or incorrect:\n",
    "\"\"\""
   ]
  },
  {
   "cell_type": "code",
   "execution_count": 52,
   "metadata": {},
   "outputs": [],
   "source": [
    "def save_results(save_path: str, ids: List[str], questions: List[str], responses: List[str], gts, answers, append: bool = False):\n",
    "    df = pd.DataFrame({'id': ids, 'question': questions, 'response': responses, 'gt': gts, 'answer': answers})\n",
    "    if append and os.path.exists(save_path):\n",
    "        df.to_csv(save_path, mode='a', index=False, header=False)\n",
    "    else:\n",
    "        df.to_csv(save_path, index=False)"
   ]
  },
  {
   "cell_type": "code",
   "execution_count": 61,
   "metadata": {},
   "outputs": [
    {
     "name": "stderr",
     "output_type": "stream",
     "text": [
      "Processing answers: 100%|██████████| 200/200 [58:45<00:00, 17.63s/it]\n",
      "Processing answers: 100%|██████████| 200/200 [57:30<00:00, 17.25s/it] \n"
     ]
    }
   ],
   "source": [
    "gt_path = '/Users/log/Github/textual_grounding/data/MATH/test.jsonl'\n",
    "with open(gt_path, 'r') as f:\n",
    "    gts = [json.loads(line) for line in f]\n",
    "models = ['70', '405']\n",
    "\n",
    "for model in models:\n",
    "    answers = pd.read_csv(f'/Users/log/Github/textual_grounding/logan/results/final/GCoT/MATH/llama3.1{model}b/gcot_random_gcot_examples.txt_MATH_llama3.1{model}b.csv')\n",
    "    ids, questions, responses = [], [], []\n",
    "    output_path = f'/Users/log/Github/textual_grounding/logan/results/final/fewshot_CoT/MATH/llama3.1{model}b/405bjudge_cot_random_cot_examples.txt_MATH_llama3.1{model}b.csv'\n",
    "    for _, row in tqdm(answers.iterrows(), total=answers.shape[0], desc=\"Processing answers\"):\n",
    "        answer = row['answer']\n",
    "        question = row['question']\n",
    "        gt_row = [gt for gt in gts if gt['id'] == row['id']][0]\n",
    "        gt = \"Ground Truth: \" + gt_row[\"answer\"]\n",
    "        prompt = f\"{judge_prompt}\\n{answer}\\n\\n{gt}\"\n",
    "        # print(prompt)\n",
    "        # print(\"------------------------------------------------------------------\")\n",
    "        response = query_llama_405b(prompt)\n",
    "        \n",
    "        ids.append(row['id'])\n",
    "        questions.append(question)\n",
    "        responses.append(response)\n",
    "\n",
    "        # Save results in chunks or every iteration (optional)\n",
    "        save_results(output_path, [row['id']], [question], [response], [gt], [answer], append=True)\n",
    "        # print(response)\n"
   ]
  },
  {
   "cell_type": "code",
   "execution_count": 68,
   "metadata": {},
   "outputs": [
    {
     "name": "stdout",
     "output_type": "stream",
     "text": [
      "Correct:  114\n",
      "Incorrect:  86\n",
      "Total:  200\n",
      "Accuracy:  57.0\n"
     ]
    }
   ],
   "source": [
    "csv_path = '/Users/log/Github/textual_grounding/logan/results/final/GCoT/MATH/llama3.170b/405bjudge_gcot_random_gcot_examples.txt_MATH_llama3.170b.csv'\n",
    "df = pd.read_csv(csv_path)\n",
    "correct_count = 0\n",
    "incorrect_count = 0\n",
    "\n",
    "for _, row in df.iterrows():\n",
    "    if \"INCORRECT\" in row['response']:\n",
    "        incorrect_count += 1\n",
    "    elif \"CORRECT\" in row['response']:\n",
    "        correct_count += 1\n",
    "    else:\n",
    "        print(\"ERROR: \", row['response'])\n",
    "print(\"Correct: \", correct_count)\n",
    "print(\"Incorrect: \", incorrect_count)\n",
    "print(\"Total: \", df.shape[0])\n",
    "print(\"Accuracy: \", round((correct_count / df.shape[0]) * 100, 2))"
   ]
  },
  {
   "cell_type": "code",
   "execution_count": null,
   "metadata": {},
   "outputs": [
    {
     "name": "stdout",
     "output_type": "stream",
     "text": [
      "['test/algebra/1004.json', 'test/algebra/101.json', 'test/algebra/1072.json', 'test/algebra/1082.json', 'test/algebra/1098.json', 'test/algebra/1199.json', 'test/algebra/1214.json', 'test/algebra/1303.json', 'test/algebra/1332.json', 'test/algebra/1338.json', 'test/algebra/1349.json', 'test/algebra/1547.json', 'test/algebra/1553.json', 'test/algebra/1578.json', 'test/algebra/1787.json', 'test/algebra/187.json', 'test/algebra/1934.json', 'test/algebra/2023.json', 'test/algebra/2046.json', 'test/algebra/2058.json', 'test/algebra/2102.json', 'test/algebra/2176.json', 'test/algebra/2214.json', 'test/algebra/2257.json', 'test/algebra/2264.json', 'test/algebra/2277.json', 'test/algebra/2427.json', 'test/algebra/246.json', 'test/algebra/2486.json', 'test/algebra/2592.json', 'test/algebra/2593.json', 'test/algebra/2626.json', 'test/algebra/2680.json', 'test/algebra/2700.json', 'test/algebra/2743.json', 'test/algebra/2779.json', 'test/algebra/291.json', 'test/algebra/297.json', 'test/algebra/305.json', 'test/algebra/351.json', 'test/algebra/425.json', 'test/algebra/524.json', 'test/algebra/668.json', 'test/algebra/686.json', 'test/algebra/694.json', 'test/algebra/722.json', 'test/algebra/733.json', 'test/algebra/776.json', 'test/algebra/841.json', 'test/algebra/864.json', 'test/algebra/988.json', 'test/counting_and_probability/10.json', 'test/counting_and_probability/1003.json', 'test/counting_and_probability/1009.json', 'test/counting_and_probability/1060.json', 'test/counting_and_probability/1114.json', 'test/counting_and_probability/116.json', 'test/counting_and_probability/134.json', 'test/counting_and_probability/181.json', 'test/counting_and_probability/190.json', 'test/counting_and_probability/230.json', 'test/counting_and_probability/23957.json', 'test/counting_and_probability/339.json', 'test/counting_and_probability/389.json', 'test/counting_and_probability/430.json', 'test/counting_and_probability/508.json', 'test/counting_and_probability/51.json', 'test/counting_and_probability/731.json', 'test/counting_and_probability/737.json', 'test/counting_and_probability/761.json', 'test/counting_and_probability/913.json', 'test/geometry/106.json', 'test/geometry/1097.json', 'test/geometry/221.json', 'test/geometry/226.json', 'test/geometry/353.json', 'test/geometry/434.json', 'test/geometry/473.json', 'test/geometry/477.json', 'test/geometry/538.json', 'test/geometry/561.json', 'test/geometry/686.json', 'test/geometry/711.json', 'test/geometry/73.json', 'test/geometry/795.json', 'test/geometry/802.json', 'test/geometry/826.json', 'test/geometry/843.json', 'test/geometry/880.json', 'test/geometry/947.json', 'test/intermediate_algebra/1000.json', 'test/intermediate_algebra/1014.json', 'test/intermediate_algebra/102.json', 'test/intermediate_algebra/117.json', 'test/intermediate_algebra/1210.json', 'test/intermediate_algebra/1300.json', 'test/intermediate_algebra/1407.json', 'test/intermediate_algebra/1410.json', 'test/intermediate_algebra/1422.json', 'test/intermediate_algebra/1454.json', 'test/intermediate_algebra/1462.json', 'test/intermediate_algebra/1467.json', 'test/intermediate_algebra/1508.json', 'test/intermediate_algebra/1544.json', 'test/intermediate_algebra/1555.json', 'test/intermediate_algebra/1714.json', 'test/intermediate_algebra/1779.json', 'test/intermediate_algebra/183.json', 'test/intermediate_algebra/1837.json', 'test/intermediate_algebra/1981.json', 'test/intermediate_algebra/2046.json', 'test/intermediate_algebra/2146.json', 'test/intermediate_algebra/2152.json', 'test/intermediate_algebra/2196.json', 'test/intermediate_algebra/279.json', 'test/intermediate_algebra/345.json', 'test/intermediate_algebra/428.json', 'test/intermediate_algebra/515.json', 'test/intermediate_algebra/558.json', 'test/intermediate_algebra/582.json', 'test/intermediate_algebra/591.json', 'test/intermediate_algebra/607.json', 'test/intermediate_algebra/623.json', 'test/intermediate_algebra/776.json', 'test/intermediate_algebra/834.json', 'test/intermediate_algebra/860.json', 'test/intermediate_algebra/956.json', 'test/intermediate_algebra/964.json', 'test/intermediate_algebra/991.json', 'test/number_theory/1032.json', 'test/number_theory/1055.json', 'test/number_theory/1065.json', 'test/number_theory/1090.json', 'test/number_theory/1287.json', 'test/number_theory/13.json', 'test/number_theory/149.json', 'test/number_theory/22.json', 'test/number_theory/239.json', 'test/number_theory/255.json', 'test/number_theory/342.json', 'test/number_theory/45.json', 'test/number_theory/459.json', 'test/number_theory/46.json', 'test/number_theory/466.json', 'test/number_theory/631.json', 'test/number_theory/634.json', 'test/number_theory/679.json', 'test/number_theory/769.json', 'test/number_theory/820.json', 'test/number_theory/838.json', 'test/number_theory/928.json', 'test/prealgebra/1247.json', 'test/prealgebra/1251.json', 'test/prealgebra/1252.json', 'test/prealgebra/1272.json', 'test/prealgebra/1302.json', 'test/prealgebra/1356.json', 'test/prealgebra/1436.json', 'test/prealgebra/1458.json', 'test/prealgebra/1512.json', 'test/prealgebra/153.json', 'test/prealgebra/1558.json', 'test/prealgebra/1572.json', 'test/prealgebra/1655.json', 'test/prealgebra/1733.json', 'test/prealgebra/1742.json', 'test/prealgebra/1743.json', 'test/prealgebra/1784.json', 'test/prealgebra/1804.json', 'test/prealgebra/1807.json', 'test/prealgebra/1834.json', 'test/prealgebra/192.json', 'test/prealgebra/1924.json', 'test/prealgebra/1961.json', 'test/prealgebra/2019.json', 'test/prealgebra/2057.json', 'test/prealgebra/2066.json', 'test/prealgebra/65.json', 'test/prealgebra/874.json', 'test/prealgebra/914.json', 'test/prealgebra/977.json', 'test/precalculus/1082.json', 'test/precalculus/1105.json', 'test/precalculus/1172.json', 'test/precalculus/1199.json', 'test/precalculus/1202.json', 'test/precalculus/1303.json', 'test/precalculus/24313.json', 'test/precalculus/285.json', 'test/precalculus/398.json', 'test/precalculus/452.json', 'test/precalculus/541.json', 'test/precalculus/681.json', 'test/precalculus/695.json', 'test/precalculus/697.json', 'test/precalculus/742.json', 'test/precalculus/768.json', 'test/precalculus/826.json', 'test/precalculus/881.json', 'test/precalculus/927.json']\n",
      "['test/algebra/1078.json', 'test/algebra/1098.json', 'test/algebra/114.json', 'test/algebra/1184.json', 'test/algebra/1255.json', 'test/algebra/1332.json', 'test/algebra/1338.json', 'test/algebra/1339.json', 'test/algebra/1349.json', 'test/algebra/1519.json', 'test/algebra/1529.json', 'test/algebra/1553.json', 'test/algebra/1787.json', 'test/algebra/1837.json', 'test/algebra/1842.json', 'test/algebra/1934.json', 'test/algebra/1937.json', 'test/algebra/1960.json', 'test/algebra/2036.json', 'test/algebra/2043.json', 'test/algebra/2046.json', 'test/algebra/2058.json', 'test/algebra/2064.json', 'test/algebra/2102.json', 'test/algebra/2159.json', 'test/algebra/2176.json', 'test/algebra/2264.json', 'test/algebra/2427.json', 'test/algebra/2470.json', 'test/algebra/2486.json', 'test/algebra/251.json', 'test/algebra/2517.json', 'test/algebra/2593.json', 'test/algebra/2680.json', 'test/algebra/2779.json', 'test/algebra/2780.json', 'test/algebra/2789.json', 'test/algebra/509.json', 'test/algebra/518.json', 'test/algebra/621.json', 'test/algebra/661.json', 'test/algebra/686.json', 'test/algebra/733.json', 'test/algebra/776.json', 'test/algebra/824.json', 'test/algebra/841.json', 'test/algebra/864.json', 'test/algebra/892.json', 'test/algebra/907.json', 'test/algebra/988.json', 'test/counting_and_probability/1114.json', 'test/counting_and_probability/116.json', 'test/counting_and_probability/134.json', 'test/counting_and_probability/14.json', 'test/counting_and_probability/159.json', 'test/counting_and_probability/282.json', 'test/counting_and_probability/339.json', 'test/counting_and_probability/377.json', 'test/counting_and_probability/508.json', 'test/counting_and_probability/525.json', 'test/counting_and_probability/666.json', 'test/counting_and_probability/71.json', 'test/counting_and_probability/761.json', 'test/counting_and_probability/870.json', 'test/counting_and_probability/894.json', 'test/geometry/106.json', 'test/geometry/172.json', 'test/geometry/183.json', 'test/geometry/226.json', 'test/geometry/254.json', 'test/geometry/283.json', 'test/geometry/456.json', 'test/geometry/465.json', 'test/geometry/483.json', 'test/geometry/538.json', 'test/geometry/547.json', 'test/geometry/627.json', 'test/geometry/65.json', 'test/geometry/686.json', 'test/geometry/802.json', 'test/geometry/826.json', 'test/geometry/880.json', 'test/geometry/967.json', 'test/intermediate_algebra/1111.json', 'test/intermediate_algebra/1151.json', 'test/intermediate_algebra/1350.json', 'test/intermediate_algebra/1354.json', 'test/intermediate_algebra/1365.json', 'test/intermediate_algebra/1388.json', 'test/intermediate_algebra/1408.json', 'test/intermediate_algebra/1411.json', 'test/intermediate_algebra/1454.json', 'test/intermediate_algebra/1467.json', 'test/intermediate_algebra/1508.json', 'test/intermediate_algebra/1555.json', 'test/intermediate_algebra/1572.json', 'test/intermediate_algebra/1714.json', 'test/intermediate_algebra/1779.json', 'test/intermediate_algebra/1791.json', 'test/intermediate_algebra/1837.json', 'test/intermediate_algebra/190.json', 'test/intermediate_algebra/1981.json', 'test/intermediate_algebra/199.json', 'test/intermediate_algebra/1992.json', 'test/intermediate_algebra/1994.json', 'test/intermediate_algebra/2022.json', 'test/intermediate_algebra/2046.json', 'test/intermediate_algebra/232.json', 'test/intermediate_algebra/345.json', 'test/intermediate_algebra/362.json', 'test/intermediate_algebra/47.json', 'test/intermediate_algebra/515.json', 'test/intermediate_algebra/558.json', 'test/intermediate_algebra/607.json', 'test/intermediate_algebra/662.json', 'test/intermediate_algebra/956.json', 'test/intermediate_algebra/960.json', 'test/intermediate_algebra/966.json', 'test/number_theory/1002.json', 'test/number_theory/1055.json', 'test/number_theory/109.json', 'test/number_theory/1090.json', 'test/number_theory/1172.json', 'test/number_theory/1287.json', 'test/number_theory/149.json', 'test/number_theory/203.json', 'test/number_theory/22.json', 'test/number_theory/410.json', 'test/number_theory/45.json', 'test/number_theory/459.json', 'test/number_theory/466.json', 'test/number_theory/483.json', 'test/number_theory/516.json', 'test/number_theory/572.json', 'test/number_theory/598.json', 'test/number_theory/679.json', 'test/number_theory/753.json', 'test/number_theory/769.json', 'test/number_theory/847.json', 'test/number_theory/911.json', 'test/number_theory/914.json', 'test/number_theory/978.json', 'test/prealgebra/1003.json', 'test/prealgebra/105.json', 'test/prealgebra/1113.json', 'test/prealgebra/1114.json', 'test/prealgebra/1128.json', 'test/prealgebra/1252.json', 'test/prealgebra/1298.json', 'test/prealgebra/1317.json', 'test/prealgebra/1356.json', 'test/prealgebra/1423.json', 'test/prealgebra/1458.json', 'test/prealgebra/153.json', 'test/prealgebra/1555.json', 'test/prealgebra/1558.json', 'test/prealgebra/1733.json', 'test/prealgebra/1747.json', 'test/prealgebra/1807.json', 'test/prealgebra/1834.json', 'test/prealgebra/1840.json', 'test/prealgebra/1865.json', 'test/prealgebra/1907.json', 'test/prealgebra/1908.json', 'test/prealgebra/1924.json', 'test/prealgebra/1961.json', 'test/prealgebra/2019.json', 'test/prealgebra/2037.json', 'test/prealgebra/2057.json', 'test/prealgebra/2066.json', 'test/prealgebra/307.json', 'test/prealgebra/378.json', 'test/prealgebra/572.json', 'test/prealgebra/631.json', 'test/prealgebra/805.json', 'test/prealgebra/846.json', 'test/prealgebra/951.json', 'test/prealgebra/977.json', 'test/precalculus/1105.json', 'test/precalculus/117.json', 'test/precalculus/1199.json', 'test/precalculus/1281.json', 'test/precalculus/1303.json', 'test/precalculus/190.json', 'test/precalculus/34.json', 'test/precalculus/356.json', 'test/precalculus/398.json', 'test/precalculus/44.json', 'test/precalculus/441.json', 'test/precalculus/625.json', 'test/precalculus/659.json', 'test/precalculus/681.json', 'test/precalculus/703.json', 'test/precalculus/742.json', 'test/precalculus/801.json', 'test/precalculus/819.json', 'test/precalculus/826.json', 'test/precalculus/96.json', 'test/precalculus/986.json', 'test/precalculus/989.json']\n"
     ]
    }
   ],
   "source": [
    "csv_path = '/Users/log/Github/textual_grounding/logan/results/final/fewshot_CoT/MATH/llama3.170b/cot_random_cot_examples.txt_MATH_llama3.170b.csv'\n",
    "df1 = pd.read_csv(csv_path)\n",
    "ids1 = df1['id'].tolist()\n",
    "\n",
    "csv_path = '/Users/log/Github/textual_grounding/logan/results/final/fewshot_CoT/MATH/llama3.18b/cot_random_cot_examples.txt_MATH_llama3.18b.csv'\n",
    "df2 = pd.read_csv(csv_path)\n",
    "ids2 = df2['id'].tolist()\n",
    "\n",
    "print(sorted(ids1))\n",
    "print(sorted(ids2))"
   ]
  },
  {
   "cell_type": "markdown",
   "metadata": {},
   "source": []
  },
  {
   "cell_type": "code",
   "execution_count": null,
   "metadata": {},
   "outputs": [],
   "source": []
  }
 ],
 "metadata": {
  "kernelspec": {
   "display_name": "base",
   "language": "python",
   "name": "python3"
  },
  "language_info": {
   "codemirror_mode": {
    "name": "ipython",
    "version": 3
   },
   "file_extension": ".py",
   "mimetype": "text/x-python",
   "name": "python",
   "nbconvert_exporter": "python",
   "pygments_lexer": "ipython3",
   "version": "3.12.4"
  }
 },
 "nbformat": 4,
 "nbformat_minor": 2
}
