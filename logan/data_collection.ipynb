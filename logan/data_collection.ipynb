{
 "cells": [
  {
   "cell_type": "code",
   "execution_count": 1,
   "metadata": {},
   "outputs": [],
   "source": [
    "from groq import Groq\n",
    "import os\n",
    "import sys\n",
    "import anthropic\n",
    "import ollama\n",
    "import random\n",
    "import pandas as pd\n",
    "from tqdm import tqdm\n",
    "from google.generativeai.types import RequestOptions\n",
    "from google.api_core import retry\n",
    "from typing import List, Tuple\n",
    "import json\n",
    "from openai import OpenAI\n",
    "import datetime\n",
    "import openai\n",
    "import time\n",
    "\n",
    "current_dir = os.getcwd()\n",
    "parent_dir = os.path.dirname(current_dir)\n",
    "\n",
    "if parent_dir not in sys.path:\n",
    "    sys.path.append(parent_dir)\n",
    "\n",
    "from concurrent.futures import ThreadPoolExecutor, TimeoutError"
   ]
  },
  {
   "cell_type": "markdown",
   "metadata": {
    "vscode": {
     "languageId": "plaintext"
    }
   },
   "source": [
    "# prompts"
   ]
  },
  {
   "cell_type": "markdown",
   "metadata": {},
   "source": [
    "### Zero Shot - Vanilla CoT"
   ]
  },
  {
   "cell_type": "code",
   "execution_count": 2,
   "metadata": {},
   "outputs": [],
   "source": [
    "zero_shot_vanilla_cot = \"\"\"\n",
    "Think through your answer step by step. Put the concise form of your final answer in curly brackets e.g. {A}, {True} or {3.0}.\n",
    "\"\"\""
   ]
  },
  {
   "cell_type": "code",
   "execution_count": 3,
   "metadata": {},
   "outputs": [],
   "source": [
    "def get_prompt(prompt_type: str, few_shot_prompt: str, question: str) -> str:\n",
    "    prompts = {\n",
    "        \"zero_shot_vanilla_cot\": f\"{question}\\n{zero_shot_vanilla_cot}\",\n",
    "    }\n",
    "    return prompts[prompt_type]\n",
    "\n",
    "def save_results(save_path: str, ids: List[str], questions: List[str], answers: List[str], append: bool = False):\n",
    "    df = pd.DataFrame({'id': ids, 'question': questions, 'answer': answers})\n",
    "    if append and os.path.exists(save_path):\n",
    "        df.to_csv(save_path, mode='a', index=False, header=False)\n",
    "    else:\n",
    "        df.to_csv(save_path, index=False)\n",
    "\n",
    "def read_jsonl_file(filepath: str) -> List[dict]:\n",
    "    data = []\n",
    "    with open(filepath, 'r') as file:\n",
    "        for line in file:\n",
    "            json_obj = json.loads(line)\n",
    "            data.append(json_obj)\n",
    "    return data\n",
    "\n",
    "def load_data_size_specific(data_path: str, sample_size: int = 0, random_seed: int = 0):\n",
    "    random.seed(random_seed)\n",
    "\n",
    "    if data_path.endswith('.jsonl'):\n",
    "        data = read_jsonl_file(data_path)\n",
    "    elif data_path.endswith('.json'):\n",
    "        with open(data_path, 'r') as file:\n",
    "            data = json.load(file)\n",
    "    \n",
    "    question_length = 0\n",
    "    eligible_data = [x for x in data if len(x[\"question\"]) >= question_length]\n",
    "    \n",
    "    if sample_size > 0 and sample_size < len(eligible_data):\n",
    "        sampled_data = random.sample(eligible_data, sample_size)\n",
    "    else:\n",
    "        sampled_data = eligible_data\n",
    "    \n",
    "    ids = [x[\"id\"] for x in sampled_data]\n",
    "    questions = [x[\"question\"] for x in sampled_data]\n",
    "    \n",
    "    return ids, questions\n",
    "\n",
    "def load_already_answered_ids(save_path: str) -> set:\n",
    "    if os.path.exists(save_path):\n",
    "        df = pd.read_csv(save_path)\n",
    "        answered_ids = set(df['id'].tolist())\n",
    "        # print(f\"Loaded {len(answered_ids)} already answered IDs from: {save_path}\")\n",
    "        print(f\"Already answered IDs: {answered_ids}\")\n",
    "        return answered_ids\n",
    "    else:\n",
    "        print(f\"No existing save file found at: {save_path}. Starting fresh.\")\n",
    "        return set()\n",
    "\n",
    "def initialize_save_file(save_path: str):\n",
    "    if not os.path.exists(save_path):\n",
    "        # Create an empty DataFrame with headers and save\n",
    "        df = pd.DataFrame(columns=['id', 'question', 'answer'])\n",
    "        df.to_csv(save_path, index=False)\n",
    "        print(f\"Initialized new save file with headers at: {save_path}\")"
   ]
  },
  {
   "cell_type": "code",
   "execution_count": 20,
   "metadata": {},
   "outputs": [],
   "source": [
    "def query_4o(prompt: str) -> str:\n",
    "    client = OpenAI()\n",
    "\n",
    "    completion = client.chat.completions.create(\n",
    "        model=\"gpt-4o-2024-08-06\",\n",
    "        messages=[\n",
    "            {\n",
    "                \"role\": \"user\",\n",
    "                \"content\": f\"{prompt}\"\n",
    "            }\n",
    "        ],\n",
    "        temperature=0\n",
    "    )\n",
    "\n",
    "    return completion.choices[0].message.content\n",
    "\n",
    "def query_llama(prompt):\n",
    "    client = openai.OpenAI(\n",
    "        api_key=os.environ.get(\"SAMBANOVA_API_KEY\"),\n",
    "        base_url=\"https://api.sambanova.ai/v1\",\n",
    "    )\n",
    "\n",
    "    response = client.chat.completions.create(\n",
    "        model='Meta-Llama-3.1-8B-Instruct',\n",
    "            messages=[\n",
    "                {\n",
    "                    \"role\": \"user\",\n",
    "                    \"content\": prompt,\n",
    "                }\n",
    "            ],\n",
    "        temperature=0.6, # Meta default\n",
    "        top_p = 0.9 # Meta default\n",
    "    )\n",
    "    time.sleep(2)  # Pause execution for 2 seconds\n",
    "    return response.choices[0].message.content\n",
    "\n",
    "def query_llama_70b(prompt):\n",
    "    client = openai.OpenAI(\n",
    "        api_key=os.environ.get(\"SAMBANOVA_API_KEY\"),\n",
    "        base_url=\"https://api.sambanova.ai/v1\",\n",
    "    )\n",
    "\n",
    "    response = client.chat.completions.create(\n",
    "        model='Meta-Llama-3.1-70B-Instruct',\n",
    "            messages=[\n",
    "                {\n",
    "                    \"role\": \"user\",\n",
    "                    \"content\": prompt,\n",
    "                }\n",
    "            ],\n",
    "        temperature=0.6, # Meta default\n",
    "        top_p = 0.9 # Meta default\n",
    "    )\n",
    "    time.sleep(2)  # Pause execution for 2 seconds\n",
    "    return response.choices[0].message.content\n",
    "\n",
    "def query_llama_405b(prompt):\n",
    "    client = openai.OpenAI(\n",
    "        api_key=os.environ.get(\"SAMBANOVA_API_KEY\"),\n",
    "        base_url=\"https://api.sambanova.ai/v1\",\n",
    "    )\n",
    "\n",
    "    response = client.chat.completions.create(\n",
    "        model='Meta-Llama-3.1-405B-Instruct',\n",
    "            messages=[\n",
    "                {\n",
    "                    \"role\": \"user\",\n",
    "                    \"content\": prompt,\n",
    "                }\n",
    "            ],\n",
    "        temperature=0.6, # Meta default\n",
    "        top_p = 0.9 # Meta default\n",
    "    )\n",
    "    time.sleep(5)  # Pause execution for 2 seconds\n",
    "    return response.choices[0].message.content"
   ]
  },
  {
   "cell_type": "code",
   "execution_count": 17,
   "metadata": {},
   "outputs": [],
   "source": [
    "def query_llm(llm_model: str, ids: List[str], questions: List[str], few_shot_prompt: str, prompt_type: str, save_path: str, already_answered_ids: set) -> Tuple[List[str], List[str], List[str]]:\n",
    "    answers = []\n",
    "    ids_can_be_answered = []\n",
    "    questions_can_be_answered = []\n",
    "    \n",
    "    for id, q in tqdm(zip(ids, questions), total=len(ids)):\n",
    "        # print(q)\n",
    "        # print(f\"Processing ID: {id}\")\n",
    "        if id in already_answered_ids:\n",
    "            print(f\"Skipping: {id}\", end=' ')\n",
    "            continue\n",
    "        if id == 1146: # weird ID that breaks llama\n",
    "            continue\n",
    "        \n",
    "        prompt = get_prompt(prompt_type, few_shot_prompt, q)\n",
    "        try:\n",
    "            if llm_model == 'gemini':\n",
    "                answer = query_gemini(prompt, id)\n",
    "            elif llm_model == 'claude':\n",
    "                answer = query_claude(prompt)\n",
    "            elif llm_model == '4o':\n",
    "                # answer = query_4o_multiturn(prompt)\n",
    "                if prompt_type == 'multi_convo':\n",
    "                    fact_prompt = get_prompt(prompt_type=\"fact_prompt\", few_shot_prompt=\"\", question=q)\n",
    "                    \n",
    "                    answer_prompt = get_prompt(prompt_type=\"answer_prompt_data\", few_shot_prompt=\"\", question=q)\n",
    "                    answer = query_4o_multiconvo(fact_prompt=fact_prompt, answer_prompt=answer_prompt, extracted_question=q)\n",
    "                else:\n",
    "                    answer = query_4o(prompt)\n",
    "                \n",
    "            elif llm_model == 'llama3.18b':\n",
    "                answer = query_llama(prompt)\n",
    "            elif llm_model == 'llama3.170b':\n",
    "                answer = query_llama_70b(prompt)\n",
    "            elif llm_model == 'llama3.1405b':\n",
    "                answer = query_llama_405b(prompt)\n",
    "            else:\n",
    "                raise ValueError(f\"Unsupported LLM model: {llm_model}\")\n",
    "            # print(f\"Answer for ID {id}: {answer}\")\n",
    "            \n",
    "            answers.append(answer)\n",
    "            questions_can_be_answered.append(q)\n",
    "            ids_can_be_answered.append(id)\n",
    "\n",
    "            # Save after each answer\n",
    "            save_results(save_path, [id], [q], [answer], append=True)\n",
    "        except Exception as e:\n",
    "            print(f\"Error processing question {id}: {str(e)}\")\n",
    "            continue\n",
    "    \n",
    "    return ids_can_be_answered, questions_can_be_answered, answers"
   ]
  },
  {
   "cell_type": "markdown",
   "metadata": {},
   "source": [
    "# Driver"
   ]
  },
  {
   "cell_type": "code",
   "execution_count": 13,
   "metadata": {},
   "outputs": [],
   "source": [
    "json_datasets = ['logical_deduction_seven_objects','reasoning_about_colored_objects']\n",
    "jsonl_datasets = ['GSM8K', 'date', 'GSM_Plus', 'MultiArith', 'ASDiv', 'SVAMP', 'AQUA', 'p_GSM8K', 'StrategyQA', 'commonsenseQA','SPARTQA']\n",
    "all_datasets = jsonl_datasets + json_datasets"
   ]
  },
  {
   "cell_type": "code",
   "execution_count": 21,
   "metadata": {},
   "outputs": [],
   "source": [
    "def run_model(llm_model, prompt_type, few_shot_txt, sample_size, project_root):\n",
    "    for dataset in all_datasets:\n",
    "        print(f\"------Processing dataset: {dataset}-------\")\n",
    "        if few_shot_txt:\n",
    "            fewshot_prompt_path = os.path.join(project_root, \"prompt\", dataset, few_shot_txt)\n",
    "            \n",
    "        save_dir = os.path.join(project_root, 'logan/results/final/VanillaCoT', dataset, f'{llm_model}')\n",
    "        os.makedirs(save_dir, exist_ok=True)  # Ensure the directory exists\n",
    "        save_path = os.path.join(save_dir, f'{prompt_type}_{few_shot_txt}_{dataset}_{llm_model}.csv')\n",
    "\n",
    "        if dataset in json_datasets:\n",
    "            data_path = os.path.join(project_root, 'data', dataset, 'test.json')\n",
    "        else:\n",
    "            data_path = os.path.join(project_root, 'data', dataset, 'test.jsonl')\n",
    "\n",
    "\n",
    "        ids, questions = load_data_size_specific(data_path, sample_size=sample_size)\n",
    "        if few_shot_txt:\n",
    "            with open(fewshot_prompt_path, 'r') as file:\n",
    "                few_shot_prompt = file.read()\n",
    "        else:\n",
    "            few_shot_prompt = \"\"\n",
    "\n",
    "        initialize_save_file(save_path)\n",
    "        already_answered_ids = load_already_answered_ids(save_path)\n",
    "\n",
    "        ids_answered, questions_answered, answers = query_llm(\n",
    "            llm_model=llm_model,\n",
    "            ids=ids,\n",
    "            questions=questions,\n",
    "            few_shot_prompt=few_shot_prompt,\n",
    "            prompt_type=prompt_type,\n",
    "            save_path=save_path,\n",
    "            already_answered_ids=already_answered_ids\n",
    "        )\n",
    "\n",
    "        print(f\"Processing complete for {dataset}. {len(ids_answered)} new answers saved to {save_path}.\")"
   ]
  },
  {
   "cell_type": "code",
   "execution_count": 24,
   "metadata": {},
   "outputs": [
    {
     "name": "stdout",
     "output_type": "stream",
     "text": [
      "------Processing dataset: GSM8K-------\n",
      "Already answered IDs: {0, 2, 3, 4, 6, 8, 18, 25, 27, 28, 29, 30, 33, 36, 38, 42, 44, 46, 49, 54, 62, 64, 65, 67, 72, 74, 79, 80, 82, 83, 85, 86, 89, 92, 93, 95, 100, 101, 102, 111, 117, 118, 125, 127, 128, 130, 132, 141, 143, 147, 151, 153, 159, 161, 164, 165, 166, 167, 168, 170, 183, 186, 187, 191, 194, 196, 200, 202, 205, 206, 207, 222, 223, 225, 226, 235, 236, 237, 239, 240, 243, 245, 253, 254, 255, 266, 267, 271, 273, 276, 283, 285, 286, 291, 296, 299, 300, 306, 309, 314, 315, 316, 322, 324, 327, 331, 336, 339, 343, 345, 346, 349, 351, 358, 365, 367, 369, 373, 376, 377, 378, 382, 384, 385, 386, 387, 389, 390, 391, 393, 394, 398, 403, 404, 406, 408, 412, 416, 418, 421, 424, 425, 431, 433, 436, 437, 440, 441, 447, 448, 451, 452, 454, 456, 459, 482, 485, 488, 489, 490, 491, 492, 495, 497, 499, 500, 509, 513, 525, 530, 531, 532, 533, 535, 555, 561, 562, 563, 564, 569, 570, 573, 574, 575, 577, 578, 589, 594, 596, 597, 598, 599, 616, 617, 619, 621, 635, 637, 639, 641, 644, 647, 649, 654, 655, 664, 666, 667, 676, 681, 682, 684, 686, 687, 691, 695, 701, 703, 710, 716, 717, 718, 721, 724, 731, 733, 734, 735, 746, 748, 751, 752, 758, 761, 762, 767, 769, 775, 788, 794, 795, 798, 801, 807, 812, 816, 817, 822, 823, 825, 827, 829, 831, 839, 841, 848, 850, 855, 856, 858, 861, 871, 872, 873, 877, 884, 889, 891, 893, 905, 906, 911, 912, 914, 915, 917, 922, 927, 930, 937, 939, 941, 956, 963, 965, 966, 974, 975, 976, 981, 986, 994, 995, 996, 997, 1002, 1005, 1006, 1008, 1010, 1012, 1024, 1028, 1031, 1033, 1038, 1039, 1040, 1041, 1042, 1045, 1046, 1047, 1067, 1068, 1073, 1074, 1076, 1077, 1080, 1081, 1084, 1090, 1094, 1103, 1106, 1107, 1109, 1111, 1112, 1114, 1118, 1120, 1121, 1123, 1128, 1129, 1131, 1138, 1139, 1143, 1145, 1153, 1156, 1162, 1163, 1166, 1168, 1174, 1175, 1176, 1178, 1179, 1180, 1181, 1187, 1191, 1192, 1194, 1199, 1202, 1203, 1207, 1209, 1221, 1224, 1225, 1227, 1230, 1231, 1232, 1235, 1240, 1241, 1243, 1247, 1249, 1251, 1252, 1253, 1259, 1261, 1266, 1271, 1273, 1276, 1279, 1287, 1290, 1291, 1294, 1295, 1296, 1297, 1300, 1310, 1315, 1317, 1318}\n"
     ]
    },
    {
     "name": "stderr",
     "output_type": "stream",
     "text": [
      "100%|██████████| 400/400 [00:00<00:00, 650027.74it/s]"
     ]
    },
    {
     "name": "stderr",
     "output_type": "stream",
     "text": [
      "\n"
     ]
    },
    {
     "name": "stdout",
     "output_type": "stream",
     "text": [
      "Skipping: 788 Skipping: 861 Skipping: 82 Skipping: 530 Skipping: 1047 Skipping: 995 Skipping: 829 Skipping: 621 Skipping: 976 Skipping: 733 Skipping: 1194 Skipping: 447 Skipping: 1033 Skipping: 285 Skipping: 577 Skipping: 286 Skipping: 194 Skipping: 1266 Skipping: 513 Skipping: 1090 Skipping: 1232 Skipping: 300 Skipping: 635 Skipping: 202 Skipping: 151 Skipping: 676 Skipping: 966 Skipping: 206 Skipping: 724 Skipping: 889 Skipping: 647 Skipping: 1251 Skipping: 418 Skipping: 1131 Skipping: 1310 Skipping: 906 Skipping: 1067 Skipping: 533 Skipping: 127 Skipping: 1123 Skipping: 28 Skipping: 191 Skipping: 816 Skipping: 2 Skipping: 1253 Skipping: 1010 Skipping: 682 Skipping: 499 Skipping: 666 Skipping: 128 Skipping: 391 Skipping: 1162 Skipping: 454 Skipping: 488 Skipping: 291 Skipping: 1112 Skipping: 917 Skipping: 186 Skipping: 164 Skipping: 655 Skipping: 1040 Skipping: 1002 Skipping: 223 Skipping: 617 Skipping: 1128 Skipping: 596 Skipping: 255 Skipping: 1121 Skipping: 681 Skipping: 1106 Skipping: 416 Skipping: 1235 Skipping: 1120 Skipping: 1203 Skipping: 589 Skipping: 911 Skipping: 187 Skipping: 1221 Skipping: 1318 Skipping: 649 Skipping: 1178 Skipping: 495 Skipping: 594 Skipping: 376 Skipping: 387 Skipping: 382 Skipping: 67 Skipping: 532 Skipping: 975 Skipping: 141 Skipping: 183 Skipping: 266 Skipping: 306 Skipping: 79 Skipping: 1259 Skipping: 1107 Skipping: 801 Skipping: 1074 Skipping: 564 Skipping: 1068 Skipping: 482 Skipping: 440 Skipping: 1207 Skipping: 858 Skipping: 1187 Skipping: 563 Skipping: 922 Skipping: 1008 Skipping: 731 Skipping: 168 Skipping: 664 Skipping: 236 Skipping: 996 Skipping: 1202 Skipping: 686 Skipping: 389 Skipping: 497 Skipping: 33 Skipping: 555 Skipping: 239 Skipping: 451 Skipping: 761 Skipping: 349 Skipping: 1249 Skipping: 872 Skipping: 1279 Skipping: 1290 Skipping: 299 Skipping: 448 Skipping: 92 Skipping: 1175 Skipping: 1094 Skipping: 1294 Skipping: 54 Skipping: 254 Skipping: 386 Skipping: 1179 Skipping: 245 Skipping: 1240 Skipping: 1241 Skipping: 758 Skipping: 237 Skipping: 74 Skipping: 44 Skipping: 398 Skipping: 378 Skipping: 253 Skipping: 981 Skipping: 431 Skipping: 125 Skipping: 46 Skipping: 1114 Skipping: 871 Skipping: 207 Skipping: 1230 Skipping: 143 Skipping: 452 Skipping: 147 Skipping: 616 Skipping: 717 Skipping: 893 Skipping: 369 Skipping: 1168 Skipping: 1031 Skipping: 956 Skipping: 80 Skipping: 1191 Skipping: 1181 Skipping: 408 Skipping: 1163 Skipping: 734 Skipping: 963 Skipping: 346 Skipping: 1247 Skipping: 118 Skipping: 324 Skipping: 331 Skipping: 701 Skipping: 1084 Skipping: 1300 Skipping: 240 Skipping: 905 Skipping: 358 Skipping: 27 Skipping: 965 Skipping: 839 Skipping: 1041 Skipping: 637 Skipping: 1209 Skipping: 795 Skipping: 1138 Skipping: 314 Skipping: 25 Skipping: 937 Skipping: 161 Skipping: 687 Skipping: 93 Skipping: 1166 Skipping: 575 Skipping: 276 Skipping: 491 Skipping: 986 Skipping: 721 Skipping: 1243 Skipping: 735 Skipping: 271 Skipping: 1296 Skipping: 794 Skipping: 848 Skipping: 165 Skipping: 3 Skipping: 393 Skipping: 684 Skipping: 327 Skipping: 490 Skipping: 456 Skipping: 1261 Skipping: 775 Skipping: 1109 Skipping: 64 Skipping: 823 Skipping: 856 Skipping: 95 Skipping: 339 Skipping: 912 Skipping: 130 Skipping: 1315 Skipping: 322 Skipping: 914 Skipping: 1080 Skipping: 997 Skipping: 0 Skipping: 1224 Skipping: 1012 Skipping: 667 Skipping: 639 Skipping: 1153 Skipping: 102 Skipping: 850 Skipping: 385 Skipping: 170 Skipping: 267 Skipping: 30 Skipping: 822 Skipping: 855 Skipping: 1287 Skipping: 6 Skipping: 437 Skipping: 29 Skipping: 4 Skipping: 200 Skipping: 390 Skipping: 243 Skipping: 406 Skipping: 619 Skipping: 573 Skipping: 373 Skipping: 205 Skipping: 974 Skipping: 812 Skipping: 166 Skipping: 1174 Skipping: 562 Skipping: 927 Skipping: 1176 Skipping: 525 Skipping: 273 Skipping: 710 Skipping: 235 Skipping: 316 Skipping: 570 Skipping: 38 Skipping: 86 Skipping: 83 Skipping: 421 Skipping: 531 Skipping: 644 Skipping: 751 Skipping: 1045 Skipping: 1139 Skipping: 939 Skipping: 891 Skipping: 762 Skipping: 365 Skipping: 425 Skipping: 769 Skipping: 1252 Skipping: 18 Skipping: 283 Skipping: 309 Skipping: 1199 Skipping: 1271 Skipping: 691 Skipping: 752 Skipping: 1276 Skipping: 1145 Skipping: 798 Skipping: 1111 Skipping: 36 Skipping: 42 Skipping: 1118 Skipping: 167 Skipping: 153 Skipping: 1005 Skipping: 597 Skipping: 296 Skipping: 1156 Skipping: 404 Skipping: 561 Skipping: 132 Skipping: 1297 Skipping: 117 Skipping: 489 Skipping: 748 Skipping: 1180 Skipping: 1081 Skipping: 49 Skipping: 315 Skipping: 1227 Skipping: 877 Skipping: 535 Skipping: 746 Skipping: 72 Skipping: 1028 Skipping: 412 Skipping: 1073 Skipping: 336 Skipping: 1225 Skipping: 424 Skipping: 111 Skipping: 101 Skipping: 574 Skipping: 930 Skipping: 492 Skipping: 485 Skipping: 345 Skipping: 1317 Skipping: 817 Skipping: 831 Skipping: 351 Skipping: 1192 Skipping: 1103 Skipping: 1143 Skipping: 716 Skipping: 509 Skipping: 436 Skipping: 1046 Skipping: 994 Skipping: 343 Skipping: 1024 Skipping: 703 Skipping: 915 Skipping: 159 Skipping: 941 Skipping: 1077 Skipping: 641 Skipping: 578 Skipping: 384 Skipping: 825 Skipping: 654 Skipping: 89 Skipping: 1231 Skipping: 827 Skipping: 1039 Skipping: 1295 Skipping: 767 Skipping: 226 Skipping: 62 Skipping: 394 Skipping: 8 Skipping: 100 Skipping: 403 Skipping: 569 Skipping: 1042 Skipping: 1038 Skipping: 459 Skipping: 500 Skipping: 807 Skipping: 598 Skipping: 1129 Skipping: 695 Skipping: 222 Skipping: 433 Skipping: 85 Skipping: 377 Skipping: 225 Skipping: 1076 Skipping: 599 Skipping: 1273 Skipping: 1291 Skipping: 441 Skipping: 196 Skipping: 367 Skipping: 1006 Skipping: 65 Skipping: 841 Skipping: 884 Skipping: 873 Skipping: 718 Processing complete for GSM8K. 0 new answers saved to /Users/log/Github/textual_grounding/logan/results/final/VanillaCoT/GSM8K/llama3.1405b/zero_shot_vanilla_cot_None_GSM8K_llama3.1405b.csv.\n",
      "------Processing dataset: date-------\n",
      "Already answered IDs: {0, 1, 2, 3, 4, 5, 6, 7, 8, 9, 10, 11, 12, 13, 14, 15, 16, 17, 18, 19, 20, 21, 22, 23, 24, 25, 26, 27, 28, 29, 30, 31, 32, 33, 34, 35, 36, 37, 38, 39, 40, 41, 42, 43, 44, 45, 46, 47, 48, 49, 50, 51, 52, 53, 54, 55, 56, 57, 58, 59, 60, 61, 62, 63, 64, 65, 66, 67, 68, 69, 70, 71, 72, 73, 74, 75, 76, 77, 78, 79, 80, 81, 82, 83, 84, 85, 86, 87, 88, 89, 90, 91, 92, 93, 94, 95, 96, 97, 98, 99, 100, 101, 102, 103, 104, 105, 106, 107, 108, 109, 110, 111, 112, 113, 114, 115, 116, 117, 118, 119, 120, 121, 122, 123, 124, 125, 126, 127, 128, 129, 130, 131, 132, 133, 134, 135, 136, 137, 138, 139, 140, 141, 142, 143, 144, 145, 146, 147, 148, 149, 150, 151, 152, 153, 154, 155, 156, 157, 158, 159, 160, 161, 162, 163, 164, 165, 166, 167, 168, 169, 170, 171, 172, 173, 174, 175, 176, 177, 178, 179, 180, 181, 182, 183, 184, 185, 186, 187, 188, 189, 190, 191, 192, 193, 194, 195, 196, 197, 198, 199, 200, 201, 202, 203, 204, 205, 206, 207, 208, 209, 210, 211, 212, 213, 214, 215, 216, 217, 218, 219, 220, 221, 222, 223, 224, 225, 226, 227, 228, 229, 230, 231, 232, 233, 234, 235, 236, 237, 238, 239, 240, 241, 242, 243, 244, 245, 246, 247, 248, 249, 250, 251, 252, 253, 254, 255, 256, 257, 258, 259, 260, 261, 262, 263, 264, 265, 266, 267, 268, 269, 270, 271, 272, 273, 274, 275, 276, 277, 278, 279, 280, 281, 282, 283, 284, 285, 286, 287, 288, 289, 290, 291, 292, 293, 294, 295, 296, 297, 298, 299, 300, 301, 302, 303, 304, 305, 306, 307, 308, 309, 310, 311, 312, 313, 314, 315, 316, 317, 318, 319, 320, 321, 322, 323, 324, 325, 326, 327, 328, 329, 330, 331, 332, 333, 334, 335, 336, 337, 338, 339, 340, 341, 342, 343, 344, 345, 346, 347, 348, 349, 350, 351, 352, 353, 354, 355, 356, 357, 358}\n"
     ]
    },
    {
     "name": "stderr",
     "output_type": "stream",
     "text": [
      "100%|██████████| 359/359 [00:00<00:00, 702638.89it/s]\n"
     ]
    },
    {
     "name": "stdout",
     "output_type": "stream",
     "text": [
      "Skipping: 0 Skipping: 1 Skipping: 2 Skipping: 3 Skipping: 4 Skipping: 5 Skipping: 6 Skipping: 7 Skipping: 8 Skipping: 9 Skipping: 10 Skipping: 11 Skipping: 12 Skipping: 13 Skipping: 14 Skipping: 15 Skipping: 16 Skipping: 17 Skipping: 18 Skipping: 19 Skipping: 20 Skipping: 21 Skipping: 22 Skipping: 23 Skipping: 24 Skipping: 25 Skipping: 26 Skipping: 27 Skipping: 28 Skipping: 29 Skipping: 30 Skipping: 31 Skipping: 32 Skipping: 33 Skipping: 34 Skipping: 35 Skipping: 36 Skipping: 37 Skipping: 38 Skipping: 39 Skipping: 40 Skipping: 41 Skipping: 42 Skipping: 43 Skipping: 44 Skipping: 45 Skipping: 46 Skipping: 47 Skipping: 48 Skipping: 49 Skipping: 50 Skipping: 51 Skipping: 52 Skipping: 53 Skipping: 54 Skipping: 55 Skipping: 56 Skipping: 57 Skipping: 58 Skipping: 59 Skipping: 60 Skipping: 61 Skipping: 62 Skipping: 63 Skipping: 64 Skipping: 65 Skipping: 66 Skipping: 67 Skipping: 68 Skipping: 69 Skipping: 70 Skipping: 71 Skipping: 72 Skipping: 73 Skipping: 74 Skipping: 75 Skipping: 76 Skipping: 77 Skipping: 78 Skipping: 79 Skipping: 80 Skipping: 81 Skipping: 82 Skipping: 83 Skipping: 84 Skipping: 85 Skipping: 86 Skipping: 87 Skipping: 88 Skipping: 89 Skipping: 90 Skipping: 91 Skipping: 92 Skipping: 93 Skipping: 94 Skipping: 95 Skipping: 96 Skipping: 97 Skipping: 98 Skipping: 99 Skipping: 100 Skipping: 101 Skipping: 102 Skipping: 103 Skipping: 104 Skipping: 105 Skipping: 106 Skipping: 107 Skipping: 108 Skipping: 109 Skipping: 110 Skipping: 111 Skipping: 112 Skipping: 113 Skipping: 114 Skipping: 115 Skipping: 116 Skipping: 117 Skipping: 118 Skipping: 119 Skipping: 120 Skipping: 121 Skipping: 122 Skipping: 123 Skipping: 124 Skipping: 125 Skipping: 126 Skipping: 127 Skipping: 128 Skipping: 129 Skipping: 130 Skipping: 131 Skipping: 132 Skipping: 133 Skipping: 134 Skipping: 135 Skipping: 136 Skipping: 137 Skipping: 138 Skipping: 139 Skipping: 140 Skipping: 141 Skipping: 142 Skipping: 143 Skipping: 144 Skipping: 145 Skipping: 146 Skipping: 147 Skipping: 148 Skipping: 149 Skipping: 150 Skipping: 151 Skipping: 152 Skipping: 153 Skipping: 154 Skipping: 155 Skipping: 156 Skipping: 157 Skipping: 158 Skipping: 159 Skipping: 160 Skipping: 161 Skipping: 162 Skipping: 163 Skipping: 164 Skipping: 165 Skipping: 166 Skipping: 167 Skipping: 168 Skipping: 169 Skipping: 170 Skipping: 171 Skipping: 172 Skipping: 173 Skipping: 174 Skipping: 175 Skipping: 176 Skipping: 177 Skipping: 178 Skipping: 179 Skipping: 180 Skipping: 181 Skipping: 182 Skipping: 183 Skipping: 184 Skipping: 185 Skipping: 186 Skipping: 187 Skipping: 188 Skipping: 189 Skipping: 190 Skipping: 191 Skipping: 192 Skipping: 193 Skipping: 194 Skipping: 195 Skipping: 196 Skipping: 197 Skipping: 198 Skipping: 199 Skipping: 200 Skipping: 201 Skipping: 202 Skipping: 203 Skipping: 204 Skipping: 205 Skipping: 206 Skipping: 207 Skipping: 208 Skipping: 209 Skipping: 210 Skipping: 211 Skipping: 212 Skipping: 213 Skipping: 214 Skipping: 215 Skipping: 216 Skipping: 217 Skipping: 218 Skipping: 219 Skipping: 220 Skipping: 221 Skipping: 222 Skipping: 223 Skipping: 224 Skipping: 225 Skipping: 226 Skipping: 227 Skipping: 228 Skipping: 229 Skipping: 230 Skipping: 231 Skipping: 232 Skipping: 233 Skipping: 234 Skipping: 235 Skipping: 236 Skipping: 237 Skipping: 238 Skipping: 239 Skipping: 240 Skipping: 241 Skipping: 242 Skipping: 243 Skipping: 244 Skipping: 245 Skipping: 246 Skipping: 247 Skipping: 248 Skipping: 249 Skipping: 250 Skipping: 251 Skipping: 252 Skipping: 253 Skipping: 254 Skipping: 255 Skipping: 256 Skipping: 257 Skipping: 258 Skipping: 259 Skipping: 260 Skipping: 261 Skipping: 262 Skipping: 263 Skipping: 264 Skipping: 265 Skipping: 266 Skipping: 267 Skipping: 268 Skipping: 269 Skipping: 270 Skipping: 271 Skipping: 272 Skipping: 273 Skipping: 274 Skipping: 275 Skipping: 276 Skipping: 277 Skipping: 278 Skipping: 279 Skipping: 280 Skipping: 281 Skipping: 282 Skipping: 283 Skipping: 284 Skipping: 285 Skipping: 286 Skipping: 287 Skipping: 288 Skipping: 289 Skipping: 290 Skipping: 291 Skipping: 292 Skipping: 293 Skipping: 294 Skipping: 295 Skipping: 296 Skipping: 297 Skipping: 298 Skipping: 299 Skipping: 300 Skipping: 301 Skipping: 302 Skipping: 303 Skipping: 304 Skipping: 305 Skipping: 306 Skipping: 307 Skipping: 308 Skipping: 309 Skipping: 310 Skipping: 311 Skipping: 312 Skipping: 313 Skipping: 314 Skipping: 315 Skipping: 316 Skipping: 317 Skipping: 318 Skipping: 319 Skipping: 320 Skipping: 321 Skipping: 322 Skipping: 323 Skipping: 324 Skipping: 325 Skipping: 326 Skipping: 327 Skipping: 328 Skipping: 329 Skipping: 330 Skipping: 331 Skipping: 332 Skipping: 333 Skipping: 334 Skipping: 335 Skipping: 336 Skipping: 337 Skipping: 338 Skipping: 339 Skipping: 340 Skipping: 341 Skipping: 342 Skipping: 343 Skipping: 344 Skipping: 345 Skipping: 346 Skipping: 347 Skipping: 348 Skipping: 349 Skipping: 350 Skipping: 351 Skipping: 352 Skipping: 353 Skipping: 354 Skipping: 355 Skipping: 356 Skipping: 357 Skipping: 358 Processing complete for date. 0 new answers saved to /Users/log/Github/textual_grounding/logan/results/final/VanillaCoT/date/llama3.1405b/zero_shot_vanilla_cot_None_date_llama3.1405b.csv.\n",
      "------Processing dataset: GSM_Plus-------\n",
      "Already answered IDs: {1, 5, 7, 10, 14, 2063, 2068, 2079, 2081, 33, 2084, 37, 2091, 2095, 51, 55, 58, 59, 61, 67, 2122, 77, 2127, 2132, 2134, 87, 2136, 89, 2138, 90, 94, 2144, 2149, 110, 2161, 114, 2169, 130, 2180, 2182, 136, 2184, 2188, 2189, 147, 150, 155, 2205, 159, 160, 162, 166, 2214, 2215, 167, 169, 173, 174, 2225, 2230, 186, 188, 192, 2242, 2243, 198, 2246, 2248, 2250, 205, 2258, 2263, 2264, 2265, 215, 2271, 2274, 2277, 2279, 238, 2293, 251, 255, 256, 258, 262, 2311, 2315, 270, 2320, 2325, 2328, 283, 2332, 2335, 287, 2338, 291, 295, 2343, 300, 303, 304, 2356, 310, 2360, 2371, 324, 2374, 329, 330, 331, 2380, 334, 2383, 338, 2386, 2390, 342, 343, 347, 357, 368, 374, 375, 376, 383, 384, 389, 401, 402, 405, 406, 408, 411, 413, 414, 416, 425, 443, 446, 447, 471, 472, 473, 475, 476, 480, 481, 488, 491, 508, 510, 512, 526, 532, 534, 535, 543, 547, 553, 568, 571, 573, 584, 600, 602, 613, 619, 629, 633, 638, 646, 649, 656, 661, 664, 672, 679, 683, 694, 699, 717, 731, 736, 739, 741, 747, 754, 758, 765, 771, 773, 775, 776, 780, 781, 783, 787, 788, 798, 812, 814, 816, 817, 827, 832, 833, 834, 838, 843, 852, 863, 867, 875, 882, 890, 895, 897, 902, 904, 905, 906, 909, 914, 939, 965, 978, 981, 982, 984, 992, 996, 1000, 1015, 1021, 1022, 1027, 1028, 1051, 1061, 1062, 1064, 1065, 1066, 1067, 1068, 1069, 1105, 1111, 1112, 1120, 1126, 1128, 1129, 1141, 1147, 1151, 1155, 1179, 1180, 1186, 1188, 1190, 1193, 1202, 1222, 1226, 1234, 1235, 1237, 1239, 1240, 1243, 1249, 1262, 1271, 1276, 1277, 1279, 1290, 1296, 1299, 1301, 1308, 1311, 1313, 1329, 1333, 1336, 1346, 1353, 1363, 1365, 1366, 1370, 1373, 1374, 1376, 1381, 1383, 1386, 1392, 1393, 1403, 1408, 1422, 1435, 1443, 1450, 1463, 1464, 1467, 1469, 1472, 1479, 1503, 1505, 1509, 1517, 1524, 1526, 1539, 1551, 1577, 1578, 1590, 1592, 1603, 1614, 1618, 1625, 1634, 1646, 1648, 1652, 1659, 1679, 1694, 1698, 1699, 1701, 1708, 1711, 1714, 1718, 1723, 1733, 1744, 1746, 1748, 1767, 1779, 1784, 1787, 1792, 1798, 1812, 1814, 1819, 1823, 1825, 1829, 1835, 1836, 1838, 1846, 1850, 1856, 1876, 1879, 1908, 1913, 1914, 1927, 1932, 1934, 1942, 1949, 1952, 1953, 1954, 1959, 1963, 1971, 1974, 1991, 1993, 1996, 2002, 2005, 2014, 2018, 2022, 2025, 2026, 2036, 2037, 2039, 2042}\n"
     ]
    },
    {
     "name": "stderr",
     "output_type": "stream",
     "text": [
      "100%|██████████| 400/400 [00:00<00:00, 746649.58it/s]\n"
     ]
    },
    {
     "name": "stdout",
     "output_type": "stream",
     "text": [
      "Skipping: 1578 Skipping: 1723 Skipping: 166 Skipping: 1061 Skipping: 2095 Skipping: 1991 Skipping: 1659 Skipping: 1243 Skipping: 1953 Skipping: 1467 Skipping: 2390 Skipping: 895 Skipping: 2068 Skipping: 571 Skipping: 1155 Skipping: 573 Skipping: 389 Skipping: 1027 Skipping: 2182 Skipping: 602 Skipping: 1271 Skipping: 405 Skipping: 303 Skipping: 1353 Skipping: 1934 Skipping: 2293 Skipping: 413 Skipping: 1450 Skipping: 1779 Skipping: 1296 Skipping: 838 Skipping: 2264 Skipping: 1954 Skipping: 1814 Skipping: 2136 Skipping: 1067 Skipping: 256 Skipping: 2248 Skipping: 58 Skipping: 383 Skipping: 1634 Skipping: 5 Skipping: 2022 Skipping: 1365 Skipping: 1000 Skipping: 1333 Skipping: 258 Skipping: 783 Skipping: 2325 Skipping: 909 Skipping: 978 Skipping: 584 Skipping: 2225 Skipping: 1835 Skipping: 374 Skipping: 330 Skipping: 1311 Skipping: 2081 Skipping: 2005 Skipping: 447 Skipping: 1235 Skipping: 2258 Skipping: 1193 Skipping: 512 Skipping: 2243 Skipping: 1363 Skipping: 2214 Skipping: 833 Skipping: 2242 Skipping: 1179 Skipping: 1823 Skipping: 376 Skipping: 1577 Skipping: 1299 Skipping: 992 Skipping: 1190 Skipping: 754 Skipping: 776 Skipping: 765 Skipping: 136 Skipping: 1066 Skipping: 1952 Skipping: 283 Skipping: 368 Skipping: 534 Skipping: 613 Skipping: 159 Skipping: 329 Skipping: 2215 Skipping: 1603 Skipping: 2149 Skipping: 1129 Skipping: 2138 Skipping: 965 Skipping: 882 Skipping: 1718 Skipping: 1128 Skipping: 1846 Skipping: 2018 Skipping: 1464 Skipping: 338 Skipping: 1329 Skipping: 473 Skipping: 1993 Skipping: 1374 Skipping: 780 Skipping: 996 Skipping: 67 Skipping: 1111 Skipping: 480 Skipping: 904 Skipping: 1524 Skipping: 699 Skipping: 2335 Skipping: 1746 Skipping: 255 Skipping: 2374 Skipping: 600 Skipping: 897 Skipping: 186 Skipping: 2189 Skipping: 304 Skipping: 110 Skipping: 510 Skipping: 773 Skipping: 491 Skipping: 2311 Skipping: 375 Skipping: 1517 Skipping: 476 Skipping: 150 Skipping: 89 Skipping: 798 Skipping: 758 Skipping: 508 Skipping: 1963 Skipping: 863 Skipping: 251 Skipping: 94 Skipping: 2230 Skipping: 1744 Skipping: 416 Skipping: 1065 Skipping: 287 Skipping: 905 Skipping: 295 Skipping: 1234 Skipping: 1435 Skipping: 1787 Skipping: 739 Skipping: 2263 Skipping: 2063 Skipping: 1914 Skipping: 162 Skipping: 414 Skipping: 2274 Skipping: 817 Skipping: 2320 Skipping: 1469 Skipping: 1927 Skipping: 694 Skipping: 834 Skipping: 238 Skipping: 649 Skipping: 664 Skipping: 1403 Skipping: 2169 Skipping: 2383 Skipping: 481 Skipping: 1812 Skipping: 717 Skipping: 55 Skipping: 1932 Skipping: 1679 Skipping: 2084 Skipping: 1276 Skipping: 1463 Skipping: 1592 Skipping: 1028 Skipping: 629 Skipping: 51 Skipping: 1876 Skipping: 324 Skipping: 1376 Skipping: 188 Skipping: 1151 Skipping: 553 Skipping: 984 Skipping: 1974 Skipping: 1443 Skipping: 1180 Skipping: 1472 Skipping: 543 Skipping: 2380 Skipping: 1590 Skipping: 1698 Skipping: 331 Skipping: 7 Skipping: 788 Skipping: 1370 Skipping: 656 Skipping: 981 Skipping: 914 Skipping: 1836 Skipping: 1551 Skipping: 2205 Skipping: 130 Skipping: 1648 Skipping: 1714 Skipping: 192 Skipping: 679 Skipping: 1825 Skipping: 262 Skipping: 1062 Skipping: 646 Skipping: 1829 Skipping: 2161 Skipping: 1996 Skipping: 1 Skipping: 160 Skipping: 2026 Skipping: 1336 Skipping: 1279 Skipping: 1913 Skipping: 205 Skipping: 1701 Skipping: 771 Skipping: 342 Skipping: 535 Skipping: 61 Skipping: 1646 Skipping: 1711 Skipping: 2371 Skipping: 14 Skipping: 875 Skipping: 59 Skipping: 10 Skipping: 401 Skipping: 781 Skipping: 488 Skipping: 814 Skipping: 1239 Skipping: 1147 Skipping: 747 Skipping: 411 Skipping: 1949 Skipping: 1625 Skipping: 334 Skipping: 90 Skipping: 1126 Skipping: 1856 Skipping: 475 Skipping: 1051 Skipping: 547 Skipping: 2134 Skipping: 1422 Skipping: 472 Skipping: 633 Skipping: 1141 Skipping: 77 Skipping: 174 Skipping: 167 Skipping: 843 Skipping: 1064 Skipping: 1290 Skipping: 1503 Skipping: 173 Skipping: 2180 Skipping: 1879 Skipping: 1784 Skipping: 1526 Skipping: 731 Skipping: 852 Skipping: 1539 Skipping: 2338 Skipping: 37 Skipping: 568 Skipping: 619 Skipping: 1112 Skipping: 1366 Skipping: 1383 Skipping: 1505 Skipping: 384 Skipping: 1386 Skipping: 147 Skipping: 169 Skipping: 1105 Skipping: 672 Skipping: 2315 Skipping: 1186 Skipping: 1479 Skipping: 1618 Skipping: 532 Skipping: 1202 Skipping: 471 Skipping: 1959 Skipping: 982 Skipping: 198 Skipping: 1262 Skipping: 736 Skipping: 291 Skipping: 1240 Skipping: 1652 Skipping: 1346 Skipping: 1226 Skipping: 1699 Skipping: 446 Skipping: 408 Skipping: 1971 Skipping: 1942 Skipping: 1381 Skipping: 1408 Skipping: 2277 Skipping: 2265 Skipping: 2271 Skipping: 2039 Skipping: 1748 Skipping: 155 Skipping: 1237 Skipping: 1373 Skipping: 638 Skipping: 683 Skipping: 2127 Skipping: 357 Skipping: 270 Skipping: 347 Skipping: 812 Skipping: 906 Skipping: 2250 Skipping: 2328 Skipping: 33 Skipping: 402 Skipping: 1614 Skipping: 1188 Skipping: 1838 Skipping: 2002 Skipping: 890 Skipping: 1733 Skipping: 343 Skipping: 1509 Skipping: 902 Skipping: 1069 Skipping: 2079 Skipping: 1767 Skipping: 787 Skipping: 2332 Skipping: 2144 Skipping: 2188 Skipping: 114 Skipping: 1850 Skipping: 827 Skipping: 2184 Skipping: 2037 Skipping: 816 Skipping: 526 Skipping: 425 Skipping: 1313 Skipping: 87 Skipping: 2042 Skipping: 2091 Skipping: 2360 Skipping: 443 Skipping: 1277 Skipping: 300 Skipping: 215 Skipping: 406 Skipping: 939 Skipping: 775 Skipping: 741 Skipping: 1120 Skipping: 1694 Skipping: 310 Skipping: 2036 Skipping: 2025 Skipping: 1222 Skipping: 2014 Skipping: 2356 Skipping: 2279 Skipping: 2386 Skipping: 832 Skipping: 1308 Skipping: 1393 Skipping: 867 Skipping: 1798 Skipping: 1068 Skipping: 1015 Skipping: 1392 Skipping: 2132 Skipping: 1819 Skipping: 661 Skipping: 1708 Skipping: 1021 Skipping: 1022 Skipping: 1301 Skipping: 2343 Skipping: 1792 Skipping: 2246 Skipping: 2122 Skipping: 1249 Skipping: 1908 Processing complete for GSM_Plus. 0 new answers saved to /Users/log/Github/textual_grounding/logan/results/final/VanillaCoT/GSM_Plus/llama3.1405b/zero_shot_vanilla_cot_None_GSM_Plus_llama3.1405b.csv.\n",
      "------Processing dataset: MultiArith-------\n",
      "Already answered IDs: {0, 1, 4, 6, 7, 8, 9, 11, 12, 13, 14, 16, 18, 19, 20, 21, 22, 23, 25, 27, 29, 31, 32, 33, 35, 36, 37, 38, 39, 40, 41, 42, 46, 47, 48, 51, 52, 60, 61, 62, 63, 65, 66, 68, 69, 70, 71, 72, 76, 77, 78, 79, 80, 81, 82, 83, 84, 86, 87, 88, 89, 91, 93, 94, 95, 96, 97, 98, 99, 100, 101, 103, 104, 105, 106, 107, 108, 109, 111, 113, 114, 115, 116, 123, 124, 125, 126, 129, 130, 133, 134, 135, 140, 142, 144, 145, 146, 147, 149, 151, 152, 155, 156, 160, 161, 162, 163, 165, 168, 172, 173, 174, 175, 177, 179, 181, 182, 184, 185, 188, 189, 190, 191, 193, 194, 195, 196, 198, 201, 203, 206, 207, 208, 210, 211, 212, 215, 216, 217, 218, 220, 221, 222, 223, 225, 226, 229, 230, 231, 232, 233, 234, 237, 242, 243, 244, 245, 246, 247, 248, 249, 250, 252, 254, 255, 256, 258, 259, 260, 262, 263, 266, 268, 269, 271, 273, 274, 276, 277, 278, 281, 283, 284, 285, 289, 290, 291, 293, 294, 296, 297, 298, 300, 301, 303, 305, 307, 308, 310, 311, 312, 313, 315, 316, 317, 318, 319, 320, 321, 322, 325, 326, 327, 328, 329, 330, 331, 334, 335, 336, 337, 339, 340, 341, 342, 343, 344, 347, 349, 350, 351, 354, 355, 356, 357, 360, 361, 364, 365, 367, 369, 370, 371, 372, 374, 375, 377, 379, 380, 381, 384, 387, 389, 393, 395, 397, 398, 399, 401, 403, 404, 405, 406, 408, 409, 410, 411, 412, 413, 414, 415, 417, 419, 420, 421, 422, 424, 425, 427, 428, 429, 430, 432, 433, 435, 436, 438, 439, 440, 441, 443, 447, 450, 451, 452, 453, 454, 456, 457, 458, 460, 461, 462, 463, 464, 467, 468, 470, 471, 472, 473, 474, 476, 478, 479, 480, 481, 482, 484, 485, 486, 487, 488, 490, 491, 492, 495, 496, 497, 498, 499, 500, 501, 503, 504, 505, 506, 507, 508, 509, 510, 511, 514, 517, 519, 520, 521, 523, 524, 525, 526, 527, 528, 530, 531, 534, 536, 537, 538, 540, 541, 542, 543, 545, 546, 548, 549, 550, 556, 558, 559, 560, 561, 562, 565, 566, 567, 569, 570, 571, 573, 575, 577, 578, 579, 580, 582, 583, 584, 585, 587, 588, 589, 591, 592, 594, 595, 597, 598, 599}\n"
     ]
    },
    {
     "name": "stderr",
     "output_type": "stream",
     "text": [
      "100%|██████████| 400/400 [00:00<00:00, 740715.94it/s]\n"
     ]
    },
    {
     "name": "stdout",
     "output_type": "stream",
     "text": [
      "Skipping: 397 Skipping: 433 Skipping: 41 Skipping: 268 Skipping: 526 Skipping: 500 Skipping: 417 Skipping: 313 Skipping: 491 Skipping: 369 Skipping: 226 Skipping: 519 Skipping: 144 Skipping: 291 Skipping: 145 Skipping: 99 Skipping: 259 Skipping: 548 Skipping: 152 Skipping: 320 Skipping: 103 Skipping: 77 Skipping: 341 Skipping: 486 Skipping: 105 Skipping: 365 Skipping: 447 Skipping: 326 Skipping: 212 Skipping: 569 Skipping: 591 Skipping: 456 Skipping: 536 Skipping: 269 Skipping: 65 Skipping: 14 Skipping: 97 Skipping: 411 Skipping: 1 Skipping: 508 Skipping: 344 Skipping: 252 Skipping: 336 Skipping: 66 Skipping: 198 Skipping: 230 Skipping: 247 Skipping: 147 Skipping: 461 Skipping: 95 Skipping: 84 Skipping: 330 Skipping: 523 Skipping: 504 Skipping: 113 Skipping: 311 Skipping: 301 Skipping: 129 Skipping: 343 Skipping: 211 Skipping: 297 Skipping: 458 Skipping: 549 Skipping: 599 Skipping: 327 Skipping: 250 Skipping: 300 Skipping: 190 Skipping: 196 Skipping: 194 Skipping: 33 Skipping: 566 Skipping: 490 Skipping: 72 Skipping: 93 Skipping: 135 Skipping: 155 Skipping: 39 Skipping: 582 Skipping: 403 Skipping: 285 Skipping: 244 Skipping: 223 Skipping: 432 Skipping: 284 Skipping: 233 Skipping: 255 Skipping: 577 Skipping: 331 Skipping: 361 Skipping: 472 Skipping: 506 Skipping: 409 Skipping: 184 Skipping: 42 Skipping: 168 Skipping: 316 Skipping: 61 Skipping: 558 Skipping: 303 Skipping: 325 Skipping: 173 Skipping: 435 Skipping: 584 Skipping: 126 Skipping: 8 Skipping: 377 Skipping: 140 Skipping: 501 Skipping: 364 Skipping: 114 Skipping: 193 Skipping: 507 Skipping: 89 Skipping: 172 Skipping: 221 Skipping: 420 Skipping: 31 Skipping: 52 Skipping: 588 Skipping: 76 Skipping: 440 Skipping: 360 Skipping: 488 Skipping: 23 Skipping: 421 Skipping: 296 Skipping: 534 Skipping: 468 Skipping: 276 Skipping: 543 Skipping: 351 Skipping: 37 Skipping: 13 Skipping: 565 Skipping: 328 Skipping: 98 Skipping: 592 Skipping: 428 Skipping: 538 Skipping: 63 Skipping: 203 Skipping: 47 Skipping: 191 Skipping: 429 Skipping: 595 Skipping: 18 Skipping: 550 Skipping: 11 Skipping: 101 Skipping: 96 Skipping: 370 Skipping: 464 Skipping: 248 Skipping: 109 Skipping: 375 Skipping: 412 Skipping: 481 Skipping: 350 Skipping: 450 Skipping: 281 Skipping: 220 Skipping: 580 Skipping: 480 Skipping: 430 Skipping: 546 Skipping: 35 Skipping: 115 Skipping: 36 Skipping: 334 Skipping: 156 Skipping: 181 Skipping: 589 Skipping: 94 Skipping: 441 Skipping: 260 Skipping: 242 Skipping: 20 Skipping: 308 Skipping: 496 Skipping: 509 Skipping: 457 Skipping: 104 Skipping: 598 Skipping: 185 Skipping: 492 Skipping: 243 Skipping: 294 Skipping: 88 Skipping: 476 Skipping: 347 Skipping: 106 Skipping: 395 Skipping: 29 Skipping: 349 Skipping: 83 Skipping: 520 Skipping: 177 Skipping: 274 Skipping: 130 Skipping: 62 Skipping: 482 Skipping: 229 Skipping: 540 Skipping: 91 Skipping: 6 Skipping: 517 Skipping: 467 Skipping: 571 Skipping: 562 Skipping: 263 Skipping: 161 Skipping: 335 Skipping: 505 Skipping: 201 Skipping: 339 Skipping: 399 Skipping: 80 Skipping: 290 Skipping: 356 Skipping: 393 Skipping: 237 Skipping: 40 Skipping: 497 Skipping: 474 Skipping: 438 Skipping: 585 Skipping: 71 Skipping: 124 Skipping: 249 Skipping: 182 Skipping: 315 Skipping: 149 Skipping: 408 Skipping: 414 Skipping: 305 Skipping: 471 Skipping: 436 Skipping: 69 Skipping: 160 Skipping: 384 Skipping: 215 Skipping: 556 Skipping: 597 Skipping: 0 Skipping: 307 Skipping: 100 Skipping: 443 Skipping: 479 Skipping: 573 Skipping: 116 Skipping: 329 Skipping: 232 Skipping: 530 Skipping: 293 Skipping: 357 Skipping: 16 Skipping: 208 Skipping: 559 Skipping: 217 Skipping: 374 Skipping: 86 Skipping: 231 Skipping: 32 Skipping: 134 Skipping: 82 Skipping: 379 Skipping: 273 Skipping: 594 Skipping: 380 Skipping: 312 Skipping: 354 Skipping: 19 Skipping: 256 Skipping: 503 Skipping: 387 Skipping: 422 Skipping: 25 Skipping: 406 Skipping: 462 Skipping: 283 Skipping: 545 Skipping: 68 Skipping: 7 Skipping: 511 Skipping: 216 Skipping: 163 Skipping: 561 Skipping: 111 Skipping: 367 Skipping: 470 Skipping: 510 Skipping: 51 Skipping: 495 Skipping: 398 Skipping: 579 Skipping: 460 Skipping: 372 Skipping: 567 Skipping: 419 Skipping: 246 Skipping: 206 Skipping: 355 Skipping: 439 Skipping: 142 Skipping: 234 Skipping: 453 Skipping: 133 Skipping: 70 Skipping: 527 Skipping: 179 Skipping: 60 Skipping: 81 Skipping: 587 Skipping: 9 Skipping: 21 Skipping: 473 Skipping: 107 Skipping: 454 Skipping: 463 Skipping: 189 Skipping: 318 Skipping: 498 Skipping: 413 Skipping: 225 Skipping: 487 Skipping: 524 Skipping: 108 Skipping: 195 Skipping: 151 Skipping: 4 Skipping: 525 Skipping: 79 Skipping: 570 Skipping: 484 Skipping: 174 Skipping: 531 Skipping: 48 Skipping: 175 Skipping: 452 Skipping: 277 Skipping: 371 Skipping: 560 Skipping: 38 Skipping: 254 Skipping: 289 Skipping: 478 Skipping: 425 Skipping: 499 Skipping: 389 Skipping: 528 Skipping: 578 Skipping: 405 Skipping: 404 Skipping: 278 Skipping: 537 Skipping: 322 Skipping: 12 Skipping: 381 Skipping: 46 Skipping: 222 Skipping: 415 Skipping: 188 Skipping: 583 Skipping: 266 Skipping: 575 Skipping: 451 Skipping: 337 Skipping: 78 Skipping: 271 Skipping: 27 Skipping: 321 Skipping: 542 Skipping: 125 Skipping: 123 Skipping: 410 Skipping: 218 Skipping: 207 Skipping: 210 Skipping: 485 Skipping: 424 Skipping: 245 Skipping: 298 Skipping: 427 Skipping: 541 Skipping: 310 Skipping: 514 Skipping: 340 Skipping: 87 Skipping: 262 Skipping: 401 Skipping: 521 Skipping: 317 Skipping: 162 Skipping: 146 Skipping: 319 Skipping: 165 Skipping: 22 Skipping: 342 Skipping: 258 Processing complete for MultiArith. 0 new answers saved to /Users/log/Github/textual_grounding/logan/results/final/VanillaCoT/MultiArith/llama3.1405b/zero_shot_vanilla_cot_None_MultiArith_llama3.1405b.csv.\n",
      "------Processing dataset: ASDiv-------\n",
      "Already answered IDs: {0, 2049, 3, 4, 2053, 6, 2058, 2063, 2071, 25, 27, 30, 31, 34, 2085, 39, 2092, 45, 47, 2096, 2098, 2099, 55, 2103, 58, 2108, 2111, 65, 68, 2120, 2123, 76, 2125, 2127, 81, 82, 85, 88, 2141, 94, 95, 2144, 97, 2147, 2151, 104, 2153, 2160, 2161, 2163, 120, 127, 2176, 129, 132, 2181, 2190, 143, 145, 149, 2198, 2199, 2200, 153, 2201, 2206, 2210, 2212, 164, 2217, 169, 171, 2220, 173, 2223, 177, 179, 2229, 2235, 2236, 2238, 2244, 2248, 203, 207, 2259, 2266, 220, 2270, 2272, 225, 2274, 2275, 226, 227, 2284, 2287, 2293, 2294, 2302, 255, 256, 257, 259, 260, 263, 265, 273, 274, 275, 277, 286, 287, 291, 293, 296, 319, 322, 326, 334, 336, 342, 344, 347, 349, 351, 359, 366, 369, 378, 389, 393, 396, 398, 402, 405, 406, 407, 408, 409, 410, 413, 418, 424, 426, 428, 432, 436, 451, 457, 460, 466, 468, 471, 472, 476, 502, 510, 511, 515, 517, 533, 545, 550, 552, 576, 583, 584, 585, 591, 593, 594, 596, 606, 614, 619, 621, 626, 644, 645, 647, 666, 668, 670, 678, 681, 697, 700, 714, 717, 719, 720, 734, 743, 750, 754, 764, 767, 768, 791, 794, 808, 815, 821, 835, 836, 865, 877, 887, 888, 902, 904, 913, 915, 920, 921, 923, 936, 937, 958, 959, 970, 973, 976, 977, 979, 982, 987, 992, 1002, 1021, 1028, 1030, 1039, 1040, 1042, 1064, 1069, 1079, 1080, 1082, 1092, 1099, 1118, 1123, 1135, 1180, 1186, 1188, 1194, 1200, 1202, 1204, 1214, 1226, 1227, 1234, 1240, 1241, 1243, 1248, 1268, 1269, 1274, 1282, 1283, 1285, 1286, 1295, 1298, 1299, 1307, 1331, 1333, 1337, 1338, 1347, 1356, 1357, 1368, 1370, 1371, 1375, 1376, 1377, 1380, 1384, 1388, 1389, 1407, 1408, 1422, 1427, 1432, 1433, 1434, 1435, 1437, 1446, 1457, 1460, 1468, 1472, 1477, 1480, 1486, 1493, 1496, 1502, 1507, 1517, 1520, 1534, 1536, 1540, 1541, 1546, 1547, 1548, 1550, 1552, 1556, 1567, 1571, 1585, 1587, 1589, 1591, 1593, 1594, 1601, 1604, 1606, 1609, 1611, 1622, 1623, 1626, 1627, 1642, 1646, 1661, 1682, 1690, 1729, 1742, 1744, 1748, 1757, 1768, 1774, 1778, 1800, 1812, 1819, 1821, 1824, 1830, 1831, 1834, 1835, 1836, 1853, 1855, 1859, 1860, 1865, 1867, 1870, 1879, 1881, 1887, 1894, 1895, 1897, 1904, 1908, 1912, 1913, 1919, 1922, 1927, 1928, 1936, 1945, 1948, 1953, 1957, 1975, 1997, 2001, 2009, 2011, 2019, 2022, 2039, 2040, 2044, 2045, 2047}\n"
     ]
    },
    {
     "name": "stderr",
     "output_type": "stream",
     "text": [
      "100%|██████████| 400/400 [00:00<00:00, 746317.44it/s]\n"
     ]
    },
    {
     "name": "stdout",
     "output_type": "stream",
     "text": [
      "Skipping: 1774 Skipping: 1919 Skipping: 171 Skipping: 1180 Skipping: 2198 Skipping: 1855 Skipping: 1377 Skipping: 2160 Skipping: 1623 Skipping: 959 Skipping: 2275 Skipping: 591 Skipping: 1274 Skipping: 593 Skipping: 408 Skipping: 1118 Skipping: 626 Skipping: 1407 Skipping: 424 Skipping: 322 Skipping: 1502 Skipping: 2141 Skipping: 432 Skipping: 1606 Skipping: 1975 Skipping: 1432 Skipping: 902 Skipping: 2161 Skipping: 2019 Skipping: 1186 Skipping: 275 Skipping: 58 Skipping: 402 Skipping: 1830 Skipping: 4 Skipping: 2229 Skipping: 1520 Skipping: 1082 Skipping: 1480 Skipping: 277 Skipping: 815 Skipping: 973 Skipping: 1042 Skipping: 606 Skipping: 2040 Skipping: 393 Skipping: 349 Skipping: 1457 Skipping: 2212 Skipping: 466 Skipping: 645 Skipping: 1248 Skipping: 621 Skipping: 1604 Skipping: 2274 Skipping: 1241 Skipping: 714 Skipping: 1865 Skipping: 2096 Skipping: 1226 Skipping: 436 Skipping: 2181 Skipping: 1834 Skipping: 1370 Skipping: 1240 Skipping: 1333 Skipping: 614 Skipping: 976 Skipping: 207 Skipping: 1356 Skipping: 1831 Skipping: 821 Skipping: 681 Skipping: 1298 Skipping: 515 Skipping: 619 Skipping: 396 Skipping: 407 Skipping: 1879 Skipping: 2272 Skipping: 68 Skipping: 1389 Skipping: 2217 Skipping: 1493 Skipping: 552 Skipping: 1040 Skipping: 143 Skipping: 203 Skipping: 1547 Skipping: 1748 Skipping: 286 Skipping: 2001 Skipping: 326 Skipping: 2099 Skipping: 81 Skipping: 1922 Skipping: 169 Skipping: 2045 Skipping: 1589 Skipping: 2098 Skipping: 1895 Skipping: 1227 Skipping: 1556 Skipping: 865 Skipping: 1912 Skipping: 1601 Skipping: 1194 Skipping: 585 Skipping: 1188 Skipping: 1859 Skipping: 502 Skipping: 1936 Skipping: 460 Skipping: 2039 Skipping: 1548 Skipping: 1337 Skipping: 1887 Skipping: 2153 Skipping: 923 Skipping: 1307 Skipping: 584 Skipping: 987 Skipping: 1092 Skipping: 2284 Skipping: 1460 Skipping: 1591 Skipping: 2085 Skipping: 1821 Skipping: 764 Skipping: 177 Skipping: 697 Skipping: 2223 Skipping: 256 Skipping: 1079 Skipping: 1331 Skipping: 1427 Skipping: 719 Skipping: 1927 Skipping: 409 Skipping: 517 Skipping: 34 Skipping: 1661 Skipping: 576 Skipping: 259 Skipping: 2199 Skipping: 471 Skipping: 794 Skipping: 1824 Skipping: 369 Skipping: 2248 Skipping: 937 Skipping: 1867 Skipping: 129 Skipping: 226 Skipping: 1800 Skipping: 319 Skipping: 1948 Skipping: 1585 Skipping: 468 Skipping: 94 Skipping: 1870 Skipping: 1295 Skipping: 1435 Skipping: 2071 Skipping: 2125 Skipping: 1214 Skipping: 1368 Skipping: 1550 Skipping: 153 Skipping: 55 Skipping: 274 Skipping: 1437 Skipping: 406 Skipping: 1376 Skipping: 1897 Skipping: 1299 Skipping: 265 Skipping: 2201 Skipping: 2236 Skipping: 791 Skipping: 1904 Skipping: 257 Skipping: 76 Skipping: 1375 Skipping: 45 Skipping: 418 Skipping: 398 Skipping: 1627 Skipping: 273 Skipping: 1064 Skipping: 451 Skipping: 1646 Skipping: 1836 Skipping: 127 Skipping: 2190 Skipping: 47 Skipping: 1234 Skipping: 936 Skipping: 2287 Skipping: 227 Skipping: 1908 Skipping: 2220 Skipping: 145 Skipping: 472 Skipping: 149 Skipping: 1472 Skipping: 644 Skipping: 750 Skipping: 958 Skipping: 389 Skipping: 2111 Skipping: 1123 Skipping: 1021 Skipping: 82 Skipping: 2235 Skipping: 2151 Skipping: 2206 Skipping: 2127 Skipping: 428 Skipping: 2103 Skipping: 767 Skipping: 2058 Skipping: 2163 Skipping: 1028 Skipping: 1913 Skipping: 2053 Skipping: 1286 Skipping: 366 Skipping: 2147 Skipping: 1534 Skipping: 2244 Skipping: 1768 Skipping: 120 Skipping: 1812 Skipping: 1541 Skipping: 344 Skipping: 1928 Skipping: 351 Skipping: 734 Skipping: 1204 Skipping: 533 Skipping: 260 Skipping: 1357 Skipping: 970 Skipping: 1517 Skipping: 378 Skipping: 27 Skipping: 1030 Skipping: 1552 Skipping: 904 Skipping: 2049 Skipping: 1285 Skipping: 1997 Skipping: 1135 Skipping: 668 Skipping: 1477 Skipping: 2176 Skipping: 836 Skipping: 2200 Skipping: 1496 Skipping: 2063 Skipping: 334 Skipping: 1268 Skipping: 1571 Skipping: 25 Skipping: 1002 Skipping: 1690 Skipping: 164 Skipping: 720 Skipping: 1682 Skipping: 95 Skipping: 2108 Skipping: 596 Skipping: 296 Skipping: 511 Skipping: 1757 Skipping: 1069 Skipping: 754 Skipping: 1384 Skipping: 2238 Skipping: 1536 Skipping: 768 Skipping: 1338 Skipping: 1434 Skipping: 1945 Skipping: 1408 Skipping: 291 Skipping: 1622 Skipping: 666 Skipping: 835 Skipping: 1729 Skipping: 913 Skipping: 1894 Skipping: 2266 Skipping: 2302 Skipping: 3 Skipping: 1347 Skipping: 413 Skipping: 1587 Skipping: 717 Skipping: 347 Skipping: 510 Skipping: 476 Skipping: 1446 Skipping: 982 Skipping: 808 Skipping: 1611 Skipping: 2022 Skipping: 1283 Skipping: 2011 Skipping: 65 Skipping: 888 Skipping: 1594 Skipping: 1282 Skipping: 921 Skipping: 1778 Skipping: 1507 Skipping: 1609 Skipping: 97 Skipping: 359 Skipping: 977 Skipping: 132 Skipping: 550 Skipping: 1593 Skipping: 342 Skipping: 979 Skipping: 1200 Skipping: 1080 Skipping: 1269 Skipping: 1371 Skipping: 1744 Skipping: 0 Skipping: 2210 Skipping: 1099 Skipping: 700 Skipping: 670 Skipping: 2044 Skipping: 2092 Skipping: 104 Skipping: 1853 Skipping: 1881 Skipping: 1860 Skipping: 915 Skipping: 405 Skipping: 1243 Skipping: 1433 Skipping: 179 Skipping: 1957 Skipping: 1642 Skipping: 287 Skipping: 31 Skipping: 887 Skipping: 1546 Skipping: 920 Skipping: 678 Skipping: 6 Skipping: 457 Skipping: 30 Skipping: 1626 Skipping: 1742 Skipping: 2270 Skipping: 1953 Skipping: 1540 Skipping: 1202 Skipping: 1388 Skipping: 220 Skipping: 410 Skipping: 263 Skipping: 1380 Skipping: 2047 Skipping: 426 Skipping: 647 Skipping: 594 Skipping: 1567 Skipping: 2259 Skipping: 225 Skipping: 1039 Skipping: 877 Skipping: 1422 Skipping: 173 Skipping: 2120 Skipping: 583 Skipping: 992 Skipping: 1835 Skipping: 1819 Skipping: 2123 Skipping: 545 Skipping: 293 Skipping: 1486 Skipping: 2294 Skipping: 2144 Skipping: 2009 Skipping: 1468 Skipping: 743 Skipping: 255 Skipping: 336 Skipping: 2293 Skipping: 39 Skipping: 88 Skipping: 85 Processing complete for ASDiv. 0 new answers saved to /Users/log/Github/textual_grounding/logan/results/final/VanillaCoT/ASDiv/llama3.1405b/zero_shot_vanilla_cot_None_ASDiv_llama3.1405b.csv.\n",
      "------Processing dataset: SVAMP-------\n",
      "Already answered IDs: {0, 1, 2, 3, 12, 13, 14, 15, 16, 19, 22, 23, 27, 32, 33, 37, 39, 40, 41, 43, 46, 47, 51, 59, 62, 63, 64, 65, 70, 71, 73, 75, 80, 82, 83, 84, 85, 91, 93, 95, 97, 100, 101, 102, 103, 111, 117, 118, 119, 120, 121, 122, 126, 127, 133, 135, 136, 138, 142, 143, 145, 149, 150, 153, 157, 158, 161, 162, 163, 165, 169, 173, 174, 179, 182, 184, 186, 188, 189, 191, 192, 193, 194, 195, 196, 199, 203, 204, 208, 209, 210, 212, 215, 218, 220, 223, 224, 225, 226, 227, 228, 241, 244, 245, 247, 248, 249, 256, 262, 265, 266, 277, 281, 282, 285, 286, 287, 288, 294, 297, 298, 308, 309, 310, 317, 318, 319, 322, 323, 324, 327, 332, 333, 338, 340, 341, 342, 343, 350, 355, 358, 360, 362, 365, 366, 367, 375, 379, 380, 381, 384, 387, 394, 397, 400, 406, 408, 411, 414, 419, 424, 425, 427, 428, 429, 430, 435, 436, 444, 445, 446, 452, 453, 455, 456, 457, 458, 461, 463, 468, 469, 478, 481, 482, 483, 487, 488, 490, 493, 497, 498, 501, 504, 505, 506, 515, 516, 520, 523, 533, 534, 537, 540, 541, 542, 545, 547, 550, 553, 556, 557, 560, 561, 564, 565, 571, 573, 574, 581, 582, 583, 587, 589, 593, 597, 601, 603, 604, 608, 610, 611, 616, 617, 618, 620, 622, 624, 625, 626, 627, 633, 635, 640, 645, 648, 649, 650, 652, 655, 656, 662, 663, 664, 666, 672, 673, 676, 678, 679, 681, 682, 684, 688, 689, 692, 694, 695, 696, 697, 699, 700, 707, 708, 714, 716, 717, 718, 720, 722, 723, 727, 735, 736, 737, 744, 747, 749, 751, 759, 770, 771, 772, 773, 774, 775, 776, 777, 785, 788, 791, 794, 801, 802, 803, 805, 807, 810, 812, 813, 817, 818, 821, 822, 824, 825, 827, 828, 829, 831, 833, 834, 840, 841, 844, 847, 849, 851, 852, 856, 857, 858, 860, 862, 864, 865, 866, 867, 868, 870, 872, 876, 880, 881, 883, 884, 886, 887, 888, 889, 891, 892, 893, 895, 896, 897, 900, 903, 904, 905, 909, 911, 912, 913, 915, 917, 920, 921, 923, 924, 925, 929, 931, 932, 934, 935, 936, 938, 939, 940, 949, 952, 956, 959, 960, 962, 965, 966, 967, 970, 971, 980, 981, 984, 986, 988, 992, 993, 994, 997, 998}\n"
     ]
    },
    {
     "name": "stderr",
     "output_type": "stream",
     "text": [
      "100%|██████████| 400/400 [00:00<00:00, 739410.14it/s]\n"
     ]
    },
    {
     "name": "stdout",
     "output_type": "stream",
     "text": [
      "Skipping: 864 Skipping: 394 Skipping: 776 Skipping: 911 Skipping: 430 Skipping: 41 Skipping: 265 Skipping: 988 Skipping: 523 Skipping: 497 Skipping: 414 Skipping: 940 Skipping: 802 Skipping: 849 Skipping: 310 Skipping: 488 Skipping: 366 Skipping: 597 Skipping: 913 Skipping: 929 Skipping: 223 Skipping: 516 Skipping: 142 Skipping: 288 Skipping: 143 Skipping: 773 Skipping: 97 Skipping: 633 Skipping: 818 Skipping: 256 Skipping: 931 Skipping: 545 Skipping: 722 Skipping: 829 Skipping: 616 Skipping: 923 Skipping: 150 Skipping: 317 Skipping: 101 Skipping: 747 Skipping: 75 Skipping: 920 Skipping: 870 Skipping: 700 Skipping: 338 Skipping: 483 Skipping: 573 Skipping: 103 Skipping: 362 Skipping: 444 Skipping: 323 Skipping: 625 Skipping: 655 Skipping: 934 Skipping: 209 Skipping: 565 Skipping: 984 Skipping: 453 Skipping: 886 Skipping: 533 Skipping: 266 Skipping: 63 Skipping: 824 Skipping: 561 Skipping: 14 Skipping: 95 Skipping: 736 Skipping: 860 Skipping: 408 Skipping: 727 Skipping: 844 Skipping: 803 Skipping: 684 Skipping: 640 Skipping: 1 Skipping: 626 Skipping: 505 Skipping: 847 Skipping: 888 Skipping: 341 Skipping: 249 Skipping: 960 Skipping: 333 Skipping: 720 Skipping: 891 Skipping: 64 Skipping: 195 Skipping: 581 Skipping: 227 Skipping: 244 Skipping: 822 Skipping: 145 Skipping: 909 Skipping: 556 Skipping: 458 Skipping: 93 Skipping: 82 Skipping: 327 Skipping: 896 Skipping: 520 Skipping: 501 Skipping: 111 Skipping: 308 Skipping: 564 Skipping: 298 Skipping: 723 Skipping: 127 Skipping: 560 Skipping: 340 Skipping: 834 Skipping: 553 Skipping: 208 Skipping: 971 Skipping: 617 Skipping: 892 Skipping: 601 Skipping: 294 Skipping: 455 Skipping: 904 Skipping: 610 Skipping: 817 Skipping: 998 Skipping: 324 Skipping: 589 Skipping: 247 Skipping: 297 Skipping: 188 Skipping: 193 Skipping: 841 Skipping: 191 Skipping: 33 Skipping: 627 Skipping: 672 Skipping: 939 Skipping: 487 Skipping: 70 Skipping: 91 Skipping: 695 Skipping: 775 Skipping: 133 Skipping: 153 Skipping: 39 Skipping: 903 Skipping: 716 Skipping: 986 Skipping: 889 Skipping: 699 Skipping: 400 Skipping: 967 Skipping: 537 Skipping: 282 Skipping: 534 Skipping: 831 Skipping: 241 Skipping: 220 Skipping: 862 Skipping: 603 Skipping: 429 Skipping: 593 Skipping: 281 Skipping: 461 Skipping: 504 Skipping: 676 Skipping: 656 Skipping: 717 Skipping: 812 Skipping: 365 Skipping: 84 Skipping: 332 Skipping: 868 Skipping: 118 Skipping: 498 Skipping: 884 Skipping: 645 Skipping: 343 Skipping: 194 Skipping: 248 Skipping: 16 Skipping: 749 Skipping: 277 Skipping: 119 Skipping: 851 Skipping: 225 Skipping: 380 Skipping: 813 Skipping: 174 Skipping: 915 Skipping: 436 Skipping: 938 Skipping: 952 Skipping: 801 Skipping: 149 Skipping: 714 Skipping: 224 Skipping: 46 Skipping: 587 Skipping: 649 Skipping: 547 Skipping: 965 Skipping: 696 Skipping: 959 Skipping: 27 Skipping: 893 Skipping: 650 Skipping: 872 Skipping: 620 Skipping: 876 Skipping: 122 Skipping: 852 Skipping: 881 Skipping: 379 Skipping: 966 Skipping: 37 Skipping: 794 Skipping: 22 Skipping: 199 Skipping: 189 Skipping: 735 Skipping: 126 Skipping: 490 Skipping: 215 Skipping: 744 Skipping: 62 Skipping: 980 Skipping: 23 Skipping: 557 Skipping: 435 Skipping: 635 Skipping: 810 Skipping: 866 Skipping: 71 Skipping: 226 Skipping: 73 Skipping: 662 Skipping: 897 Skipping: 358 Skipping: 446 Skipping: 184 Skipping: 777 Skipping: 515 Skipping: 478 Skipping: 40 Skipping: 880 Skipping: 771 Skipping: 856 Skipping: 791 Skipping: 204 Skipping: 770 Skipping: 367 Skipping: 821 Skipping: 481 Skipping: 583 Skipping: 173 Skipping: 807 Skipping: 688 Skipping: 921 Skipping: 59 Skipping: 692 Skipping: 162 Skipping: 165 Skipping: 350 Skipping: 542 Skipping: 970 Skipping: 120 Skipping: 611 Skipping: 452 Skipping: 681 Skipping: 179 Skipping: 13 Skipping: 482 Skipping: 697 Skipping: 419 Skipping: 582 Skipping: 900 Skipping: 318 Skipping: 664 Skipping: 833 Skipping: 397 Skipping: 673 Skipping: 737 Skipping: 157 Skipping: 574 Skipping: 707 Skipping: 12 Skipping: 468 Skipping: 80 Skipping: 825 Skipping: 805 Skipping: 774 Skipping: 287 Skipping: 138 Skipping: 245 Skipping: 493 Skipping: 360 Skipping: 624 Skipping: 883 Skipping: 689 Skipping: 751 Skipping: 604 Skipping: 648 Skipping: 772 Skipping: 135 Skipping: 962 Skipping: 887 Skipping: 424 Skipping: 666 Skipping: 857 Skipping: 925 Skipping: 608 Skipping: 196 Skipping: 342 Skipping: 163 Skipping: 708 Skipping: 228 Skipping: 652 Skipping: 905 Skipping: 387 Skipping: 912 Skipping: 997 Skipping: 32 Skipping: 411 Skipping: 682 Skipping: 428 Skipping: 47 Skipping: 169 Skipping: 456 Skipping: 65 Skipping: 993 Skipping: 161 Skipping: 457 Skipping: 540 Skipping: 828 Skipping: 718 Skipping: 618 Skipping: 0 Skipping: 858 Skipping: 506 Skipping: 917 Skipping: 319 Skipping: 759 Skipping: 51 Skipping: 425 Skipping: 192 Skipping: 936 Skipping: 956 Skipping: 85 Skipping: 932 Skipping: 15 Skipping: 679 Skipping: 427 Skipping: 949 Skipping: 3 Skipping: 218 Skipping: 935 Skipping: 2 Skipping: 541 Skipping: 924 Skipping: 100 Skipping: 981 Skipping: 121 Skipping: 622 Skipping: 203 Skipping: 309 Skipping: 286 Skipping: 186 Skipping: 102 Skipping: 865 Skipping: 406 Skipping: 83 Skipping: 785 Skipping: 840 Skipping: 463 Skipping: 788 Skipping: 262 Skipping: 136 Skipping: 992 Skipping: 355 Skipping: 117 Skipping: 158 Skipping: 285 Skipping: 19 Skipping: 43 Skipping: 994 Skipping: 210 Skipping: 867 Skipping: 571 Skipping: 322 Skipping: 375 Skipping: 678 Skipping: 694 Skipping: 663 Skipping: 469 Skipping: 445 Skipping: 381 Skipping: 550 Skipping: 182 Skipping: 212 Skipping: 384 Skipping: 827 Skipping: 895 Processing complete for SVAMP. 0 new answers saved to /Users/log/Github/textual_grounding/logan/results/final/VanillaCoT/SVAMP/llama3.1405b/zero_shot_vanilla_cot_None_SVAMP_llama3.1405b.csv.\n",
      "------Processing dataset: AQUA-------\n",
      "Already answered IDs: {0, 1, 2, 3, 4, 5, 6, 7, 8, 9, 10, 11, 12, 13, 14, 15, 16, 17, 18, 19, 20, 21, 22, 23, 24, 25, 26, 27, 28, 29, 30, 31, 32, 33, 34, 35, 36, 37, 38, 39, 40, 41, 42, 43, 44, 45, 46, 47, 48, 49, 50, 51, 52, 53, 54, 55, 56, 57, 58, 59, 60, 61, 62, 63, 64, 65, 66, 67, 68, 69, 70, 71, 72, 73, 74, 75, 76, 77, 78, 79, 80, 81, 82, 83, 84, 85, 86, 87, 88, 89, 90, 91, 92, 93, 94, 95, 96, 97, 98, 99, 100, 101, 102, 103, 104, 105, 106, 107, 108, 109, 110, 111, 112, 113, 114, 115, 116, 117, 118, 119, 120, 121, 122, 123, 124, 125, 126, 127, 128, 129, 130, 131, 132, 133, 134, 135, 136, 137, 138, 139, 140, 141, 142, 143, 144, 145, 146, 147, 148, 149, 150, 151, 152, 153, 154, 155, 156, 157, 158, 159, 160, 161, 162, 163, 164, 165, 166, 167, 168, 169, 170, 171, 172, 173, 174, 175, 176, 177, 178, 179, 180, 181, 182, 183, 184, 185, 186, 187, 188, 189, 190, 191, 192, 193, 194, 195, 196, 197, 198, 199, 200, 201, 202, 203, 204, 205, 206, 207, 208, 209, 210, 211, 212, 213, 214, 215, 216, 217, 218, 219, 220, 221, 222, 223, 224, 225, 226, 227, 228, 229, 230, 231, 232, 233, 234, 235, 236, 237, 238, 239, 240, 241, 242, 243, 244, 245, 246, 247, 248, 249, 250, 251, 252, 253}\n"
     ]
    },
    {
     "name": "stderr",
     "output_type": "stream",
     "text": [
      "100%|██████████| 254/254 [00:00<00:00, 241139.25it/s]\n"
     ]
    },
    {
     "name": "stdout",
     "output_type": "stream",
     "text": [
      "Skipping: 0 Skipping: 1 Skipping: 2 Skipping: 3 Skipping: 4 Skipping: 5 Skipping: 6 Skipping: 7 Skipping: 8 Skipping: 9 Skipping: 10 Skipping: 11 Skipping: 12 Skipping: 13 Skipping: 14 Skipping: 15 Skipping: 16 Skipping: 17 Skipping: 18 Skipping: 19 Skipping: 20 Skipping: 21 Skipping: 22 Skipping: 23 Skipping: 24 Skipping: 25 Skipping: 26 Skipping: 27 Skipping: 28 Skipping: 29 Skipping: 30 Skipping: 31 Skipping: 32 Skipping: 33 Skipping: 34 Skipping: 35 Skipping: 36 Skipping: 37 Skipping: 38 Skipping: 39 Skipping: 40 Skipping: 41 Skipping: 42 Skipping: 43 Skipping: 44 Skipping: 45 Skipping: 46 Skipping: 47 Skipping: 48 Skipping: 49 Skipping: 50 Skipping: 51 Skipping: 52 Skipping: 53 Skipping: 54 Skipping: 55 Skipping: 56 Skipping: 57 Skipping: 58 Skipping: 59 Skipping: 60 Skipping: 61 Skipping: 62 Skipping: 63 Skipping: 64 Skipping: 65 Skipping: 66 Skipping: 67 Skipping: 68 Skipping: 69 Skipping: 70 Skipping: 71 Skipping: 72 Skipping: 73 Skipping: 74 Skipping: 75 Skipping: 76 Skipping: 77 Skipping: 78 Skipping: 79 Skipping: 80 Skipping: 81 Skipping: 82 Skipping: 83 Skipping: 84 Skipping: 85 Skipping: 86 Skipping: 87 Skipping: 88 Skipping: 89 Skipping: 90 Skipping: 91 Skipping: 92 Skipping: 93 Skipping: 94 Skipping: 95 Skipping: 96 Skipping: 97 Skipping: 98 Skipping: 99 Skipping: 100 Skipping: 101 Skipping: 102 Skipping: 103 Skipping: 104 Skipping: 105 Skipping: 106 Skipping: 107 Skipping: 108 Skipping: 109 Skipping: 110 Skipping: 111 Skipping: 112 Skipping: 113 Skipping: 114 Skipping: 115 Skipping: 116 Skipping: 117 Skipping: 118 Skipping: 119 Skipping: 120 Skipping: 121 Skipping: 122 Skipping: 123 Skipping: 124 Skipping: 125 Skipping: 126 Skipping: 127 Skipping: 128 Skipping: 129 Skipping: 130 Skipping: 131 Skipping: 132 Skipping: 133 Skipping: 134 Skipping: 135 Skipping: 136 Skipping: 137 Skipping: 138 Skipping: 139 Skipping: 140 Skipping: 141 Skipping: 142 Skipping: 143 Skipping: 144 Skipping: 145 Skipping: 146 Skipping: 147 Skipping: 148 Skipping: 149 Skipping: 150 Skipping: 151 Skipping: 152 Skipping: 153 Skipping: 154 Skipping: 155 Skipping: 156 Skipping: 157 Skipping: 158 Skipping: 159 Skipping: 160 Skipping: 161 Skipping: 162 Skipping: 163 Skipping: 164 Skipping: 165 Skipping: 166 Skipping: 167 Skipping: 168 Skipping: 169 Skipping: 170 Skipping: 171 Skipping: 172 Skipping: 173 Skipping: 174 Skipping: 175 Skipping: 176 Skipping: 177 Skipping: 178 Skipping: 179 Skipping: 180 Skipping: 181 Skipping: 182 Skipping: 183 Skipping: 184 Skipping: 185 Skipping: 186 Skipping: 187 Skipping: 188 Skipping: 189 Skipping: 190 Skipping: 191 Skipping: 192 Skipping: 193 Skipping: 194 Skipping: 195 Skipping: 196 Skipping: 197 Skipping: 198 Skipping: 199 Skipping: 200 Skipping: 201 Skipping: 202 Skipping: 203 Skipping: 204 Skipping: 205 Skipping: 206 Skipping: 207 Skipping: 208 Skipping: 209 Skipping: 210 Skipping: 211 Skipping: 212 Skipping: 213 Skipping: 214 Skipping: 215 Skipping: 216 Skipping: 217 Skipping: 218 Skipping: 219 Skipping: 220 Skipping: 221 Skipping: 222 Skipping: 223 Skipping: 224 Skipping: 225 Skipping: 226 Skipping: 227 Skipping: 228 Skipping: 229 Skipping: 230 Skipping: 231 Skipping: 232 Skipping: 233 Skipping: 234 Skipping: 235 Skipping: 236 Skipping: 237 Skipping: 238 Skipping: 239 Skipping: 240 Skipping: 241 Skipping: 242 Skipping: 243 Skipping: 244 Skipping: 245 Skipping: 246 Skipping: 247 Skipping: 248 Skipping: 249 Skipping: 250 Skipping: 251 Skipping: 252 Skipping: 253 Processing complete for AQUA. 0 new answers saved to /Users/log/Github/textual_grounding/logan/results/final/VanillaCoT/AQUA/llama3.1405b/zero_shot_vanilla_cot_None_AQUA_llama3.1405b.csv.\n",
      "------Processing dataset: p_GSM8K-------\n",
      "Already answered IDs: {0, 1, 2, 3, 4, 5, 6, 7, 8, 9, 10, 11, 12, 13, 14, 15, 16, 17, 18, 19, 20, 21, 22, 23, 24, 25, 26, 27, 28, 29, 30, 31, 32, 33, 34, 35, 36, 37, 38, 39, 40, 41, 42, 43, 44, 45, 46, 47, 48, 49, 50, 51, 52, 53, 54, 55, 56, 57, 58, 59, 60, 61, 62, 63, 64, 65, 66, 67, 68, 69, 70, 71, 72, 73, 74, 75, 76, 77, 78, 79, 80, 81, 82, 83, 84, 85, 86, 87, 88, 89, 90, 91, 92, 93, 94, 95, 96, 97, 98, 99, 100, 101, 102, 103, 104, 105, 106, 107, 108, 109, 111, 112, 113, 114, 115, 116, 117, 118, 119, 120, 122, 123, 124, 127, 128, 129, 130, 131, 132, 133, 134, 135, 136, 137, 138, 139, 140, 141, 142, 144, 145, 146, 148, 149, 151, 152, 153, 154, 156, 157, 158, 159, 160, 161, 162, 163, 164, 165, 166, 167, 168, 169, 170, 171, 172, 173, 174, 175, 176, 177, 178, 179, 180, 181, 182, 183, 184, 185, 186, 187, 188, 189, 190, 191, 192, 193, 194, 195, 196, 197, 198, 199, 200, 201, 202, 203, 204, 206, 207, 208, 209, 210, 211, 212, 213, 214, 215, 216, 217, 218, 219, 220, 221, 222, 223, 224, 225, 226, 227, 228}\n"
     ]
    },
    {
     "name": "stderr",
     "output_type": "stream",
     "text": [
      "100%|██████████| 220/220 [00:00<00:00, 935848.76it/s]\n"
     ]
    },
    {
     "name": "stdout",
     "output_type": "stream",
     "text": [
      "Skipping: 0 Skipping: 1 Skipping: 2 Skipping: 3 Skipping: 4 Skipping: 5 Skipping: 6 Skipping: 7 Skipping: 8 Skipping: 9 Skipping: 10 Skipping: 11 Skipping: 12 Skipping: 13 Skipping: 14 Skipping: 15 Skipping: 16 Skipping: 17 Skipping: 18 Skipping: 19 Skipping: 20 Skipping: 21 Skipping: 22 Skipping: 23 Skipping: 24 Skipping: 25 Skipping: 26 Skipping: 27 Skipping: 28 Skipping: 29 Skipping: 30 Skipping: 31 Skipping: 32 Skipping: 33 Skipping: 34 Skipping: 35 Skipping: 36 Skipping: 37 Skipping: 38 Skipping: 39 Skipping: 40 Skipping: 41 Skipping: 42 Skipping: 43 Skipping: 44 Skipping: 45 Skipping: 46 Skipping: 47 Skipping: 48 Skipping: 49 Skipping: 50 Skipping: 51 Skipping: 52 Skipping: 53 Skipping: 54 Skipping: 55 Skipping: 56 Skipping: 57 Skipping: 58 Skipping: 59 Skipping: 60 Skipping: 61 Skipping: 62 Skipping: 63 Skipping: 64 Skipping: 65 Skipping: 66 Skipping: 67 Skipping: 68 Skipping: 69 Skipping: 70 Skipping: 71 Skipping: 72 Skipping: 73 Skipping: 74 Skipping: 75 Skipping: 76 Skipping: 77 Skipping: 78 Skipping: 79 Skipping: 80 Skipping: 81 Skipping: 82 Skipping: 83 Skipping: 84 Skipping: 85 Skipping: 86 Skipping: 87 Skipping: 88 Skipping: 89 Skipping: 90 Skipping: 91 Skipping: 92 Skipping: 93 Skipping: 94 Skipping: 95 Skipping: 96 Skipping: 97 Skipping: 98 Skipping: 99 Skipping: 100 Skipping: 101 Skipping: 102 Skipping: 103 Skipping: 104 Skipping: 105 Skipping: 106 Skipping: 107 Skipping: 108 Skipping: 109 Skipping: 111 Skipping: 112 Skipping: 113 Skipping: 114 Skipping: 115 Skipping: 116 Skipping: 117 Skipping: 118 Skipping: 119 Skipping: 120 Skipping: 122 Skipping: 123 Skipping: 124 Skipping: 127 Skipping: 128 Skipping: 129 Skipping: 130 Skipping: 131 Skipping: 132 Skipping: 133 Skipping: 134 Skipping: 135 Skipping: 136 Skipping: 137 Skipping: 138 Skipping: 139 Skipping: 140 Skipping: 141 Skipping: 142 Skipping: 144 Skipping: 145 Skipping: 146 Skipping: 148 Skipping: 149 Skipping: 151 Skipping: 152 Skipping: 153 Skipping: 154 Skipping: 156 Skipping: 157 Skipping: 158 Skipping: 159 Skipping: 160 Skipping: 161 Skipping: 162 Skipping: 163 Skipping: 164 Skipping: 165 Skipping: 166 Skipping: 167 Skipping: 168 Skipping: 169 Skipping: 170 Skipping: 171 Skipping: 172 Skipping: 173 Skipping: 174 Skipping: 175 Skipping: 176 Skipping: 177 Skipping: 178 Skipping: 179 Skipping: 180 Skipping: 181 Skipping: 182 Skipping: 183 Skipping: 184 Skipping: 185 Skipping: 186 Skipping: 187 Skipping: 188 Skipping: 189 Skipping: 190 Skipping: 191 Skipping: 192 Skipping: 193 Skipping: 194 Skipping: 195 Skipping: 196 Skipping: 197 Skipping: 198 Skipping: 199 Skipping: 200 Skipping: 201 Skipping: 202 Skipping: 203 Skipping: 204 Skipping: 206 Skipping: 207 Skipping: 208 Skipping: 209 Skipping: 210 Skipping: 211 Skipping: 212 Skipping: 213 Skipping: 214 Skipping: 215 Skipping: 216 Skipping: 217 Skipping: 218 Skipping: 219 Skipping: 220 Skipping: 221 Skipping: 222 Skipping: 223 Skipping: 224 Skipping: 225 Skipping: 226 Skipping: 227 Skipping: 228 Processing complete for p_GSM8K. 0 new answers saved to /Users/log/Github/textual_grounding/logan/results/final/VanillaCoT/p_GSM8K/llama3.1405b/zero_shot_vanilla_cot_None_p_GSM8K_llama3.1405b.csv.\n",
      "------Processing dataset: StrategyQA-------\n",
      "Already answered IDs: {0, 4, 6, 9, 13, 2062, 16, 18, 2067, 2073, 2074, 2078, 2080, 2083, 38, 2091, 2094, 50, 54, 56, 57, 2105, 58, 60, 2109, 2107, 66, 2114, 73, 2123, 77, 83, 84, 86, 2135, 88, 2137, 89, 93, 98, 2148, 109, 2159, 2161, 2172, 2173, 125, 129, 130, 2181, 2182, 135, 134, 145, 149, 2198, 2205, 158, 159, 2208, 161, 2211, 165, 2213, 2216, 171, 173, 2224, 178, 2229, 2230, 185, 187, 191, 2247, 200, 203, 204, 2262, 2265, 2270, 222, 2273, 2277, 235, 237, 2288, 250, 254, 255, 257, 261, 265, 282, 283, 286, 294, 302, 303, 306, 309, 316, 318, 323, 328, 329, 330, 333, 335, 337, 341, 365, 367, 373, 374, 375, 382, 388, 393, 400, 404, 405, 410, 412, 413, 415, 421, 425, 444, 446, 450, 452, 472, 474, 475, 479, 480, 487, 490, 507, 509, 511, 531, 533, 534, 542, 546, 552, 555, 570, 572, 583, 592, 593, 596, 599, 600, 601, 612, 618, 619, 628, 630, 644, 645, 648, 655, 663, 672, 678, 682, 686, 690, 691, 692, 693, 698, 703, 716, 734, 738, 739, 746, 751, 752, 753, 754, 757, 762, 764, 769, 770, 772, 775, 779, 780, 782, 787, 788, 797, 806, 808, 813, 816, 825, 832, 833, 837, 849, 862, 866, 873, 874, 881, 883, 891, 894, 896, 903, 904, 908, 913, 918, 939, 964, 970, 977, 979, 980, 981, 983, 985, 991, 995, 999, 1000, 1012, 1019, 1026, 1027, 1050, 1060, 1061, 1062, 1064, 1065, 1066, 1071, 1101, 1110, 1123, 1125, 1127, 1128, 1139, 1143, 1148, 1150, 1154, 1156, 1162, 1178, 1179, 1189, 1192, 1194, 1197, 1198, 1202, 1233, 1234, 1238, 1242, 1244, 1270, 1275, 1278, 1283, 1295, 1298, 1308, 1310, 1311, 1319, 1328, 1332, 1335, 1342, 1352, 1362, 1364, 1369, 1373, 1375, 1391, 1394, 1402, 1407, 1421, 1432, 1434, 1436, 1437, 1442, 1449, 1458, 1462, 1463, 1466, 1468, 1471, 1492, 1496, 1504, 1516, 1523, 1534, 1535, 1550, 1576, 1577, 1589, 1591, 1596, 1602, 1614, 1617, 1624, 1633, 1634, 1645, 1647, 1650, 1654, 1658, 1663, 1678, 1683, 1697, 1700, 1710, 1711, 1713, 1717, 1722, 1733, 1739, 1743, 1745, 1746, 1755, 1768, 1778, 1784, 1785, 1786, 1811, 1813, 1822, 1824, 1828, 1831, 1834, 1835, 1845, 1848, 1849, 1855, 1860, 1863, 1875, 1883, 1884, 1912, 1913, 1921, 1926, 1931, 1933, 1937, 1938, 1948, 1951, 1952, 1953, 1962, 1968, 1973, 1980, 1990, 1992, 1995, 2004, 2008, 2017, 2021, 2025, 2040, 2046}\n"
     ]
    },
    {
     "name": "stderr",
     "output_type": "stream",
     "text": [
      "100%|██████████| 400/400 [00:00<00:00, 975986.97it/s]\n"
     ]
    },
    {
     "name": "stdout",
     "output_type": "stream",
     "text": [
      "Skipping: 1577 Skipping: 1722 Skipping: 165 Skipping: 1060 Skipping: 2094 Skipping: 1990 Skipping: 1658 Skipping: 1242 Skipping: 1952 Skipping: 1466 Skipping: 894 Skipping: 2067 Skipping: 570 Skipping: 1154 Skipping: 572 Skipping: 388 Skipping: 1026 Skipping: 2181 Skipping: 601 Skipping: 1270 Skipping: 404 Skipping: 302 Skipping: 1352 Skipping: 1933 Skipping: 412 Skipping: 1449 Skipping: 1778 Skipping: 1295 Skipping: 837 Skipping: 1953 Skipping: 1813 Skipping: 2135 Skipping: 1066 Skipping: 255 Skipping: 2247 Skipping: 57 Skipping: 382 Skipping: 1633 Skipping: 4 Skipping: 2021 Skipping: 1364 Skipping: 999 Skipping: 1332 Skipping: 257 Skipping: 782 Skipping: 908 Skipping: 977 Skipping: 583 Skipping: 2224 Skipping: 1834 Skipping: 373 Skipping: 329 Skipping: 1310 Skipping: 2080 Skipping: 2004 Skipping: 446 Skipping: 1234 Skipping: 1192 Skipping: 511 Skipping: 1362 Skipping: 2213 Skipping: 832 Skipping: 1178 Skipping: 1822 Skipping: 375 Skipping: 1576 Skipping: 1298 Skipping: 991 Skipping: 1189 Skipping: 753 Skipping: 775 Skipping: 764 Skipping: 135 Skipping: 1065 Skipping: 1951 Skipping: 282 Skipping: 367 Skipping: 533 Skipping: 612 Skipping: 158 Skipping: 328 Skipping: 1602 Skipping: 2148 Skipping: 1128 Skipping: 2137 Skipping: 964 Skipping: 881 Skipping: 1717 Skipping: 1127 Skipping: 1845 Skipping: 2017 Skipping: 1463 Skipping: 337 Skipping: 1328 Skipping: 472 Skipping: 1992 Skipping: 1373 Skipping: 779 Skipping: 995 Skipping: 66 Skipping: 1110 Skipping: 479 Skipping: 903 Skipping: 1523 Skipping: 698 Skipping: 2230 Skipping: 1745 Skipping: 254 Skipping: 2265 Skipping: 599 Skipping: 896 Skipping: 185 Skipping: 303 Skipping: 109 Skipping: 509 Skipping: 772 Skipping: 490 Skipping: 2208 Skipping: 374 Skipping: 1516 Skipping: 475 Skipping: 149 Skipping: 88 Skipping: 797 Skipping: 757 Skipping: 507 Skipping: 1962 Skipping: 862 Skipping: 250 Skipping: 93 Skipping: 1743 Skipping: 415 Skipping: 1064 Skipping: 286 Skipping: 904 Skipping: 294 Skipping: 1233 Skipping: 1434 Skipping: 1786 Skipping: 738 Skipping: 2161 Skipping: 2062 Skipping: 1913 Skipping: 161 Skipping: 413 Skipping: 2172 Skipping: 816 Skipping: 2216 Skipping: 1468 Skipping: 1926 Skipping: 693 Skipping: 833 Skipping: 237 Skipping: 648 Skipping: 663 Skipping: 1402 Skipping: 2273 Skipping: 480 Skipping: 1811 Skipping: 716 Skipping: 54 Skipping: 1931 Skipping: 1678 Skipping: 2083 Skipping: 1275 Skipping: 1462 Skipping: 1591 Skipping: 1027 Skipping: 628 Skipping: 50 Skipping: 1875 Skipping: 323 Skipping: 1375 Skipping: 187 Skipping: 1150 Skipping: 552 Skipping: 983 Skipping: 1973 Skipping: 1442 Skipping: 1179 Skipping: 1471 Skipping: 542 Skipping: 2270 Skipping: 1589 Skipping: 1697 Skipping: 330 Skipping: 6 Skipping: 787 Skipping: 1369 Skipping: 655 Skipping: 980 Skipping: 913 Skipping: 1835 Skipping: 1550 Skipping: 2105 Skipping: 129 Skipping: 1647 Skipping: 1713 Skipping: 191 Skipping: 678 Skipping: 1824 Skipping: 261 Skipping: 1061 Skipping: 645 Skipping: 1828 Skipping: 1995 Skipping: 0 Skipping: 159 Skipping: 2025 Skipping: 1335 Skipping: 1278 Skipping: 1912 Skipping: 204 Skipping: 1700 Skipping: 770 Skipping: 341 Skipping: 534 Skipping: 60 Skipping: 1645 Skipping: 1710 Skipping: 2262 Skipping: 13 Skipping: 874 Skipping: 58 Skipping: 9 Skipping: 400 Skipping: 780 Skipping: 487 Skipping: 813 Skipping: 1238 Skipping: 746 Skipping: 410 Skipping: 1948 Skipping: 1624 Skipping: 333 Skipping: 89 Skipping: 1125 Skipping: 1855 Skipping: 474 Skipping: 1050 Skipping: 546 Skipping: 1421 Skipping: 235 Skipping: 1785 Skipping: 316 Skipping: 2277 Skipping: 2159 Skipping: 38 Skipping: 86 Skipping: 83 Skipping: 421 Skipping: 1394 Skipping: 531 Skipping: 1143 Skipping: 644 Skipping: 1938 Skipping: 751 Skipping: 1921 Skipping: 1162 Skipping: 1863 Skipping: 1739 Skipping: 2040 Skipping: 1733 Skipping: 1534 Skipping: 1968 Skipping: 1436 Skipping: 1244 Skipping: 1342 Skipping: 1012 Skipping: 1458 Skipping: 1319 Skipping: 1848 Skipping: 939 Skipping: 1311 Skipping: 891 Skipping: 762 Skipping: 1784 Skipping: 1101 Skipping: 365 Skipping: 425 Skipping: 769 Skipping: 1202 Skipping: 596 Skipping: 18 Skipping: 283 Skipping: 309 Skipping: 555 Skipping: 682 Skipping: 691 Skipping: 1617 Skipping: 752 Skipping: 2109 Skipping: 2091 Skipping: 692 Skipping: 1596 Skipping: 2107 Skipping: 73 Skipping: 84 Skipping: 2114 Skipping: 335 Skipping: 306 Skipping: 1194 Skipping: 592 Skipping: 739 Skipping: 808 Skipping: 1123 Skipping: 265 Skipping: 600 Skipping: 2046 Skipping: 979 Skipping: 1496 Skipping: 2173 Skipping: 2078 Skipping: 98 Skipping: 630 Skipping: 2229 Skipping: 1755 Skipping: 1071 Skipping: 1492 Skipping: 145 Skipping: 619 Skipping: 825 Skipping: 1711 Skipping: 672 Skipping: 2211 Skipping: 849 Skipping: 222 Skipping: 203 Skipping: 1148 Skipping: 1860 Skipping: 985 Skipping: 970 Skipping: 690 Skipping: 2288 Skipping: 1634 Skipping: 1663 Skipping: 703 Skipping: 2182 Skipping: 981 Skipping: 2205 Skipping: 1432 Skipping: 1019 Skipping: 873 Skipping: 77 Skipping: 618 Skipping: 686 Skipping: 1504 Skipping: 1407 Skipping: 1831 Skipping: 318 Skipping: 1883 Skipping: 2074 Skipping: 1283 Skipping: 1156 Skipping: 2008 Skipping: 1650 Skipping: 1308 Skipping: 178 Skipping: 134 Skipping: 1654 Skipping: 173 Skipping: 405 Skipping: 1535 Skipping: 452 Skipping: 125 Skipping: 788 Skipping: 16 Skipping: 200 Skipping: 806 Skipping: 1139 Skipping: 1062 Skipping: 593 Skipping: 918 Skipping: 1884 Skipping: 1000 Skipping: 1614 Skipping: 1197 Skipping: 2198 Skipping: 1391 Skipping: 444 Skipping: 866 Skipping: 171 Skipping: 754 Skipping: 450 Skipping: 2073 Skipping: 1198 Skipping: 2123 Skipping: 1937 Skipping: 883 Skipping: 393 Skipping: 734 Skipping: 1980 Skipping: 130 Skipping: 1683 Skipping: 1768 Skipping: 1746 Skipping: 1437 Skipping: 56 Skipping: 1849 Processing complete for StrategyQA. 0 new answers saved to /Users/log/Github/textual_grounding/logan/results/final/VanillaCoT/StrategyQA/llama3.1405b/zero_shot_vanilla_cot_None_StrategyQA_llama3.1405b.csv.\n",
      "------Processing dataset: commonsenseQA-------\n",
      "Already answered IDs: {'af836abc58e0daf36df1d8d6830b70c5', '1e09c3136a743b862e783700b7667028', '8e7941ce31996ca83cc0a68f7313c96d', '3fe45ab3bd4a844ea290050fc0ece8c1_1', '0197ade3bb26d163ab2e284c960c626f', 'dbcedaa6a6f1f68bc8f2bf7aef23294e', '86e2aabfb9d401567f04d87a648ff776', '30138608d4934a75cf0911a06b021374', 'dc55d473c22b04877b11d584f9548194', '5b8d76889510384b38b72945e8d28f53', '7044d82a456d0fa6f0210abb03cbf2c4', '33d023a6806390eb8195380331e17404_1', 'd6107d454181b701ddcaa449a1e422a3', '6e433471d0e2590b8c73ceef275022b1', '8ebf9d24719649a0b041aea02a6e46af', '9808782b2e2e1bfbfa27c41e605bfffe', 'cfa081b5ba90dae4d7ddb5b7ad9d369a', 'e8a9142d2402f818273dd62cf5a7b559_1', '27f2074270ea8a5e8f5ec2a017ec4a50', '9003c4748b08d5a734747e499599ff20', '2d33cde5e3987adc8fa2bca0af4dd3dd', 'e211b1a3f3401d164c8b0bfc10160caa', '2b9b625c788584b8d41f1a74d740e126', '87505da761eaa5c3c4703d02a12d46bc', '3a3b5d4a517ef70d25eb558f1a622937', '1bf4c6b5bd870b1a079106e1e97e5d09', '32d5b7fcae24f0d4871cfb219c5a4b47', 'b9b82aa4c236cd342ff95455b8516a42', '3d9c3253e24fb108cea9083e8a853cf2', 'b7276bb9139ec25c98c7e3822404eb6c', 'fd5a34e94303d7fd343de2a8f36943d5', '3b8e1d236f5169b6c833a994d6d9c39a', '651785ed4f7b0bd2e7ca9f70a42acea5', 'e9d4c747018ff81b8c0aefb5abc3c539', '0a5c069836784c3d574828d85a20a074', '8ae24d3ff199077a59e0d970feb665b7', 'b8c0a4703079cf661d7261a60a1bcbff', 'a7d51b753c2113d8b2dbd0ebb5375855_1', '3f6157968fcf50d257ec3d8c729b7443', '029e36d8f65982b142c319064dc5e32f', '4ef3d70648ee3cea028bc5ed0fdfda28', '2f1680da0d388a8453150ff3637e4689', '0542414710025f56b0c26e1bae5c4d06', '411e50225637b76187cc36b24fe3127c', '99789083502af9bf111876a00fae44ac', '63861ac5e633db9090704ae315ef6f93', '22015315e7ff79386877828b4fa27799', '36f1ceeecde7abf99dab635239e12442', 'db1eb157671109bbb9113b0f71a6b957', 'ae56eff01d05422ddbcb26be7181356a', 'eebddf5f35d85e9fe2ecbd9b56c1db60', '6eb57102b44ab74163d8f9821cbdabd0', 'b7091d2bfcea421d787ce9e7982f104a', 'cb6766fb25daee911fc8e9816b98938c', '07f108d5321a66f460685f5c7499ecb2', '9a544e9f4847c41a15fdf47ae7b98d8a', '43ba9669564217f2f909f33acbedaf95', 'bc08c354e5bead6863ea4a29cb8fa359', '57e96118fee6e2bbac5f59790fc833c0', 'f372587fa4c99d5bebf0d0eb987c44e2', 'f75357e48c3026cfa4da3dba9f91bb21', 'aead08289ca9abfcd169f935ea228ee5', '0d66d33a17e41eaa3278ca7b3930c5ea', 'afa2899cc21e204fa64e63e7839e8c1e', 'f9243ef9f0037657c337d3c6a9832f05', '9f9ca9bb06d6afc31b19c365fb29a1c9', '0f7419d25337e0a75503a015ae777905', '6c4b2c93a4bdafb6cbf2b2ef2439b06f', '9c596382ea15768f95b5ef9ceec191dc', '866ea9c668c0b42df19fa20865e31f77', 'dc2fa76467ff342abdb4cf142f92dddd', 'dbdad44029098d4b1d202d6d857d6092', 'cfa980561efe82e7ae7080d4f081b463', '26ce83b8e9a263079aa8cdbd5258d667', '9310c39a0752f28640c3a05cba1d5ca7', '5c224410a40c9269b1e542cfcb430d35', '8d1563697d751a364d688d6701ebdb39', '02f43014a135cbd39f23b044c99de96e', '22fc45d9e6d0baea4a5b0526504225b8', 'b5baf77d3855935c87f01f5fb2216667', 'ea82f9e938cbfce85fb498ce46264253', '768fb09deab56046e1565b6a2556ad5c', 'c640116ca6905d5256edadb616b3f76e', '790b3f583e9bc9424c771691ecc70c20', '3338109fcafaaa370c8900a53e1b3ed8', '0519b0b0869681c2884f53dbfa43e538', '9dffd2021771e0ecddb19031acf3701b', '9d97e2bb458d93a8bafe4380b08727e3', 'fc1d33a2301a30214523c12573f81aba', 'b47d912136e3304cb5e5890b6b879551', '7b95825a19d6930d6aed35c7c57a2d82', 'c432b860fcd7297751ff5254ec4a7956', 'feb83263e6be392351db0794004efc3f', '3f3ba1d9a3bfe63df11247a968eaddce', '94770e75c4e2000e717b4218ddff19e8', 'ef6ede0af827ddd1dc7bbeb36a6fdd22', 'a5e76dd088aab4f89e2fe93f6de6e46d', '846bc47ced7119ad2ee19a8780d7fe18', '4858669d0193e5d9384dc37d4bb5c00c', '7bff23f6c12e9136f0961514bebb8cd3', '895aa97bb84d874d71b2aed572cebfdd', '092c24369367b3c7457198f3ce160fe3', '63bb6128026ce24209583d0eea75fc27', '3a6140e475cbbd3ee1da5ba9a6953597_1', '95d1d968ee66b6054cbb16b58a7c6455', '56417ee33b44f0d916bedfb6fd99b0ec', 'e1f90cd664a6b150291e6d8444d85c54', '2c845646032bbf27fb3904330d59d324', '0a2195ae8d4706abc5721578c9991466', 'd35a8a3bd560fdd651ecf314878ed30f', '661474a1a0c29dd7a243b284535ac934', '1db19a32a3edbff9981976dc9ec800ce', '1a8fbab20bbdf0bbf3961894662d5f7c', 'e1744fc698cffb574e5cf4b29a81ce76', '820df15b615d221e38a71fcc44461085', '420641003ba20b966887dfac684efb17', 'f75b22d5b88ac56ae7df030c1ebeded5', 'fa031cff8e11e75c68d6a99ef0e5ca3a', '38e61d4be0da46b3cbbd76dc20bce677', '21763a65765b5405c9a54484c2e54a72', 'd060ab71d0efff3cab5960089a6bb3a2', '3c90a632f46aeab11fbb73aa59a33892', '3884d82524f2337ce53ce64776293cf7', '8fd82cdc253835814153fe7222e9967c', 'a4f5e5412f0f8ac9190db1730db07a90', '0854478d174c9127064f0d4b58df7e62', 'c5ad166ab5c5f5f067aa02b20f482523', 'da83d85e28778c082d9a63f5b890b26d', '5de3248caa2e5ed83dd0ec45a15eae18', 'eee8cb7a0d806a62d2de24831f82e3e1', '71cbfeb995b06b21e890c91040722252', '7ed7379fc51fd35a47be022f6c56ce51', 'e1403a7c581bc263aea2ed8d179826d1', '9ed019338a48216de9eadf64faaf1ce0', 'f656a475f07d3adba9d1486eda8e834a', 'e5ad2184e37ae88b2bf46bf6bc0ed2f4', '2729d8502208c25d8e9293cd4e8ecbb5', '6be05d227f4f6fe727218fc8be9df340', 'dfa23d3422b7294843447b6950d2b476', '9382bc51ba092f55a494eff8615899de', '3fcdc0b03e3c8b10692d642676931f4b', 'd81f5c49bc060dc799681bf4cacac73a', '0e6a005eec5e6746f3facf4d608bfd8b', '732183ead4206e51ed4df18b9c9f14fe', '179fff4b5928e5ac3d3ae3e1db782547', 'a64d45cecde84fdcf5f0a79805a0c6fe', '435a728f45d32faa4b3c4553c966fd6b', '1ac54dbf6b67f27daa3d456416047584', '7322d0dcf2e27c7032626a3639f5696b', '53e1e50d204f6ad5a0f69429eadae82e', 'b9121c3228f961c5ad68958c702cd94b', '484f6e4fb8e6431b010c299490b72e3c', 'cf8e30dd6956d03e3f0f0397112a8696', '43df3a316880d8bab346c06bd43b94dd', 'bdd29d7c12e3d795b78ffc048631e7e7', 'f21ef67b31bd36a3174b6b4c7b4bbc7b', '6714487b839f648e348ac972ed114af3', '9889e5389917d812c09d6e5d382d333d', 'f912bcd7479b76db9b1c57a612b90f00', 'e56c56c3cfe50ba0c787c2bd67255be8', '93bbaccb1c46d22124a846b8514de5bc', '8c3c6b34bdb650a6517bca3786406c99', 'dd4a811d18549f1ae1954cf938b28536', 'fcd39cfa321728fea069a6ae4285b06f', '2f97a77d155cb99092e8a7c055737b03_1', '91f512273a2da7ae796919069b20d6cf', '167d2cfa04bfaea0e0b5bac3598d5769', 'c3bc395561113c96ec43afd715da5061', '236691d38665d7bcdd0c9b9834252a51', '750ebdf36a0b3b407be0fe2163e3700b', '92f423de9a556a66c3eb73e9ddf9399a', 'acb3147d946db3b06a596d48e0be56cf', '32758ab86d888be680845b0dfe7de35e', 'dec1c42628a7448aa364cdada6e82f98', 'a5d853d1c2fb3ef160218fb91110fbe5', 'd0c67c7ae6f2361fe237110455127866', 'ef889edd1b57d8d0c81e43f73c98c8e9', 'cbb0c9a69ca0922371a48177087ef407', '3e2222c99e11fca2ad4af2d470eb8ea2_1', '03ee30b5801b61aee791a551a9d9a49f', '8369adc4b4710d00f917d80a75d844d7', '23df3bac9cfcb156f4cfd8a05f21c5e2', '5b8a3081c3235d62bc77e2d15f3ad454', '384b89e789e0f4b4796120394fb6303b', '1f492f556fae64f72ce36b6caa242dd0', 'c39131d979c9205c11d0e109e18188e4', 'fce1c5d069758aea57a787fc98dcf7a9', '70701f5d1d62e58d5c74e2e303bb4065', 'a478e8b7c049781574f7fbb11ba1eec0', 'b231a732a3fdf0621391e7e385f8d651', 'a7f423c1636ba9e36d18e381928c5dcc', '4302e727e47f464511d4d04f22bed0d2', '5af7c7860e3be61d4cfd814cc109f9d9', '6e77de03bee86d6c20780e14f00944d0', '14e75a42a416d32a24e2826cae34d2bf', 'd21777d771dc6fd08e769d378651817e', '33c84708785f88c19737ef5b0e31a64b', '335b51bd3a8ada014bbe6754dcbd425f', '66275550d64d16339c944e6a6d63eb5b', '1ca3cd9475d7e9da2ddb74911ee2bb68', 'f1c2e37abf17d9e4ad16eb40f966c79f', '1afa02df02c908a558b4036e80242fac', 'c509c499bace6de324b39c0d4d0c30fa', '15798a23ee6952fedd6d202064069126', '6c1c1c282cebe8917f607f0dbc1c102e', '163898952cb6baf3a6440696e1352e86', '964185aed0e381853332bca1a4d91f46', 'aa5aa36557a5fbb93391506182f1025c', '191e3c676f05a11d6b2565d8c27d2001', '37d88a9bb24913c1973cc26d4ce3394f', '30a8cfd186f1aae5acd425a52d058863', '1017807310a25d3ea4a4ec305e91cba3', '5758a0fb686071e95d95b1cfad5299a0', 'f7c005244d406b9bde48dc8c22003af1', 'd581e0ad6a4c89465dc1a527bd2d3f77', '2dd138a63b5895cf737ced793cc668e7', '01794dde3ca2991615f1aa2f63fb22e3', '7905b9f4ba503b0ce13b576808e99c42', '81f5e741d970578867495ceea5a0c848', 'c1aebf059c5102f4e773f7fe4afe13f0', '32be8cbc1b5a967310bcab8b80563481', 'e68fb2448fd74e402aae9982aa76e527', 'a00276c6db928900772c0320aeff77c0', '095767956c500ca1af7cf7671556de5b', '11416df796f63d2f0dddc846b9c139d3', 'c592258c88295756833e9796e881057b', 'eaf6838d29bcd4ebf408da2f75aa65c3', '715583129369c0c5c9f499c93a1c095e', 'e3c9e83c0c62d842de2dfe229f5e6d41', 'd64a676e9d22e7edd12e7f4ce267a9f0', '3938d6e50d38b1f8774b4f00a89bdb39', '34b2d6aecdb5af8efacf0b0aa7e3989f', '7d70208061ae3185bcfc9e912ee9e141', 'eb4b2cd0f2a69686e5a82250c5806b84', '0e5c7c0cec5b693e52f74f5f879d84fb', '79ec11d8072ce42779adfe0a19bd5374', 'd6900a01a9dd6627b4bb22b0f6d191a5', '8c8052980e357545398d27d1c3c832d8', '0e80f2afe5c4f652e8720b52d7c06c87', '2c9f4a98ce774cd734b6e384d95051a7', '668dc6bce771b10cbf6336f3ec76520a', 'a2daf73d33541af0846673afd8e49abe', '009a7aabffe0583fc2df46656b29c326', 'aabe8eb218468fc63b6c9aa6d428c951', '0843c51212a3c2eee660fab5648c9e19', 'd6ff2d749494d89e9c7a53f587c519f4', '821b32d39f57396979069b948030afe9', '3bf06235a537adc9d85431846595b800', '1a4e83b433620cb2d7d806882f8d57e4', 'cce1b59f7c4f540a84a1a7d6d88548c4', '52ab95f9216f1994e37cc08f7f258f13', '8c12e5864463cfcd03f4d0ab67949d01', '5169f7ae0781b15161551de3a189ebef', '93b52e7ea1acf10db891e9355e234123', '8494b0b95533dcedbd76ae2916c481d4', '0cba8ddda21e29c8c53482e131d741cd', '5ea6b94d1a911365b06cf776919413e8', 'f13efb91090dd28fd2b3c1f4dde680fd', '4477fb61fde4bb8695c241dfc366b554', 'b6b66d4519a84b8331ea55f84767e9df', '2982d0eae1bf880f5930341af7665716', '6a0177586d506cb7b741f4207b428e42', 'b4cde6a56fb19afc84876ebf2fb9e71a', '1531f1523f5fd24bbdb42c311dbf90e8', 'f4bb8ecacb9ce89e040f5f76bc79afb3', 'a1303b5177df0a5b653c9abd7d5f5e08', 'af11faa29097b71141fe192ad019d1dd', 'c492b8b9754a181c924c1df19998cbc7', '6a1bf527af9ed0685ac5e2bf0bd76647', '7a58e7e7bf76658751e850f790922aba', '59eb56f366407ac7db72996be265883b', '8272f08792b873885f93d4c148e307e5', 'e151b44e0a7bf08a1dd3c861eef09161', 'eae0e03773365064ce915603c7addc91', 'e69da59cbcf2a302e4523571eba8186b', '7f7a6f2b3087bf37dadbe8aa8d358047', 'e75e0c11e2d5a7b634455a1b4b76856c', '114d310d1198abffaf8b88dab5a55aa7', '5a50ea4bb2d13dc4f620ebd45025d445', '1caf93d6a22dc8190e19c14bbe1fafda', '4396cb65629672723c7b184424e139bb', '520972425aed0e532fa28a91c9b55b30', '1d24f406b6828492040b405d3f35119c', '456f2fb41cac8c028dcfe2f48637e473', 'cc1a547bdfdcc95e4d632453af14bc96', '84a761f516efce04ab27d7ca8dd25255', '48a315cfa3ce11f7a9d615bc854331d5', '75ac594b4fdbfba006e61315d1b2c815', '88d8bfb9dc8e77ef642acbe1a129f3db', 'a588407ecaecf0f30c2241c30b470fe2', '27d9b4df2ca50112d282331df4923e96', '684dbde19719e8224113433981d6e01e', '2d2b69ad187b7c40273ab13caab7dc19', 'a2aa95861ef74bf1ecfc55db505e3982', '25136807f7b2e78b115698daa1677b4a', '14309d9bd3c13d1c0efb625198f6304a', '60e92cd2f35c345872d1a898e1718d55', '0a4a00ba435397c4a0496dd2c2426be7', '46bc1a50eeead10509a43a048e01194e', 'f50209f04d11690d7c8f30e29b35ff02', 'def936fda9f6ccee01f57c0f804fabd0', '2a0e82bbf1471290c93c8f2a11af197f', 'e98031901c815e55040d9fe28c4d9387', 'b61e849e44db16a581f0b65e28ab95dc', 'a2977fd575faba162d04a490dabd1b9b', 'bd4e80fa6642a76c064d0bc924411fb0', 'b1f36d1c8ab7e5a28783cb38e8709c27', '761b0f6c68b1540949b70f76a9e67c78', '22458fdcead20e2def0df0d92d5806f6', '5a6559db6bae37e3a8af7350be212219', 'a5456dc611aa93b81d7ab6ed8e160f85', '31d7dd1d00aabe411568df3e72d5b5e0', 'fff554fffa1a0adc64b8d1e21d55534b', '916bbd27545446ca5d83d07c10d013ea', '6cc797ec148c1fc74592957a55bd0951', 'e34a0d1331c6bd4574ffe308e3fbd389', '83808e92381b2e5f4cdf55d1391645ae', '75b8195e23c6bada574f1e41471b8f23', 'e0a7d1df3ce14b27888e785e6636d5f0', '9ae52783d8fdb5cc2e8caa01542c3341', '8bbfe8cd056d612e9d3190f278bef287', '68a911b64dc943b5f81c0f8dec7faed7', '113aaea2b1a27a976547f54e531d99bb', '97da9aa4ea4b22744ec51cba49f35bfc', '720b98fbc365736597147c984f6bd301', 'b0f7d7978ac41c465108a92660d70e84', '64dbe5cb840ef4f1d25f8b68db8d5fed', '80c19c62338edae0e8a1f5c6fec0d29a', 'e4976ee741cf4b28b8a42780ffb15774', '81cc0d320488c7bacafb285cf7db5fbd', 'e61891746aa94ab57aaa754614034aef', '23d97480fe45bace231503f8fc367a5b', '9aff72f0c480c2b4edde45bd2e7e4870', 'f48528156632b9c5b18af9ce2095509b', 'c02a3c2d4f726b9e1be99533a24a6ab4', '5ff8b0deed53b9ff91d58bd5b6f85bdf', 'bd47827418d5b8d7fb3502a398644435', 'ddd8c62ec94b4f94eeefdd05b9208a71', '75cb55aec7e64f592c01eee5d4578dcd', '047c2d8c65d297b39aa42821c1ca76a9', 'bb503ece4eac41dfe608a1dcb654e6bf', '9024493a3edbaf555fda5b477e835bf5', 'ad37795fd9e3a65553683ff305b5113d', '1fcc547e4e6813afc1a66717248d6c62', '4ccd43cdff044bc4c644dadff1ff1e0b', '1ddd239a2a6438a891cb411b82e7f450', '5abeb4a2126597d4ef7b5a32e9e22abf', 'e6586bba9fe96d38792e6e6d4f2703dc', 'ff0303db294a823d4138fb81a6ee6438', '57c85e4c7ea2501ef9d8f304b524e2e4', 'ad769851a59375865607452d3bf2a45d', '85ebdd4f1a3c2ac900eee8e75e48ccaa', '3730c646fdf54472ab873aac9ff7852e', '316a8dee8a4dde7d95cf503a715104be', 'dd11fea36d89aa09f9a6069545ba4c9c', 'ef3d5d35128678937c36438466e0fc93', 'ce2fd94212243f843b3f357046051f57', 'a80ee7775e934c423012fe98e20ba28b', '08db69edf0ec5848c1a53dca8fc1601a', '056b33c7050c167b0d4348d40d169358', '91756d8e475d8d59fa0a4e35f408e366', 'e3426e4f60c142aa3d813479f79d6305', '2067720531fc03c017af941cec2f6f40', '3ed6391c539e6daa5b5fdb1b6d5d8ace', 'ba9132ebf2bc3ad21e6a0631dc4e0a77', 'f20d40bc4af588223e880e0bb58b27b8', '76b2c6d254f9127b4fd66d90e1a330e7', 'fd243c96edec5b1b8520d5bfeddc6622', 'c036ce033bc429ac1aba0a6ac8d057e1', '30d0c2006613eec41ae814d76c17a798', '1e5a138b4c7d456c37abf4990b402bbe', 'bee2a6eadfaf7a4fa0a214e341ddbe5b', '636fc69dee35cd357b4191b47e64d0e5', '7c45033e9fd9f1a759923971b14390ed', '6163a897cd7eac1deddd4c002a1930ae', '2c13e6d61e3733db90a9fd22d72b3337', '5d687fe9c95436ce84230c996d34382d', 'beef0aa2058297904bb4acc1dc340c85', 'edd1634d911614590c6b8ca730df95fe', '5d15989039d46156b417c149728591de', '3b8be90fdd8c67571d8d692eaa6dd87b', 'd33a81660058e570a18fb2eafa284a78', 'b1274d6f5969dea4d46f43fbdc28fd97', '7e522a60756f854c5331125f998bc36b', '56d0fc282a144565f2c852415c6fa92c', '65435b996ce9d1685bebb74b49c1ba7f', '320ec9b68fdefe13d59cc8b628083790', 'cce13a32fedb997c017d3fac87c34912', '8086f022f2d4a4888ae1f8c7e4541ab9', 'ee8819b2da5453848c1cbb9d9c93403b', '5e851c47682bdf79ec7c139ecf124c9a', 'ecb8758b0d088f9aedc182a516dd1190', '570be8c1edb8c638603dc5c8cae421cc', 'db63bf66a8bfd16e5103cbdd350f5202', '46351b3a6beb694c5f623583a3b1473d', 'e3c6d147f8a727d314046e70e9579ba0', '8bcbb5098876940b2382db3a9a0b1beb', 'ad8ee2965a33ff4b0e3d2ac732676594', '8f01273422a370a8dbda6bf473a395a0', '5649bd90dbb57e223fd843b7a4563a0f'}\n"
     ]
    },
    {
     "name": "stderr",
     "output_type": "stream",
     "text": [
      "100%|██████████| 400/400 [00:00<00:00, 750658.43it/s]\n"
     ]
    },
    {
     "name": "stdout",
     "output_type": "stream",
     "text": [
      "Skipping: 7b95825a19d6930d6aed35c7c57a2d82 Skipping: e56c56c3cfe50ba0c787c2bd67255be8 Skipping: 9aff72f0c480c2b4edde45bd2e7e4870 Skipping: 0854478d174c9127064f0d4b58df7e62 Skipping: 790b3f583e9bc9424c771691ecc70c20 Skipping: d33a81660058e570a18fb2eafa284a78 Skipping: 37d88a9bb24913c1973cc26d4ce3394f Skipping: 9382bc51ba092f55a494eff8615899de Skipping: 2b9b625c788584b8d41f1a74d740e126 Skipping: 32d5b7fcae24f0d4871cfb219c5a4b47 Skipping: 1ddd239a2a6438a891cb411b82e7f450 Skipping: f13efb91090dd28fd2b3c1f4dde680fd Skipping: 916bbd27545446ca5d83d07c10d013ea Skipping: 93b52e7ea1acf10db891e9355e234123 Skipping: 7044d82a456d0fa6f0210abb03cbf2c4 Skipping: dbdad44029098d4b1d202d6d857d6092 Skipping: f20d40bc4af588223e880e0bb58b27b8 Skipping: a1303b5177df0a5b653c9abd7d5f5e08 Skipping: 163898952cb6baf3a6440696e1352e86 Skipping: 8fd82cdc253835814153fe7222e9967c Skipping: 6c4b2c93a4bdafb6cbf2b2ef2439b06f Skipping: e61891746aa94ab57aaa754614034aef Skipping: 0e80f2afe5c4f652e8720b52d7c06c87 Skipping: 335b51bd3a8ada014bbe6754dcbd425f Skipping: 3f3ba1d9a3bfe63df11247a968eaddce Skipping: 0197ade3bb26d163ab2e284c960c626f Skipping: 056b33c7050c167b0d4348d40d169358 Skipping: 7bff23f6c12e9136f0961514bebb8cd3 Skipping: eebddf5f35d85e9fe2ecbd9b56c1db60 Skipping: 1fcc547e4e6813afc1a66717248d6c62 Skipping: 5abeb4a2126597d4ef7b5a32e9e22abf Skipping: f50209f04d11690d7c8f30e29b35ff02 Skipping: 01794dde3ca2991615f1aa2f63fb22e3 Skipping: 8369adc4b4710d00f917d80a75d844d7 Skipping: a5456dc611aa93b81d7ab6ed8e160f85 Skipping: 2d2b69ad187b7c40273ab13caab7dc19 Skipping: 7ed7379fc51fd35a47be022f6c56ce51 Skipping: 0a4a00ba435397c4a0496dd2c2426be7 Skipping: 9889e5389917d812c09d6e5d382d333d Skipping: e69da59cbcf2a302e4523571eba8186b Skipping: 14309d9bd3c13d1c0efb625198f6304a Skipping: b8c0a4703079cf661d7261a60a1bcbff Skipping: 1db19a32a3edbff9981976dc9ec800ce Skipping: 520972425aed0e532fa28a91c9b55b30 Skipping: c432b860fcd7297751ff5254ec4a7956 Skipping: 9d97e2bb458d93a8bafe4380b08727e3 Skipping: 15798a23ee6952fedd6d202064069126 Skipping: 9024493a3edbaf555fda5b477e835bf5 Skipping: 5649bd90dbb57e223fd843b7a4563a0f Skipping: 33d023a6806390eb8195380331e17404_1 Skipping: 866ea9c668c0b42df19fa20865e31f77 Skipping: 99789083502af9bf111876a00fae44ac Skipping: a2977fd575faba162d04a490dabd1b9b Skipping: 56d0fc282a144565f2c852415c6fa92c Skipping: ae56eff01d05422ddbcb26be7181356a Skipping: c592258c88295756833e9796e881057b Skipping: 22458fdcead20e2def0df0d92d5806f6 Skipping: 1f492f556fae64f72ce36b6caa242dd0 Skipping: 8086f022f2d4a4888ae1f8c7e4541ab9 Skipping: 9310c39a0752f28640c3a05cba1d5ca7 Skipping: 36f1ceeecde7abf99dab635239e12442 Skipping: eaf6838d29bcd4ebf408da2f75aa65c3 Skipping: 3a6140e475cbbd3ee1da5ba9a6953597_1 Skipping: 0542414710025f56b0c26e1bae5c4d06 Skipping: 5ea6b94d1a911365b06cf776919413e8 Skipping: 316a8dee8a4dde7d95cf503a715104be Skipping: 2982d0eae1bf880f5930341af7665716 Skipping: cbb0c9a69ca0922371a48177087ef407 Skipping: ad769851a59375865607452d3bf2a45d Skipping: 38e61d4be0da46b3cbbd76dc20bce677 Skipping: 63bb6128026ce24209583d0eea75fc27 Skipping: 895aa97bb84d874d71b2aed572cebfdd Skipping: 5af7c7860e3be61d4cfd814cc109f9d9 Skipping: 92f423de9a556a66c3eb73e9ddf9399a Skipping: f7c005244d406b9bde48dc8c22003af1 Skipping: dd4a811d18549f1ae1954cf938b28536 Skipping: b9b82aa4c236cd342ff95455b8516a42 Skipping: 092c24369367b3c7457198f3ce160fe3 Skipping: 27f2074270ea8a5e8f5ec2a017ec4a50 Skipping: 46bc1a50eeead10509a43a048e01194e Skipping: 0e6a005eec5e6746f3facf4d608bfd8b Skipping: 43ba9669564217f2f909f33acbedaf95 Skipping: f21ef67b31bd36a3174b6b4c7b4bbc7b Skipping: bc08c354e5bead6863ea4a29cb8fa359 Skipping: 46351b3a6beb694c5f623583a3b1473d Skipping: 59eb56f366407ac7db72996be265883b Skipping: a64d45cecde84fdcf5f0a79805a0c6fe Skipping: 6eb57102b44ab74163d8f9821cbdabd0 Skipping: ba9132ebf2bc3ad21e6a0631dc4e0a77 Skipping: 684dbde19719e8224113433981d6e01e Skipping: 4ccd43cdff044bc4c644dadff1ff1e0b Skipping: 2f97a77d155cb99092e8a7c055737b03_1 Skipping: 11416df796f63d2f0dddc846b9c139d3 Skipping: 236691d38665d7bcdd0c9b9834252a51 Skipping: a7d51b753c2113d8b2dbd0ebb5375855_1 Skipping: 14e75a42a416d32a24e2826cae34d2bf Skipping: bee2a6eadfaf7a4fa0a214e341ddbe5b Skipping: 4477fb61fde4bb8695c241dfc366b554 Skipping: c02a3c2d4f726b9e1be99533a24a6ab4 Skipping: 0e5c7c0cec5b693e52f74f5f879d84fb Skipping: 21763a65765b5405c9a54484c2e54a72 Skipping: f48528156632b9c5b18af9ce2095509b Skipping: 8ae24d3ff199077a59e0d970feb665b7 Skipping: 1e09c3136a743b862e783700b7667028 Skipping: 456f2fb41cac8c028dcfe2f48637e473 Skipping: 6e77de03bee86d6c20780e14f00944d0 Skipping: 3d9c3253e24fb108cea9083e8a853cf2 Skipping: 48a315cfa3ce11f7a9d615bc854331d5 Skipping: 88d8bfb9dc8e77ef642acbe1a129f3db Skipping: b7276bb9139ec25c98c7e3822404eb6c Skipping: 22fc45d9e6d0baea4a5b0526504225b8 Skipping: 71cbfeb995b06b21e890c91040722252 Skipping: aead08289ca9abfcd169f935ea228ee5 Skipping: 715583129369c0c5c9f499c93a1c095e Skipping: 81cc0d320488c7bacafb285cf7db5fbd Skipping: edd1634d911614590c6b8ca730df95fe Skipping: dfa23d3422b7294843447b6950d2b476 Skipping: 4858669d0193e5d9384dc37d4bb5c00c Skipping: e98031901c815e55040d9fe28c4d9387 Skipping: 8494b0b95533dcedbd76ae2916c481d4 Skipping: c1aebf059c5102f4e773f7fe4afe13f0 Skipping: 1a8fbab20bbdf0bbf3961894662d5f7c Skipping: b47d912136e3304cb5e5890b6b879551 Skipping: d35a8a3bd560fdd651ecf314878ed30f Skipping: 86e2aabfb9d401567f04d87a648ff776 Skipping: 095767956c500ca1af7cf7671556de5b Skipping: 52ab95f9216f1994e37cc08f7f258f13 Skipping: a2aa95861ef74bf1ecfc55db505e3982 Skipping: 167d2cfa04bfaea0e0b5bac3598d5769 Skipping: d64a676e9d22e7edd12e7f4ce267a9f0 Skipping: dd11fea36d89aa09f9a6069545ba4c9c Skipping: 6e433471d0e2590b8c73ceef275022b1 Skipping: 9c596382ea15768f95b5ef9ceec191dc Skipping: 5c224410a40c9269b1e542cfcb430d35 Skipping: f372587fa4c99d5bebf0d0eb987c44e2 Skipping: 30a8cfd186f1aae5acd425a52d058863 Skipping: ad8ee2965a33ff4b0e3d2ac732676594 Skipping: afa2899cc21e204fa64e63e7839e8c1e Skipping: 8d1563697d751a364d688d6701ebdb39 Skipping: 179fff4b5928e5ac3d3ae3e1db782547 Skipping: 31d7dd1d00aabe411568df3e72d5b5e0 Skipping: 8e7941ce31996ca83cc0a68f7313c96d Skipping: 191e3c676f05a11d6b2565d8c27d2001 Skipping: 4ef3d70648ee3cea028bc5ed0fdfda28 Skipping: aa5aa36557a5fbb93391506182f1025c Skipping: 5ff8b0deed53b9ff91d58bd5b6f85bdf Skipping: ef889edd1b57d8d0c81e43f73c98c8e9 Skipping: cfa980561efe82e7ae7080d4f081b463 Skipping: ddd8c62ec94b4f94eeefdd05b9208a71 Skipping: 75cb55aec7e64f592c01eee5d4578dcd Skipping: c640116ca6905d5256edadb616b3f76e Skipping: f75b22d5b88ac56ae7df030c1ebeded5 Skipping: 60e92cd2f35c345872d1a898e1718d55 Skipping: 3bf06235a537adc9d85431846595b800 Skipping: 43df3a316880d8bab346c06bd43b94dd Skipping: 0f7419d25337e0a75503a015ae777905 Skipping: c3bc395561113c96ec43afd715da5061 Skipping: 87505da761eaa5c3c4703d02a12d46bc Skipping: 23d97480fe45bace231503f8fc367a5b Skipping: d81f5c49bc060dc799681bf4cacac73a Skipping: c509c499bace6de324b39c0d4d0c30fa Skipping: 3730c646fdf54472ab873aac9ff7852e Skipping: 83808e92381b2e5f4cdf55d1391645ae Skipping: 34b2d6aecdb5af8efacf0b0aa7e3989f Skipping: 32758ab86d888be680845b0dfe7de35e Skipping: 3fe45ab3bd4a844ea290050fc0ece8c1_1 Skipping: ecb8758b0d088f9aedc182a516dd1190 Skipping: 2f1680da0d388a8453150ff3637e4689 Skipping: b4cde6a56fb19afc84876ebf2fb9e71a Skipping: 65435b996ce9d1685bebb74b49c1ba7f Skipping: 6be05d227f4f6fe727218fc8be9df340 Skipping: b1274d6f5969dea4d46f43fbdc28fd97 Skipping: d0c67c7ae6f2361fe237110455127866 Skipping: 3f6157968fcf50d257ec3d8c729b7443 Skipping: a478e8b7c049781574f7fbb11ba1eec0 Skipping: 64dbe5cb840ef4f1d25f8b68db8d5fed Skipping: ce2fd94212243f843b3f357046051f57 Skipping: 2c9f4a98ce774cd734b6e384d95051a7 Skipping: b0f7d7978ac41c465108a92660d70e84 Skipping: dbcedaa6a6f1f68bc8f2bf7aef23294e Skipping: 3e2222c99e11fca2ad4af2d470eb8ea2_1 Skipping: a5d853d1c2fb3ef160218fb91110fbe5 Skipping: 1531f1523f5fd24bbdb42c311dbf90e8 Skipping: af11faa29097b71141fe192ad019d1dd Skipping: 411e50225637b76187cc36b24fe3127c Skipping: 7322d0dcf2e27c7032626a3639f5696b Skipping: 8272f08792b873885f93d4c148e307e5 Skipping: e1744fc698cffb574e5cf4b29a81ce76 Skipping: 84a761f516efce04ab27d7ca8dd25255 Skipping: ef3d5d35128678937c36438466e0fc93 Skipping: 114d310d1198abffaf8b88dab5a55aa7 Skipping: cfa081b5ba90dae4d7ddb5b7ad9d369a Skipping: 6cc797ec148c1fc74592957a55bd0951 Skipping: 3938d6e50d38b1f8774b4f00a89bdb39 Skipping: e1403a7c581bc263aea2ed8d179826d1 Skipping: e68fb2448fd74e402aae9982aa76e527 Skipping: 5a50ea4bb2d13dc4f620ebd45025d445 Skipping: 95d1d968ee66b6054cbb16b58a7c6455 Skipping: fa031cff8e11e75c68d6a99ef0e5ca3a Skipping: 1017807310a25d3ea4a4ec305e91cba3 Skipping: 03ee30b5801b61aee791a551a9d9a49f Skipping: 66275550d64d16339c944e6a6d63eb5b Skipping: 9003c4748b08d5a734747e499599ff20 Skipping: b231a732a3fdf0621391e7e385f8d651 Skipping: cc1a547bdfdcc95e4d632453af14bc96 Skipping: 732183ead4206e51ed4df18b9c9f14fe Skipping: f912bcd7479b76db9b1c57a612b90f00 Skipping: 0a5c069836784c3d574828d85a20a074 Skipping: 0d66d33a17e41eaa3278ca7b3930c5ea Skipping: b7091d2bfcea421d787ce9e7982f104a Skipping: a80ee7775e934c423012fe98e20ba28b Skipping: cce13a32fedb997c017d3fac87c34912 Skipping: da83d85e28778c082d9a63f5b890b26d Skipping: f4bb8ecacb9ce89e040f5f76bc79afb3 Skipping: 25136807f7b2e78b115698daa1677b4a Skipping: 1a4e83b433620cb2d7d806882f8d57e4 Skipping: eae0e03773365064ce915603c7addc91 Skipping: 2729d8502208c25d8e9293cd4e8ecbb5 Skipping: bdd29d7c12e3d795b78ffc048631e7e7 Skipping: 91f512273a2da7ae796919069b20d6cf Skipping: c492b8b9754a181c924c1df19998cbc7 Skipping: a2daf73d33541af0846673afd8e49abe Skipping: 2d33cde5e3987adc8fa2bca0af4dd3dd Skipping: e151b44e0a7bf08a1dd3c861eef09161 Skipping: db1eb157671109bbb9113b0f71a6b957 Skipping: 0a2195ae8d4706abc5721578c9991466 Skipping: 7d70208061ae3185bcfc9e912ee9e141 Skipping: e211b1a3f3401d164c8b0bfc10160caa Skipping: 3884d82524f2337ce53ce64776293cf7 Skipping: 9808782b2e2e1bfbfa27c41e605bfffe Skipping: 76b2c6d254f9127b4fd66d90e1a330e7 Skipping: 5d687fe9c95436ce84230c996d34382d Skipping: e3c9e83c0c62d842de2dfe229f5e6d41 Skipping: fd5a34e94303d7fd343de2a8f36943d5 Skipping: 1afa02df02c908a558b4036e80242fac Skipping: bd47827418d5b8d7fb3502a398644435 Skipping: 113aaea2b1a27a976547f54e531d99bb Skipping: c036ce033bc429ac1aba0a6ac8d057e1 Skipping: 651785ed4f7b0bd2e7ca9f70a42acea5 Skipping: 668dc6bce771b10cbf6336f3ec76520a Skipping: e4976ee741cf4b28b8a42780ffb15774 Skipping: ea82f9e938cbfce85fb498ce46264253 Skipping: 435a728f45d32faa4b3c4553c966fd6b Skipping: 7f7a6f2b3087bf37dadbe8aa8d358047 Skipping: 3b8be90fdd8c67571d8d692eaa6dd87b Skipping: 5a6559db6bae37e3a8af7350be212219 Skipping: 9f9ca9bb06d6afc31b19c365fb29a1c9 Skipping: d060ab71d0efff3cab5960089a6bb3a2 Skipping: 2dd138a63b5895cf737ced793cc668e7 Skipping: 6a1bf527af9ed0685ac5e2bf0bd76647 Skipping: 68a911b64dc943b5f81c0f8dec7faed7 Skipping: e3c6d147f8a727d314046e70e9579ba0 Skipping: e9d4c747018ff81b8c0aefb5abc3c539 Skipping: 7c45033e9fd9f1a759923971b14390ed Skipping: a5e76dd088aab4f89e2fe93f6de6e46d Skipping: 3b8e1d236f5169b6c833a994d6d9c39a Skipping: 3ed6391c539e6daa5b5fdb1b6d5d8ace Skipping: d6107d454181b701ddcaa449a1e422a3 Skipping: 80c19c62338edae0e8a1f5c6fec0d29a Skipping: b5baf77d3855935c87f01f5fb2216667 Skipping: 9ae52783d8fdb5cc2e8caa01542c3341 Skipping: beef0aa2058297904bb4acc1dc340c85 Skipping: fc1d33a2301a30214523c12573f81aba Skipping: 8c3c6b34bdb650a6517bca3786406c99 Skipping: 846bc47ced7119ad2ee19a8780d7fe18 Skipping: 56417ee33b44f0d916bedfb6fd99b0ec Skipping: acb3147d946db3b06a596d48e0be56cf Skipping: bb503ece4eac41dfe608a1dcb654e6bf Skipping: fce1c5d069758aea57a787fc98dcf7a9 Skipping: 2067720531fc03c017af941cec2f6f40 Skipping: e1f90cd664a6b150291e6d8444d85c54 Skipping: b6b66d4519a84b8331ea55f84767e9df Skipping: 08db69edf0ec5848c1a53dca8fc1601a Skipping: dec1c42628a7448aa364cdada6e82f98 Skipping: 32be8cbc1b5a967310bcab8b80563481 Skipping: 97da9aa4ea4b22744ec51cba49f35bfc Skipping: 384b89e789e0f4b4796120394fb6303b Skipping: c5ad166ab5c5f5f067aa02b20f482523 Skipping: d6900a01a9dd6627b4bb22b0f6d191a5 Skipping: 07f108d5321a66f460685f5c7499ecb2 Skipping: 63861ac5e633db9090704ae315ef6f93 Skipping: 964185aed0e381853332bca1a4d91f46 Skipping: 91756d8e475d8d59fa0a4e35f408e366 Skipping: 636fc69dee35cd357b4191b47e64d0e5 Skipping: 53e1e50d204f6ad5a0f69429eadae82e Skipping: e0a7d1df3ce14b27888e785e6636d5f0 Skipping: fd243c96edec5b1b8520d5bfeddc6622 Skipping: e5ad2184e37ae88b2bf46bf6bc0ed2f4 Skipping: 57c85e4c7ea2501ef9d8f304b524e2e4 Skipping: 8c12e5864463cfcd03f4d0ab67949d01 Skipping: ee8819b2da5453848c1cbb9d9c93403b Skipping: 661474a1a0c29dd7a243b284535ac934 Skipping: 3338109fcafaaa370c8900a53e1b3ed8 Skipping: c39131d979c9205c11d0e109e18188e4 Skipping: 94770e75c4e2000e717b4218ddff19e8 Skipping: af836abc58e0daf36df1d8d6830b70c5 Skipping: 8ebf9d24719649a0b041aea02a6e46af Skipping: 9a544e9f4847c41a15fdf47ae7b98d8a Skipping: 75b8195e23c6bada574f1e41471b8f23 Skipping: 5758a0fb686071e95d95b1cfad5299a0 Skipping: 761b0f6c68b1540949b70f76a9e67c78 Skipping: 70701f5d1d62e58d5c74e2e303bb4065 Skipping: 9dffd2021771e0ecddb19031acf3701b Skipping: 820df15b615d221e38a71fcc44461085 Skipping: 26ce83b8e9a263079aa8cdbd5258d667 Skipping: 570be8c1edb8c638603dc5c8cae421cc Skipping: 81f5e741d970578867495ceea5a0c848 Skipping: 768fb09deab56046e1565b6a2556ad5c Skipping: e6586bba9fe96d38792e6e6d4f2703dc Skipping: 750ebdf36a0b3b407be0fe2163e3700b Skipping: eee8cb7a0d806a62d2de24831f82e3e1 Skipping: 6a0177586d506cb7b741f4207b428e42 Skipping: 5e851c47682bdf79ec7c139ecf124c9a Skipping: a4f5e5412f0f8ac9190db1730db07a90 Skipping: 6c1c1c282cebe8917f607f0dbc1c102e Skipping: 57e96118fee6e2bbac5f59790fc833c0 Skipping: 85ebdd4f1a3c2ac900eee8e75e48ccaa Skipping: 2c13e6d61e3733db90a9fd22d72b3337 Skipping: e8a9142d2402f818273dd62cf5a7b559_1 Skipping: 8bcbb5098876940b2382db3a9a0b1beb Skipping: d6ff2d749494d89e9c7a53f587c519f4 Skipping: dc2fa76467ff342abdb4cf142f92dddd Skipping: eb4b2cd0f2a69686e5a82250c5806b84 Skipping: cce1b59f7c4f540a84a1a7d6d88548c4 Skipping: 047c2d8c65d297b39aa42821c1ca76a9 Skipping: 1ca3cd9475d7e9da2ddb74911ee2bb68 Skipping: def936fda9f6ccee01f57c0f804fabd0 Skipping: 3a3b5d4a517ef70d25eb558f1a622937 Skipping: 5d15989039d46156b417c149728591de Skipping: 27d9b4df2ca50112d282331df4923e96 Skipping: f9243ef9f0037657c337d3c6a9832f05 Skipping: ef6ede0af827ddd1dc7bbeb36a6fdd22 Skipping: 2c845646032bbf27fb3904330d59d324 Skipping: e3426e4f60c142aa3d813479f79d6305 Skipping: 0843c51212a3c2eee660fab5648c9e19 Skipping: bd4e80fa6642a76c064d0bc924411fb0 Skipping: e34a0d1331c6bd4574ffe308e3fbd389 Skipping: 1d24f406b6828492040b405d3f35119c Skipping: d21777d771dc6fd08e769d378651817e Skipping: cb6766fb25daee911fc8e9816b98938c Skipping: 2a0e82bbf1471290c93c8f2a11af197f Skipping: f75357e48c3026cfa4da3dba9f91bb21 Skipping: 5b8d76889510384b38b72945e8d28f53 Skipping: 4302e727e47f464511d4d04f22bed0d2 Skipping: b9121c3228f961c5ad68958c702cd94b Skipping: 7e522a60756f854c5331125f998bc36b Skipping: 5169f7ae0781b15161551de3a189ebef Skipping: f1c2e37abf17d9e4ad16eb40f966c79f Skipping: ff0303db294a823d4138fb81a6ee6438 Skipping: 420641003ba20b966887dfac684efb17 Skipping: b61e849e44db16a581f0b65e28ab95dc Skipping: 8f01273422a370a8dbda6bf473a395a0 Skipping: f656a475f07d3adba9d1486eda8e834a Skipping: 1ac54dbf6b67f27daa3d456416047584 Skipping: fcd39cfa321728fea069a6ae4285b06f Skipping: e75e0c11e2d5a7b634455a1b4b76856c Skipping: 9ed019338a48216de9eadf64faaf1ce0 Skipping: 02f43014a135cbd39f23b044c99de96e Skipping: a7f423c1636ba9e36d18e381928c5dcc Skipping: 0cba8ddda21e29c8c53482e131d741cd Skipping: b1f36d1c8ab7e5a28783cb38e8709c27 Skipping: 009a7aabffe0583fc2df46656b29c326 Skipping: 5b8a3081c3235d62bc77e2d15f3ad454 Skipping: 22015315e7ff79386877828b4fa27799 Skipping: 1bf4c6b5bd870b1a079106e1e97e5d09 Skipping: 30d0c2006613eec41ae814d76c17a798 Skipping: a588407ecaecf0f30c2241c30b470fe2 Skipping: 33c84708785f88c19737ef5b0e31a64b Skipping: 23df3bac9cfcb156f4cfd8a05f21c5e2 Skipping: 3c90a632f46aeab11fbb73aa59a33892 Skipping: db63bf66a8bfd16e5103cbdd350f5202 Skipping: 821b32d39f57396979069b948030afe9 Skipping: 029e36d8f65982b142c319064dc5e32f Skipping: 6714487b839f648e348ac972ed114af3 Skipping: 720b98fbc365736597147c984f6bd301 Skipping: 8bbfe8cd056d612e9d3190f278bef287 Skipping: 1e5a138b4c7d456c37abf4990b402bbe Skipping: feb83263e6be392351db0794004efc3f Skipping: 320ec9b68fdefe13d59cc8b628083790 Skipping: cf8e30dd6956d03e3f0f0397112a8696 Skipping: 0519b0b0869681c2884f53dbfa43e538 Skipping: d581e0ad6a4c89465dc1a527bd2d3f77 Skipping: 6163a897cd7eac1deddd4c002a1930ae Skipping: a00276c6db928900772c0320aeff77c0 Skipping: aabe8eb218468fc63b6c9aa6d428c951 Skipping: 1caf93d6a22dc8190e19c14bbe1fafda Skipping: 79ec11d8072ce42779adfe0a19bd5374 Skipping: 484f6e4fb8e6431b010c299490b72e3c Skipping: 7a58e7e7bf76658751e850f790922aba Skipping: 93bbaccb1c46d22124a846b8514de5bc Skipping: ad37795fd9e3a65553683ff305b5113d Skipping: 75ac594b4fdbfba006e61315d1b2c815 Skipping: dc55d473c22b04877b11d584f9548194 Skipping: 3fcdc0b03e3c8b10692d642676931f4b Skipping: 5de3248caa2e5ed83dd0ec45a15eae18 Skipping: 8c8052980e357545398d27d1c3c832d8 Skipping: 4396cb65629672723c7b184424e139bb Skipping: 30138608d4934a75cf0911a06b021374 Skipping: fff554fffa1a0adc64b8d1e21d55534b Skipping: 7905b9f4ba503b0ce13b576808e99c42 Processing complete for commonsenseQA. 0 new answers saved to /Users/log/Github/textual_grounding/logan/results/final/VanillaCoT/commonsenseQA/llama3.1405b/zero_shot_vanilla_cot_None_commonsenseQA_llama3.1405b.csv.\n",
      "------Processing dataset: SPARTQA-------\n",
      "Already answered IDs: {0, 4, 6, 9, 13, 2062, 2067, 2080, 2083, 2094, 50, 54, 57, 58, 60, 66, 2133, 2135, 88, 2137, 89, 93, 2148, 109, 2160, 2164, 2168, 129, 2181, 135, 2188, 149, 158, 159, 161, 165, 2213, 2214, 2224, 2229, 185, 187, 191, 2241, 2242, 2246, 2247, 204, 2257, 2263, 237, 2292, 2296, 250, 2299, 254, 255, 257, 261, 2324, 2327, 282, 2331, 2333, 286, 294, 302, 2350, 303, 2357, 2359, 323, 2374, 328, 329, 330, 333, 337, 2389, 341, 2404, 2406, 367, 2415, 2417, 373, 374, 375, 382, 2435, 388, 2442, 2443, 2444, 400, 404, 410, 412, 413, 415, 2465, 2466, 2470, 2473, 2480, 2483, 2491, 446, 2499, 2502, 2506, 2507, 2509, 471, 472, 474, 475, 479, 480, 2532, 487, 490, 2541, 2543, 507, 509, 511, 2561, 2570, 533, 2581, 534, 542, 2593, 546, 2595, 2597, 2600, 552, 2610, 570, 572, 2623, 2626, 583, 2641, 599, 601, 2649, 2658, 2659, 612, 2665, 628, 2677, 632, 2689, 2693, 645, 648, 655, 2704, 663, 2712, 2726, 678, 2736, 693, 698, 2755, 2758, 2759, 716, 2767, 2769, 2779, 2780, 2782, 2783, 738, 2787, 2790, 746, 2799, 2801, 753, 757, 764, 770, 772, 2820, 775, 779, 780, 2829, 782, 787, 797, 2857, 2861, 813, 816, 2864, 2868, 2873, 2874, 832, 833, 2882, 837, 2888, 2889, 2894, 2904, 2909, 862, 874, 881, 2931, 2938, 2941, 894, 896, 2947, 903, 904, 908, 913, 2971, 2978, 2989, 2991, 2996, 964, 977, 3027, 980, 983, 3037, 991, 995, 999, 3065, 1026, 1027, 3091, 3094, 3095, 1050, 3103, 3104, 1060, 1061, 1064, 1065, 1066, 3121, 3143, 1110, 3162, 1125, 1127, 1128, 1150, 1154, 3207, 3210, 3215, 1178, 1179, 3230, 1189, 1192, 3249, 3254, 3268, 3274, 3279, 1233, 1234, 1238, 3287, 3288, 3289, 1242, 3290, 3297, 3318, 1270, 1275, 3324, 1278, 3336, 3341, 1295, 1298, 3346, 1310, 3364, 3374, 1328, 3377, 3378, 1332, 3380, 1335, 3391, 3392, 3397, 3399, 1352, 3409, 1362, 1364, 1369, 1373, 1375, 3424, 3431, 3441, 3450, 1402, 3457, 3458, 3461, 1421, 3472, 3474, 1434, 3483, 1442, 1449, 3497, 1462, 1463, 1466, 1468, 3517, 1471, 3533, 3544, 3551, 3554, 3563, 1516, 3567, 3569, 3570, 1523, 1550, 1576, 1577, 1589, 1591, 1602, 1624, 1633, 1645, 1647, 1658, 1678, 1697, 1700, 1710, 1713, 1717, 1722, 1743, 1745, 1778, 1786, 1811, 1813, 1822, 1824, 1828, 1834, 1835, 1845, 1855, 1875, 1912, 1913, 1926, 1931, 1933, 1948, 1951, 1952, 1953, 1962, 1973, 1990, 1992, 1995, 2004, 2017, 2021, 2025}\n"
     ]
    },
    {
     "name": "stderr",
     "output_type": "stream",
     "text": [
      "100%|██████████| 400/400 [00:00<00:00, 946261.48it/s]\n"
     ]
    },
    {
     "name": "stdout",
     "output_type": "stream",
     "text": [
      "Skipping: 3458 Skipping: 1577 Skipping: 3104 Skipping: 1722 Skipping: 165 Skipping: 1060 Skipping: 2094 Skipping: 1990 Skipping: 1658 Skipping: 3210 Skipping: 3399 Skipping: 1242 Skipping: 1952 Skipping: 1466 Skipping: 2389 Skipping: 894 Skipping: 2067 Skipping: 570 Skipping: 1154 Skipping: 572 Skipping: 3095 Skipping: 388 Skipping: 2532 Skipping: 3274 Skipping: 1026 Skipping: 2181 Skipping: 2888 Skipping: 3318 Skipping: 2465 Skipping: 601 Skipping: 1270 Skipping: 404 Skipping: 2989 Skipping: 302 Skipping: 3483 Skipping: 2801 Skipping: 1352 Skipping: 1933 Skipping: 2292 Skipping: 412 Skipping: 1449 Skipping: 1778 Skipping: 1295 Skipping: 2502 Skipping: 2623 Skipping: 837 Skipping: 2263 Skipping: 1953 Skipping: 1813 Skipping: 3544 Skipping: 2135 Skipping: 1066 Skipping: 255 Skipping: 3297 Skipping: 2247 Skipping: 57 Skipping: 382 Skipping: 2947 Skipping: 3441 Skipping: 1633 Skipping: 2909 Skipping: 3378 Skipping: 3215 Skipping: 2736 Skipping: 2561 Skipping: 4 Skipping: 2506 Skipping: 2021 Skipping: 3391 Skipping: 1364 Skipping: 999 Skipping: 2991 Skipping: 1332 Skipping: 2882 Skipping: 257 Skipping: 782 Skipping: 2324 Skipping: 908 Skipping: 977 Skipping: 3290 Skipping: 583 Skipping: 3289 Skipping: 2224 Skipping: 1834 Skipping: 373 Skipping: 329 Skipping: 1310 Skipping: 2080 Skipping: 2004 Skipping: 446 Skipping: 1234 Skipping: 2257 Skipping: 1192 Skipping: 2894 Skipping: 511 Skipping: 2242 Skipping: 1362 Skipping: 3336 Skipping: 2213 Skipping: 832 Skipping: 3570 Skipping: 2470 Skipping: 2241 Skipping: 2406 Skipping: 1178 Skipping: 1822 Skipping: 375 Skipping: 2442 Skipping: 3268 Skipping: 1576 Skipping: 1298 Skipping: 2357 Skipping: 991 Skipping: 1189 Skipping: 753 Skipping: 775 Skipping: 3364 Skipping: 764 Skipping: 135 Skipping: 2509 Skipping: 2689 Skipping: 1065 Skipping: 1951 Skipping: 282 Skipping: 367 Skipping: 2780 Skipping: 3103 Skipping: 533 Skipping: 612 Skipping: 158 Skipping: 3450 Skipping: 328 Skipping: 2864 Skipping: 3397 Skipping: 2214 Skipping: 2799 Skipping: 1602 Skipping: 3431 Skipping: 3567 Skipping: 2148 Skipping: 1128 Skipping: 2137 Skipping: 3324 Skipping: 964 Skipping: 881 Skipping: 2783 Skipping: 2415 Skipping: 3380 Skipping: 1717 Skipping: 2374 Skipping: 1127 Skipping: 1845 Skipping: 2017 Skipping: 2704 Skipping: 2626 Skipping: 2868 Skipping: 3249 Skipping: 1463 Skipping: 337 Skipping: 1328 Skipping: 3474 Skipping: 472 Skipping: 1992 Skipping: 2404 Skipping: 2581 Skipping: 1373 Skipping: 779 Skipping: 995 Skipping: 66 Skipping: 2996 Skipping: 1110 Skipping: 479 Skipping: 2889 Skipping: 903 Skipping: 1523 Skipping: 3254 Skipping: 698 Skipping: 3497 Skipping: 1745 Skipping: 3341 Skipping: 254 Skipping: 3554 Skipping: 3207 Skipping: 599 Skipping: 2857 Skipping: 896 Skipping: 185 Skipping: 3346 Skipping: 2350 Skipping: 2597 Skipping: 2188 Skipping: 2466 Skipping: 2787 Skipping: 303 Skipping: 109 Skipping: 509 Skipping: 2600 Skipping: 772 Skipping: 2483 Skipping: 2359 Skipping: 490 Skipping: 3457 Skipping: 374 Skipping: 1516 Skipping: 475 Skipping: 149 Skipping: 2480 Skipping: 88 Skipping: 797 Skipping: 757 Skipping: 2941 Skipping: 507 Skipping: 1962 Skipping: 862 Skipping: 2978 Skipping: 3279 Skipping: 250 Skipping: 2782 Skipping: 93 Skipping: 2229 Skipping: 1743 Skipping: 2541 Skipping: 415 Skipping: 1064 Skipping: 286 Skipping: 904 Skipping: 294 Skipping: 2649 Skipping: 1233 Skipping: 1434 Skipping: 1786 Skipping: 738 Skipping: 3377 Skipping: 2062 Skipping: 1913 Skipping: 161 Skipping: 2443 Skipping: 413 Skipping: 3461 Skipping: 3392 Skipping: 816 Skipping: 3472 Skipping: 1468 Skipping: 3424 Skipping: 1926 Skipping: 2333 Skipping: 693 Skipping: 3409 Skipping: 2755 Skipping: 833 Skipping: 3143 Skipping: 237 Skipping: 3230 Skipping: 2769 Skipping: 648 Skipping: 663 Skipping: 1402 Skipping: 2168 Skipping: 3569 Skipping: 480 Skipping: 2444 Skipping: 1811 Skipping: 2726 Skipping: 716 Skipping: 54 Skipping: 1931 Skipping: 2790 Skipping: 1678 Skipping: 2331 Skipping: 2083 Skipping: 1275 Skipping: 2658 Skipping: 1462 Skipping: 1591 Skipping: 2693 Skipping: 1027 Skipping: 628 Skipping: 2296 Skipping: 2829 Skipping: 50 Skipping: 1875 Skipping: 3037 Skipping: 323 Skipping: 1375 Skipping: 3027 Skipping: 187 Skipping: 3374 Skipping: 1150 Skipping: 552 Skipping: 983 Skipping: 3121 Skipping: 1973 Skipping: 1442 Skipping: 2499 Skipping: 1179 Skipping: 2758 Skipping: 1471 Skipping: 2417 Skipping: 2595 Skipping: 2543 Skipping: 542 Skipping: 2931 Skipping: 3563 Skipping: 1589 Skipping: 3065 Skipping: 1697 Skipping: 2665 Skipping: 330 Skipping: 6 Skipping: 2435 Skipping: 787 Skipping: 2861 Skipping: 1369 Skipping: 655 Skipping: 980 Skipping: 913 Skipping: 2610 Skipping: 1835 Skipping: 1550 Skipping: 3533 Skipping: 2759 Skipping: 2327 Skipping: 3288 Skipping: 129 Skipping: 1647 Skipping: 2874 Skipping: 3517 Skipping: 1713 Skipping: 3162 Skipping: 2712 Skipping: 2904 Skipping: 191 Skipping: 678 Skipping: 1824 Skipping: 261 Skipping: 1061 Skipping: 2873 Skipping: 645 Skipping: 1828 Skipping: 2160 Skipping: 1995 Skipping: 2299 Skipping: 2473 Skipping: 3094 Skipping: 0 Skipping: 159 Skipping: 2025 Skipping: 1335 Skipping: 1278 Skipping: 1912 Skipping: 204 Skipping: 1700 Skipping: 770 Skipping: 2246 Skipping: 2593 Skipping: 341 Skipping: 2971 Skipping: 534 Skipping: 60 Skipping: 1645 Skipping: 2779 Skipping: 1710 Skipping: 3551 Skipping: 13 Skipping: 874 Skipping: 58 Skipping: 2938 Skipping: 3091 Skipping: 9 Skipping: 2767 Skipping: 2164 Skipping: 2507 Skipping: 400 Skipping: 780 Skipping: 487 Skipping: 2491 Skipping: 2659 Skipping: 813 Skipping: 1238 Skipping: 2820 Skipping: 746 Skipping: 410 Skipping: 1948 Skipping: 1624 Skipping: 2570 Skipping: 333 Skipping: 89 Skipping: 1125 Skipping: 1855 Skipping: 474 Skipping: 1050 Skipping: 546 Skipping: 2677 Skipping: 2133 Skipping: 3287 Skipping: 2641 Skipping: 1421 Skipping: 471 Skipping: 632 Processing complete for SPARTQA. 0 new answers saved to /Users/log/Github/textual_grounding/logan/results/final/VanillaCoT/SPARTQA/llama3.1405b/zero_shot_vanilla_cot_None_SPARTQA_llama3.1405b.csv.\n",
      "------Processing dataset: logical_deduction_seven_objects-------\n",
      "Already answered IDs: {0, 1, 2, 3, 4, 5, 6, 7, 8, 9, 10, 11, 12, 13, 14, 15, 16, 17, 18, 19, 20, 21, 22, 23, 24, 25, 26, 27, 28, 29, 30, 31, 32, 33, 34, 35, 36, 37, 38, 39, 40, 41, 42, 43, 44, 45, 46, 47, 48, 49, 50, 51, 52, 53, 54, 55, 56, 57, 58, 59, 60, 61, 62, 63, 64, 65, 66, 67, 68, 69, 70, 71, 72, 73, 74, 75, 76, 77, 78, 79, 80, 81, 82, 83, 84, 85, 86, 87, 88, 89, 90, 91, 92, 93, 94, 95, 96, 97, 98, 99, 100, 101, 102, 103, 104, 105, 106, 107, 108, 109, 110, 111, 112, 113, 114, 115, 116, 117, 118, 119, 120, 121, 122, 123, 124, 125, 126, 127, 128, 129, 130, 131, 132, 133, 134, 135, 136, 137, 138, 139, 140, 141, 142, 143, 144, 145, 146, 147, 148, 149, 150, 151, 152, 153, 154, 155, 156, 157, 158, 159, 160, 161, 162, 163, 164, 165, 166, 167, 168, 169, 170, 171, 172, 173, 174, 175, 176, 177, 178, 179, 180, 181, 182, 183, 184, 185, 186, 187, 188, 189, 190, 191, 192, 193, 194, 195, 196, 197, 198, 199, 200, 201, 202, 203, 204, 205, 206, 207, 208, 209, 210, 211, 212, 213, 214, 215, 216, 217, 218, 219, 220, 221, 222, 223, 224, 225, 226, 227, 228, 229, 230, 231, 232, 233, 234, 235, 236, 237, 238, 239, 240, 241, 242, 243, 244, 245, 246, 247, 248, 249}\n"
     ]
    },
    {
     "name": "stderr",
     "output_type": "stream",
     "text": [
      "100%|██████████| 250/250 [00:00<00:00, 972705.01it/s]\n"
     ]
    },
    {
     "name": "stdout",
     "output_type": "stream",
     "text": [
      "Skipping: 0 Skipping: 1 Skipping: 2 Skipping: 3 Skipping: 4 Skipping: 5 Skipping: 6 Skipping: 7 Skipping: 8 Skipping: 9 Skipping: 10 Skipping: 11 Skipping: 12 Skipping: 13 Skipping: 14 Skipping: 15 Skipping: 16 Skipping: 17 Skipping: 18 Skipping: 19 Skipping: 20 Skipping: 21 Skipping: 22 Skipping: 23 Skipping: 24 Skipping: 25 Skipping: 26 Skipping: 27 Skipping: 28 Skipping: 29 Skipping: 30 Skipping: 31 Skipping: 32 Skipping: 33 Skipping: 34 Skipping: 35 Skipping: 36 Skipping: 37 Skipping: 38 Skipping: 39 Skipping: 40 Skipping: 41 Skipping: 42 Skipping: 43 Skipping: 44 Skipping: 45 Skipping: 46 Skipping: 47 Skipping: 48 Skipping: 49 Skipping: 50 Skipping: 51 Skipping: 52 Skipping: 53 Skipping: 54 Skipping: 55 Skipping: 56 Skipping: 57 Skipping: 58 Skipping: 59 Skipping: 60 Skipping: 61 Skipping: 62 Skipping: 63 Skipping: 64 Skipping: 65 Skipping: 66 Skipping: 67 Skipping: 68 Skipping: 69 Skipping: 70 Skipping: 71 Skipping: 72 Skipping: 73 Skipping: 74 Skipping: 75 Skipping: 76 Skipping: 77 Skipping: 78 Skipping: 79 Skipping: 80 Skipping: 81 Skipping: 82 Skipping: 83 Skipping: 84 Skipping: 85 Skipping: 86 Skipping: 87 Skipping: 88 Skipping: 89 Skipping: 90 Skipping: 91 Skipping: 92 Skipping: 93 Skipping: 94 Skipping: 95 Skipping: 96 Skipping: 97 Skipping: 98 Skipping: 99 Skipping: 100 Skipping: 101 Skipping: 102 Skipping: 103 Skipping: 104 Skipping: 105 Skipping: 106 Skipping: 107 Skipping: 108 Skipping: 109 Skipping: 110 Skipping: 111 Skipping: 112 Skipping: 113 Skipping: 114 Skipping: 115 Skipping: 116 Skipping: 117 Skipping: 118 Skipping: 119 Skipping: 120 Skipping: 121 Skipping: 122 Skipping: 123 Skipping: 124 Skipping: 125 Skipping: 126 Skipping: 127 Skipping: 128 Skipping: 129 Skipping: 130 Skipping: 131 Skipping: 132 Skipping: 133 Skipping: 134 Skipping: 135 Skipping: 136 Skipping: 137 Skipping: 138 Skipping: 139 Skipping: 140 Skipping: 141 Skipping: 142 Skipping: 143 Skipping: 144 Skipping: 145 Skipping: 146 Skipping: 147 Skipping: 148 Skipping: 149 Skipping: 150 Skipping: 151 Skipping: 152 Skipping: 153 Skipping: 154 Skipping: 155 Skipping: 156 Skipping: 157 Skipping: 158 Skipping: 159 Skipping: 160 Skipping: 161 Skipping: 162 Skipping: 163 Skipping: 164 Skipping: 165 Skipping: 166 Skipping: 167 Skipping: 168 Skipping: 169 Skipping: 170 Skipping: 171 Skipping: 172 Skipping: 173 Skipping: 174 Skipping: 175 Skipping: 176 Skipping: 177 Skipping: 178 Skipping: 179 Skipping: 180 Skipping: 181 Skipping: 182 Skipping: 183 Skipping: 184 Skipping: 185 Skipping: 186 Skipping: 187 Skipping: 188 Skipping: 189 Skipping: 190 Skipping: 191 Skipping: 192 Skipping: 193 Skipping: 194 Skipping: 195 Skipping: 196 Skipping: 197 Skipping: 198 Skipping: 199 Skipping: 200 Skipping: 201 Skipping: 202 Skipping: 203 Skipping: 204 Skipping: 205 Skipping: 206 Skipping: 207 Skipping: 208 Skipping: 209 Skipping: 210 Skipping: 211 Skipping: 212 Skipping: 213 Skipping: 214 Skipping: 215 Skipping: 216 Skipping: 217 Skipping: 218 Skipping: 219 Skipping: 220 Skipping: 221 Skipping: 222 Skipping: 223 Skipping: 224 Skipping: 225 Skipping: 226 Skipping: 227 Skipping: 228 Skipping: 229 Skipping: 230 Skipping: 231 Skipping: 232 Skipping: 233 Skipping: 234 Skipping: 235 Skipping: 236 Skipping: 237 Skipping: 238 Skipping: 239 Skipping: 240 Skipping: 241 Skipping: 242 Skipping: 243 Skipping: 244 Skipping: 245 Skipping: 246 Skipping: 247 Skipping: 248 Skipping: 249 Processing complete for logical_deduction_seven_objects. 0 new answers saved to /Users/log/Github/textual_grounding/logan/results/final/VanillaCoT/logical_deduction_seven_objects/llama3.1405b/zero_shot_vanilla_cot_None_logical_deduction_seven_objects_llama3.1405b.csv.\n",
      "------Processing dataset: reasoning_about_colored_objects-------\n",
      "Already answered IDs: {0, 1, 2, 3, 4, 5, 6, 7, 8, 9, 10, 11, 12, 13, 14, 15, 16, 17, 18, 19, 20, 21, 22, 23, 24, 25, 26, 27, 28, 29, 30, 31, 32, 33, 34, 35, 36, 37, 38, 39, 40, 41, 42, 43, 44, 45, 46, 47, 48, 49, 50, 51, 52, 53, 54, 55, 56, 57, 58, 59, 60, 61, 62, 63, 64, 65, 66, 67, 68, 69, 70, 71, 72, 73, 74, 75, 76, 77, 78, 79, 80, 81, 82, 83, 84, 85, 86, 87, 88, 89, 90, 91, 92, 93, 94, 95, 96, 97, 98, 99, 100, 101, 102, 103, 104, 105, 106, 107, 108, 109, 110, 111, 112, 113, 114, 115, 116, 117, 118, 119, 120, 121, 122, 123, 124, 125, 126, 127, 128, 129, 130, 131, 132, 133, 134, 135, 136, 137, 138, 139, 140, 141, 142, 143, 144, 145, 146, 147, 148, 149, 150, 151, 152, 153, 154, 155, 156, 157, 158, 159, 160, 161, 162, 163, 164, 165, 166, 167, 168, 169, 170, 171, 172, 173, 174, 175, 176, 177, 178, 179, 180, 181, 182, 183, 184, 185, 186, 187, 188, 189, 190, 191, 192, 193, 194, 195, 196, 197, 198, 199, 200, 201, 202, 203, 204, 205, 206, 207, 208, 209, 210, 211, 212, 213, 214, 215, 216, 217, 218, 219, 220, 221, 222, 223, 224, 225, 226, 227, 228, 229, 230, 231, 232, 233, 234, 235, 236, 237, 238, 239, 240, 241, 242, 243, 244, 245, 246, 247, 248, 249}\n"
     ]
    },
    {
     "name": "stderr",
     "output_type": "stream",
     "text": [
      "100%|██████████| 250/250 [00:00<00:00, 648069.22it/s]"
     ]
    },
    {
     "name": "stdout",
     "output_type": "stream",
     "text": [
      "Skipping: 0 Skipping: 1 Skipping: 2 Skipping: 3 Skipping: 4 Skipping: 5 Skipping: 6 Skipping: 7 Skipping: 8 Skipping: 9 Skipping: 10 Skipping: 11 Skipping: 12 Skipping: 13 Skipping: 14 Skipping: 15 Skipping: 16 Skipping: 17 Skipping: 18 Skipping: 19 Skipping: 20 Skipping: 21 Skipping: 22 Skipping: 23 Skipping: 24 Skipping: 25 Skipping: 26 Skipping: 27 Skipping: 28 Skipping: 29 Skipping: 30 Skipping: 31 Skipping: 32 Skipping: 33 Skipping: 34 Skipping: 35 Skipping: 36 Skipping: 37 Skipping: 38 Skipping: 39 Skipping: 40 Skipping: 41 Skipping: 42 Skipping: 43 Skipping: 44 Skipping: 45 Skipping: 46 Skipping: 47 Skipping: 48 Skipping: 49 Skipping: 50 Skipping: 51 Skipping: 52 Skipping: 53 Skipping: 54 Skipping: 55 Skipping: 56 Skipping: 57 Skipping: 58 Skipping: 59 Skipping: 60 Skipping: 61 Skipping: 62 Skipping: 63 Skipping: 64 Skipping: 65 Skipping: 66 Skipping: 67 Skipping: 68 Skipping: 69 Skipping: 70 Skipping: 71 Skipping: 72 Skipping: 73 Skipping: 74 Skipping: 75 Skipping: 76 Skipping: 77 Skipping: 78 Skipping: 79 Skipping: 80 Skipping: 81 Skipping: 82 Skipping: 83 Skipping: 84 Skipping: 85 Skipping: 86 Skipping: 87 Skipping: 88 Skipping: 89 Skipping: 90 Skipping: 91 Skipping: 92 Skipping: 93 Skipping: 94 Skipping: 95 Skipping: 96 Skipping: 97 Skipping: 98 Skipping: 99 Skipping: 100 Skipping: 101 Skipping: 102 Skipping: 103 Skipping: 104 Skipping: 105 Skipping: 106 Skipping: 107 Skipping: 108 Skipping: 109 Skipping: 110 Skipping: 111 Skipping: 112 Skipping: 113 Skipping: 114 Skipping: 115 Skipping: 116 Skipping: 117 Skipping: 118 Skipping: 119 Skipping: 120 Skipping: 121 Skipping: 122 Skipping: 123 Skipping: 124 Skipping: 125 Skipping: 126 Skipping: 127 Skipping: 128 Skipping: 129 Skipping: 130 Skipping: 131 Skipping: 132 Skipping: 133 Skipping: 134 Skipping: 135 Skipping: 136 Skipping: 137 Skipping: 138 Skipping: 139 Skipping: 140 Skipping: 141 Skipping: 142 Skipping: 143 Skipping: 144 Skipping: 145 Skipping: 146 Skipping: 147 Skipping: 148 Skipping: 149 Skipping: 150 Skipping: 151 Skipping: 152 Skipping: 153 Skipping: 154 Skipping: 155 Skipping: 156 Skipping: 157 Skipping: 158 Skipping: 159 Skipping: 160 Skipping: 161 Skipping: 162 Skipping: 163 Skipping: 164 Skipping: 165 Skipping: 166 Skipping: 167 Skipping: 168 Skipping: 169 Skipping: 170 Skipping: 171 Skipping: 172 Skipping: 173 Skipping: 174 Skipping: 175 Skipping: 176 Skipping: 177 Skipping: 178 Skipping: 179 Skipping: 180 Skipping: 181 Skipping: 182 Skipping: 183 Skipping: 184 Skipping: 185 Skipping: 186 Skipping: 187 Skipping: 188 Skipping: 189 Skipping: 190 Skipping: 191 Skipping: 192 Skipping: 193 Skipping: 194 Skipping: 195 Skipping: 196 Skipping: 197 Skipping: 198 Skipping: 199 Skipping: 200 Skipping: 201 Skipping: 202 Skipping: 203 Skipping: 204 Skipping: 205 Skipping: 206 Skipping: 207 Skipping: 208 Skipping: 209 Skipping: 210 Skipping: 211 Skipping: 212 Skipping: 213 Skipping: 214 Skipping: 215 Skipping: 216 Skipping: 217 Skipping: 218 Skipping: 219 Skipping: 220 Skipping: 221 Skipping: 222 Skipping: 223 Skipping: 224 Skipping: 225 Skipping: 226 Skipping: 227 Skipping: 228 Skipping: 229 Skipping: 230 Skipping: 231 Skipping: 232 Skipping: 233 Skipping: 234 Skipping: 235 Skipping: 236 Skipping: 237 Skipping: 238 Skipping: 239 Skipping: 240 Skipping: 241 Skipping: 242 Skipping: 243 Skipping: 244 Skipping: 245 Skipping: 246 Skipping: 247 Skipping: 248 Skipping: 249 Processing complete for reasoning_about_colored_objects. 0 new answers saved to /Users/log/Github/textual_grounding/logan/results/final/VanillaCoT/reasoning_about_colored_objects/llama3.1405b/zero_shot_vanilla_cot_None_reasoning_about_colored_objects_llama3.1405b.csv.\n"
     ]
    },
    {
     "name": "stderr",
     "output_type": "stream",
     "text": [
      "\n"
     ]
    }
   ],
   "source": [
    "llm_model = 'llama3.1405b'\n",
    "project_root = '/Users/log/Github/textual_grounding/'\n",
    "prompt_type = 'zero_shot_vanilla_cot'\n",
    "few_shot_txt = None\n",
    "sample_size = 400\n",
    "\n",
    "run_model(llm_model, prompt_type, few_shot_txt, sample_size, project_root)"
   ]
  },
  {
   "cell_type": "markdown",
   "metadata": {},
   "source": [
    "## Batch"
   ]
  },
  {
   "cell_type": "code",
   "execution_count": 31,
   "metadata": {},
   "outputs": [
    {
     "name": "stderr",
     "output_type": "stream",
     "text": [
      "2024-11-10 17:46:09,175 - INFO - Batch input file created at: /Users/log/Github/textual_grounding/logan/batch_files/VanillaCoT/MultiArith/claude-3-5-sonnet-20240620/zero_shot_vanilla_cot_None_MultiArith_claude-3-5-sonnet-20240620.jsonl\n"
     ]
    },
    {
     "name": "stdout",
     "output_type": "stream",
     "text": [
      "[{'custom_id': '397', 'params': {'model': 'claude-3-5-sonnet-20240620', 'max_tokens': 1024, 'messages': [{'role': 'user', 'content': \"Debby's class is going on a field trip to the zoo. If each van can hold 9 people and there are 40 students and 14 adults going, how many vans will they need?\\n\\nThink through your answer step by step. Put the concise form of your final answer in curly brackets e.g. {A}, {True} or {3.0}.\\n\"}]}}, {'custom_id': '433', 'params': {'model': 'claude-3-5-sonnet-20240620', 'max_tokens': 1024, 'messages': [{'role': 'user', 'content': 'John had 5 action figures, but needed 7 total for a complete collection. If each one costs $5, how much money would he need to finish his collection?\\n\\nThink through your answer step by step. Put the concise form of your final answer in curly brackets e.g. {A}, {True} or {3.0}.\\n'}]}}]\n",
      "\n"
     ]
    },
    {
     "name": "stderr",
     "output_type": "stream",
     "text": [
      "2024-11-10 17:46:09,633 - INFO - HTTP Request: POST https://api.anthropic.com/v1/messages/batches?beta=true \"HTTP/1.1 200 OK\"\n",
      "2024-11-10 17:46:09,637 - INFO - Created batch with ID: msgbatch_014xdLrN6YFLTrqHmYTxghjf\n",
      "2024-11-10 17:46:09,767 - INFO - HTTP Request: GET https://api.anthropic.com/v1/messages/batches/msgbatch_014xdLrN6YFLTrqHmYTxghjf?beta=true \"HTTP/1.1 200 OK\"\n"
     ]
    },
    {
     "ename": "KeyboardInterrupt",
     "evalue": "",
     "output_type": "error",
     "traceback": [
      "\u001b[0;31m---------------------------------------------------------------------------\u001b[0m",
      "\u001b[0;31mKeyboardInterrupt\u001b[0m                         Traceback (most recent call last)",
      "Cell \u001b[0;32mIn[31], line 55\u001b[0m\n\u001b[1;32m     45\u001b[0m     prompts\u001b[38;5;241m.\u001b[39mappend(prompt)\n\u001b[1;32m     47\u001b[0m \u001b[38;5;66;03m# tasks = batch_agents.prepare_batch_input(\u001b[39;00m\n\u001b[1;32m     48\u001b[0m \u001b[38;5;66;03m#     llm_model=llm_model,\u001b[39;00m\n\u001b[1;32m     49\u001b[0m \u001b[38;5;66;03m#     ids=ids,\u001b[39;00m\n\u001b[0;32m   (...)\u001b[0m\n\u001b[1;32m     53\u001b[0m \n\u001b[1;32m     54\u001b[0m \u001b[38;5;66;03m#Execute the batch processing with GPT-4 and save results\u001b[39;00m\n\u001b[0;32m---> 55\u001b[0m batch_agents\u001b[38;5;241m.\u001b[39mbatch_api_agent(\n\u001b[1;32m     56\u001b[0m     llm_model\u001b[38;5;241m=\u001b[39mllm_model,\n\u001b[1;32m     57\u001b[0m     ids\u001b[38;5;241m=\u001b[39mids,\n\u001b[1;32m     58\u001b[0m     prompts\u001b[38;5;241m=\u001b[39mprompts,\n\u001b[1;32m     59\u001b[0m     batch_output_file\u001b[38;5;241m=\u001b[39mbatch_output_file,\n\u001b[1;32m     60\u001b[0m     batch_results_file\u001b[38;5;241m=\u001b[39mbatch_results_path\n\u001b[1;32m     61\u001b[0m )\n",
      "File \u001b[0;32m~/Github/textual_grounding/agents/batch_api_agents.py:264\u001b[0m, in \u001b[0;36mbatch_api_agent\u001b[0;34m(llm_model, ids, prompts, temperature, max_tokens, batch_output_file, batch_results_file, poll_interval, max_wait_time)\u001b[0m\n\u001b[1;32m    261\u001b[0m \u001b[38;5;28;01melif\u001b[39;00m message_batch\u001b[38;5;241m.\u001b[39mprocessing_status \u001b[38;5;241m==\u001b[39m \u001b[38;5;124m\"\u001b[39m\u001b[38;5;124mfailed\u001b[39m\u001b[38;5;124m\"\u001b[39m:\n\u001b[1;32m    262\u001b[0m     \u001b[38;5;28;01mraise\u001b[39;00m \u001b[38;5;167;01mException\u001b[39;00m(\u001b[38;5;124mf\u001b[39m\u001b[38;5;124m\"\u001b[39m\u001b[38;5;124mBatch processing failed: \u001b[39m\u001b[38;5;132;01m{\u001b[39;00mmessage_batch\u001b[38;5;241m.\u001b[39merror\u001b[38;5;132;01m}\u001b[39;00m\u001b[38;5;124m\"\u001b[39m)\n\u001b[0;32m--> 264\u001b[0m time\u001b[38;5;241m.\u001b[39msleep(poll_interval)\n\u001b[1;32m    265\u001b[0m wait_time \u001b[38;5;241m+\u001b[39m\u001b[38;5;241m=\u001b[39m poll_interval\n\u001b[1;32m    266\u001b[0m logging\u001b[38;5;241m.\u001b[39minfo(\u001b[38;5;124mf\u001b[39m\u001b[38;5;124m\"\u001b[39m\u001b[38;5;124mBatch Status: \u001b[39m\u001b[38;5;132;01m{\u001b[39;00mmessage_batch\u001b[38;5;241m.\u001b[39mprocessing_status\u001b[38;5;132;01m}\u001b[39;00m\u001b[38;5;124m - Time elapsed: \u001b[39m\u001b[38;5;132;01m{\u001b[39;00mwait_time\u001b[38;5;132;01m}\u001b[39;00m\u001b[38;5;124ms\u001b[39m\u001b[38;5;124m\"\u001b[39m)\n",
      "\u001b[0;31mKeyboardInterrupt\u001b[0m: "
     ]
    }
   ],
   "source": [
    "import os\n",
    "import json\n",
    "from pathlib import Path\n",
    "from agents.batch_api_agents import prepare_batch_input, batch_api_agent\n",
    "from openai import OpenAI\n",
    "import importlib\n",
    "import agents.batch_api_agents as batch_agents\n",
    "\n",
    "# Reload the module to ensure the latest changes are loaded\n",
    "importlib.reload(batch_agents)\n",
    "\n",
    "llm_model = 'claude-3-5-sonnet-20240620'\n",
    "project_root = '/Users/log/Github/textual_grounding/'\n",
    "prompt_type = 'zero_shot_vanilla_cot'\n",
    "few_shot_txt = None\n",
    "sample_size = 2\n",
    "json_datasets = ['logical_deduction_seven_objects','reasoning_about_colored_objects']\n",
    "jsonl_datasets = ['GSM_Plus', 'MultiArith', 'SVAMP', 'p_GSM8K', 'StrategyQA', 'commonsenseQA','SPARTQA']\n",
    "all_datasets = jsonl_datasets + json_datasets\n",
    "all_datasets = ['MultiArith']\n",
    "for dataset in all_datasets:\n",
    "    if dataset in json_datasets:\n",
    "        data_path = os.path.join(project_root, 'data', dataset, 'test.json')\n",
    "    else:\n",
    "        data_path = os.path.join(project_root, 'data', dataset, 'test.jsonl')\n",
    "        \n",
    "    save_dir = os.path.join(project_root, 'logan/results/final/VanillaCoT', dataset, f'{llm_model}')\n",
    "    batch_dir = os.path.join(project_root, 'logan/batch_files/VanillaCoT', dataset, f'{llm_model}')\n",
    "    os.makedirs(save_dir, exist_ok=True)  # Ensure the directory exists\n",
    "    os.makedirs(batch_dir, exist_ok=True)  # Ensure the directory exists\n",
    "\n",
    "    batch_results_path = os.path.join(save_dir, f'{prompt_type}_{few_shot_txt}_{dataset}_{llm_model}.jsonl')   \n",
    "    batch_output_file = os.path.join(batch_dir, f'{prompt_type}_{few_shot_txt}_{dataset}_{llm_model}.jsonl')   \n",
    "\n",
    "    ids, questions = load_data_size_specific(data_path, sample_size=sample_size)\n",
    "    if few_shot_txt:\n",
    "        with open(fewshot_prompt_path, 'r') as file:\n",
    "            few_shot_prompt = file.read()\n",
    "    else:\n",
    "        few_shot_prompt = \"\"\n",
    "    prompts = []\n",
    "    for question in questions:\n",
    "        prompt = get_prompt(prompt_type, few_shot_prompt, question)\n",
    "        # print(prompt)\n",
    "        prompts.append(prompt)\n",
    "\n",
    "    # tasks = batch_agents.prepare_batch_input(\n",
    "    #     llm_model=llm_model,\n",
    "    #     ids=ids,\n",
    "    #     prompts=prompts,\n",
    "    #     batch_output_file=batch_output_file\n",
    "    # )\n",
    "\n",
    "    #Execute the batch processing with GPT-4 and save results\n",
    "    batch_agents.batch_api_agent(\n",
    "        llm_model=llm_model,\n",
    "        ids=ids,\n",
    "        prompts=prompts,\n",
    "        batch_output_file=batch_output_file,\n",
    "        batch_results_file=batch_results_path\n",
    "    )\n"
   ]
  },
  {
   "cell_type": "code",
   "execution_count": null,
   "metadata": {},
   "outputs": [],
   "source": []
  }
 ],
 "metadata": {
  "kernelspec": {
   "display_name": "base",
   "language": "python",
   "name": "python3"
  },
  "language_info": {
   "codemirror_mode": {
    "name": "ipython",
    "version": 3
   },
   "file_extension": ".py",
   "mimetype": "text/x-python",
   "name": "python",
   "nbconvert_exporter": "python",
   "pygments_lexer": "ipython3",
   "version": "3.12.4"
  }
 },
 "nbformat": 4,
 "nbformat_minor": 2
}
